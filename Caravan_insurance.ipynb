{
 "cells": [
  {
   "cell_type": "code",
   "execution_count": 1,
   "metadata": {
    "colab": {
     "base_uri": "https://localhost:8080/",
     "height": 35
    },
    "colab_type": "code",
    "id": "_X313H2AIkMT",
    "outputId": "dd85647a-5a8f-4b1e-f17c-d96a033e1565"
   },
   "outputs": [
    {
     "name": "stdout",
     "output_type": "stream",
     "text": [
      "Drive already mounted at /content/drive; to attempt to forcibly remount, call drive.mount(\"/content/drive\", force_remount=True).\n"
     ]
    }
   ],
   "source": [
    "from google.colab import drive\n",
    "drive.mount('/content/drive')"
   ]
  },
  {
   "cell_type": "code",
   "execution_count": 0,
   "metadata": {
    "colab": {},
    "colab_type": "code",
    "id": "Zf7GS_Y4Iwq2"
   },
   "outputs": [],
   "source": [
    "import os"
   ]
  },
  {
   "cell_type": "code",
   "execution_count": 6,
   "metadata": {
    "colab": {
     "base_uri": "https://localhost:8080/",
     "height": 54
    },
    "colab_type": "code",
    "id": "j5Fbc0UOIPGg",
    "outputId": "0511b730-1284-4e79-dd87-d60dcb1e2c35"
   },
   "outputs": [
    {
     "name": "stdout",
     "output_type": "stream",
     "text": [
      "(5822, 86)\n"
     ]
    },
    {
     "data": {
      "text/plain": [
       "(4000, 85)"
      ]
     },
     "execution_count": 6,
     "metadata": {},
     "output_type": "execute_result"
    }
   ],
   "source": [
    "import pandas as pd\n",
    "import numpy as np\n",
    "import seaborn as sns\n",
    "import matplotlib.pyplot as plt\n",
    "%matplotlib inline\n",
    "\n",
    "#reading the training data\n",
    "cr_training = pd.read_csv(r\"D:\\Edvancer Python Projects\\Project2/carvan_train.csv\")\n",
    "\n",
    "#reading the training data\n",
    "cr_testing = pd.read_csv(r\"D:\\Edvancer Python Projects\\Project2/carvan_test.csv\")\n",
    "\n",
    "print(cr_training.shape)\n",
    "\n",
    "cr_testing.shape"
   ]
  },
  {
   "cell_type": "code",
   "execution_count": 7,
   "metadata": {
    "colab": {
     "base_uri": "https://localhost:8080/",
     "height": 256
    },
    "colab_type": "code",
    "id": "rXcNsGcHIPHA",
    "outputId": "8b15956b-59ad-4f8d-b561-17710846cb5f"
   },
   "outputs": [
    {
     "data": {
      "text/html": [
       "<div>\n",
       "<style scoped>\n",
       "    .dataframe tbody tr th:only-of-type {\n",
       "        vertical-align: middle;\n",
       "    }\n",
       "\n",
       "    .dataframe tbody tr th {\n",
       "        vertical-align: top;\n",
       "    }\n",
       "\n",
       "    .dataframe thead th {\n",
       "        text-align: right;\n",
       "    }\n",
       "</style>\n",
       "<table border=\"1\" class=\"dataframe\">\n",
       "  <thead>\n",
       "    <tr style=\"text-align: right;\">\n",
       "      <th></th>\n",
       "      <th>V1</th>\n",
       "      <th>V2</th>\n",
       "      <th>V3</th>\n",
       "      <th>V4</th>\n",
       "      <th>V5</th>\n",
       "      <th>V6</th>\n",
       "      <th>V7</th>\n",
       "      <th>V8</th>\n",
       "      <th>V9</th>\n",
       "      <th>V10</th>\n",
       "      <th>...</th>\n",
       "      <th>V77</th>\n",
       "      <th>V78</th>\n",
       "      <th>V79</th>\n",
       "      <th>V80</th>\n",
       "      <th>V81</th>\n",
       "      <th>V82</th>\n",
       "      <th>V83</th>\n",
       "      <th>V84</th>\n",
       "      <th>V85</th>\n",
       "      <th>V86</th>\n",
       "    </tr>\n",
       "  </thead>\n",
       "  <tbody>\n",
       "    <tr>\n",
       "      <th>0</th>\n",
       "      <td>33</td>\n",
       "      <td>1</td>\n",
       "      <td>3</td>\n",
       "      <td>2</td>\n",
       "      <td>8</td>\n",
       "      <td>0</td>\n",
       "      <td>5</td>\n",
       "      <td>1</td>\n",
       "      <td>3</td>\n",
       "      <td>7</td>\n",
       "      <td>...</td>\n",
       "      <td>0</td>\n",
       "      <td>0</td>\n",
       "      <td>0</td>\n",
       "      <td>1</td>\n",
       "      <td>0</td>\n",
       "      <td>0</td>\n",
       "      <td>0</td>\n",
       "      <td>0</td>\n",
       "      <td>0</td>\n",
       "      <td>0</td>\n",
       "    </tr>\n",
       "    <tr>\n",
       "      <th>1</th>\n",
       "      <td>37</td>\n",
       "      <td>1</td>\n",
       "      <td>2</td>\n",
       "      <td>2</td>\n",
       "      <td>8</td>\n",
       "      <td>1</td>\n",
       "      <td>4</td>\n",
       "      <td>1</td>\n",
       "      <td>4</td>\n",
       "      <td>6</td>\n",
       "      <td>...</td>\n",
       "      <td>0</td>\n",
       "      <td>0</td>\n",
       "      <td>0</td>\n",
       "      <td>1</td>\n",
       "      <td>0</td>\n",
       "      <td>0</td>\n",
       "      <td>0</td>\n",
       "      <td>0</td>\n",
       "      <td>0</td>\n",
       "      <td>0</td>\n",
       "    </tr>\n",
       "    <tr>\n",
       "      <th>2</th>\n",
       "      <td>37</td>\n",
       "      <td>1</td>\n",
       "      <td>2</td>\n",
       "      <td>2</td>\n",
       "      <td>8</td>\n",
       "      <td>0</td>\n",
       "      <td>4</td>\n",
       "      <td>2</td>\n",
       "      <td>4</td>\n",
       "      <td>3</td>\n",
       "      <td>...</td>\n",
       "      <td>0</td>\n",
       "      <td>0</td>\n",
       "      <td>0</td>\n",
       "      <td>1</td>\n",
       "      <td>0</td>\n",
       "      <td>0</td>\n",
       "      <td>0</td>\n",
       "      <td>0</td>\n",
       "      <td>0</td>\n",
       "      <td>0</td>\n",
       "    </tr>\n",
       "    <tr>\n",
       "      <th>3</th>\n",
       "      <td>9</td>\n",
       "      <td>1</td>\n",
       "      <td>3</td>\n",
       "      <td>3</td>\n",
       "      <td>3</td>\n",
       "      <td>2</td>\n",
       "      <td>3</td>\n",
       "      <td>2</td>\n",
       "      <td>4</td>\n",
       "      <td>5</td>\n",
       "      <td>...</td>\n",
       "      <td>0</td>\n",
       "      <td>0</td>\n",
       "      <td>0</td>\n",
       "      <td>1</td>\n",
       "      <td>0</td>\n",
       "      <td>0</td>\n",
       "      <td>0</td>\n",
       "      <td>0</td>\n",
       "      <td>0</td>\n",
       "      <td>0</td>\n",
       "    </tr>\n",
       "    <tr>\n",
       "      <th>4</th>\n",
       "      <td>40</td>\n",
       "      <td>1</td>\n",
       "      <td>4</td>\n",
       "      <td>2</td>\n",
       "      <td>10</td>\n",
       "      <td>1</td>\n",
       "      <td>4</td>\n",
       "      <td>1</td>\n",
       "      <td>4</td>\n",
       "      <td>7</td>\n",
       "      <td>...</td>\n",
       "      <td>0</td>\n",
       "      <td>0</td>\n",
       "      <td>0</td>\n",
       "      <td>1</td>\n",
       "      <td>0</td>\n",
       "      <td>0</td>\n",
       "      <td>0</td>\n",
       "      <td>0</td>\n",
       "      <td>0</td>\n",
       "      <td>0</td>\n",
       "    </tr>\n",
       "  </tbody>\n",
       "</table>\n",
       "<p>5 rows × 86 columns</p>\n",
       "</div>"
      ],
      "text/plain": [
       "   V1  V2  V3  V4  V5  V6  V7  V8  V9  V10 ...   V77  V78  V79  V80  V81  V82  \\\n",
       "0  33   1   3   2   8   0   5   1   3    7 ...     0    0    0    1    0    0   \n",
       "1  37   1   2   2   8   1   4   1   4    6 ...     0    0    0    1    0    0   \n",
       "2  37   1   2   2   8   0   4   2   4    3 ...     0    0    0    1    0    0   \n",
       "3   9   1   3   3   3   2   3   2   4    5 ...     0    0    0    1    0    0   \n",
       "4  40   1   4   2  10   1   4   1   4    7 ...     0    0    0    1    0    0   \n",
       "\n",
       "   V83  V84  V85  V86  \n",
       "0    0    0    0    0  \n",
       "1    0    0    0    0  \n",
       "2    0    0    0    0  \n",
       "3    0    0    0    0  \n",
       "4    0    0    0    0  \n",
       "\n",
       "[5 rows x 86 columns]"
      ]
     },
     "execution_count": 7,
     "metadata": {},
     "output_type": "execute_result"
    }
   ],
   "source": [
    "cr_training.head()"
   ]
  },
  {
   "cell_type": "code",
   "execution_count": 8,
   "metadata": {
    "colab": {
     "base_uri": "https://localhost:8080/",
     "height": 35
    },
    "colab_type": "code",
    "id": "91TPCDf4IPHL",
    "outputId": "51b2ac26-4b26-4a40-97a4-a3824c00673e"
   },
   "outputs": [
    {
     "data": {
      "text/plain": [
       "['V1', 'V4', 'V5', 'V6', 'V44']"
      ]
     },
     "execution_count": 8,
     "metadata": {},
     "output_type": "execute_result"
    }
   ],
   "source": [
    "# This are all the categorical columns \n",
    "['V1','V4','V5','V6','V44'] "
   ]
  },
  {
   "cell_type": "code",
   "execution_count": 9,
   "metadata": {
    "colab": {
     "base_uri": "https://localhost:8080/",
     "height": 163
    },
    "colab_type": "code",
    "id": "J7aN8xMfIPHX",
    "outputId": "0e965c39-b9aa-4151-cd6d-1db480097406"
   },
   "outputs": [
    {
     "data": {
      "text/html": [
       "<div>\n",
       "<style scoped>\n",
       "    .dataframe tbody tr th:only-of-type {\n",
       "        vertical-align: middle;\n",
       "    }\n",
       "\n",
       "    .dataframe tbody tr th {\n",
       "        vertical-align: top;\n",
       "    }\n",
       "\n",
       "    .dataframe thead th {\n",
       "        text-align: right;\n",
       "    }\n",
       "</style>\n",
       "<table border=\"1\" class=\"dataframe\">\n",
       "  <thead>\n",
       "    <tr style=\"text-align: right;\">\n",
       "      <th>V1</th>\n",
       "      <th>8</th>\n",
       "      <th>33</th>\n",
       "      <th>3</th>\n",
       "      <th>38</th>\n",
       "      <th>39</th>\n",
       "      <th>36</th>\n",
       "      <th>12</th>\n",
       "      <th>1</th>\n",
       "      <th>13</th>\n",
       "      <th>6</th>\n",
       "      <th>...</th>\n",
       "      <th>26</th>\n",
       "      <th>27</th>\n",
       "      <th>28</th>\n",
       "      <th>21</th>\n",
       "      <th>18</th>\n",
       "      <th>17</th>\n",
       "      <th>16</th>\n",
       "      <th>15</th>\n",
       "      <th>40</th>\n",
       "      <th>19</th>\n",
       "    </tr>\n",
       "    <tr>\n",
       "      <th>V86</th>\n",
       "      <th></th>\n",
       "      <th></th>\n",
       "      <th></th>\n",
       "      <th></th>\n",
       "      <th></th>\n",
       "      <th></th>\n",
       "      <th></th>\n",
       "      <th></th>\n",
       "      <th></th>\n",
       "      <th></th>\n",
       "      <th></th>\n",
       "      <th></th>\n",
       "      <th></th>\n",
       "      <th></th>\n",
       "      <th></th>\n",
       "      <th></th>\n",
       "      <th></th>\n",
       "      <th></th>\n",
       "      <th></th>\n",
       "      <th></th>\n",
       "      <th></th>\n",
       "    </tr>\n",
       "  </thead>\n",
       "  <tbody>\n",
       "    <tr>\n",
       "      <th>0</th>\n",
       "      <td>288.0</td>\n",
       "      <td>764.0</td>\n",
       "      <td>224.0</td>\n",
       "      <td>316.0</td>\n",
       "      <td>309.0</td>\n",
       "      <td>209.0</td>\n",
       "      <td>95.0</td>\n",
       "      <td>111.0</td>\n",
       "      <td>166.0</td>\n",
       "      <td>107.0</td>\n",
       "      <td>...</td>\n",
       "      <td>47.0</td>\n",
       "      <td>49.0</td>\n",
       "      <td>25.0</td>\n",
       "      <td>15.0</td>\n",
       "      <td>19.0</td>\n",
       "      <td>9.0</td>\n",
       "      <td>16.0</td>\n",
       "      <td>5.0</td>\n",
       "      <td>71.0</td>\n",
       "      <td>3.0</td>\n",
       "    </tr>\n",
       "    <tr>\n",
       "      <th>1</th>\n",
       "      <td>51.0</td>\n",
       "      <td>46.0</td>\n",
       "      <td>25.0</td>\n",
       "      <td>23.0</td>\n",
       "      <td>19.0</td>\n",
       "      <td>16.0</td>\n",
       "      <td>16.0</td>\n",
       "      <td>13.0</td>\n",
       "      <td>13.0</td>\n",
       "      <td>12.0</td>\n",
       "      <td>...</td>\n",
       "      <td>1.0</td>\n",
       "      <td>1.0</td>\n",
       "      <td>0.0</td>\n",
       "      <td>0.0</td>\n",
       "      <td>0.0</td>\n",
       "      <td>0.0</td>\n",
       "      <td>0.0</td>\n",
       "      <td>0.0</td>\n",
       "      <td>0.0</td>\n",
       "      <td>0.0</td>\n",
       "    </tr>\n",
       "  </tbody>\n",
       "</table>\n",
       "<p>2 rows × 40 columns</p>\n",
       "</div>"
      ],
      "text/plain": [
       "V1      8      33     3      38     39     36    12     1      13     6  ...   \\\n",
       "V86                                                                      ...    \n",
       "0    288.0  764.0  224.0  316.0  309.0  209.0  95.0  111.0  166.0  107.0 ...    \n",
       "1     51.0   46.0   25.0   23.0   19.0   16.0  16.0   13.0   13.0   12.0 ...    \n",
       "\n",
       "V1     26    27    28    21    18   17    16   15    40   19  \n",
       "V86                                                           \n",
       "0    47.0  49.0  25.0  15.0  19.0  9.0  16.0  5.0  71.0  3.0  \n",
       "1     1.0   1.0   0.0   0.0   0.0  0.0   0.0  0.0   0.0  0.0  \n",
       "\n",
       "[2 rows x 40 columns]"
      ]
     },
     "execution_count": 9,
     "metadata": {},
     "output_type": "execute_result"
    }
   ],
   "source": [
    "k = cr_training.groupby(\"V1\")[\"V86\"].value_counts().unstack()\n",
    "k [1] = k[1].fillna(value = 0)\n",
    "k.sort_values(1,ascending= False).T\n",
    "# as we can see that most % CTR(Click Through Rate) are from \"Middle class families\" - 51\n",
    "#followed by then by Affluent young families"
   ]
  },
  {
   "cell_type": "code",
   "execution_count": 10,
   "metadata": {
    "colab": {
     "base_uri": "https://localhost:8080/",
     "height": 761
    },
    "colab_type": "code",
    "id": "X2MLGhIbIPHk",
    "outputId": "14ac91c8-6205-49c5-d923-7cf2027d196e"
   },
   "outputs": [
    {
     "data": {
      "text/plain": [
       "<seaborn.axisgrid.FacetGrid at 0x1efba95cf98>"
      ]
     },
     "execution_count": 10,
     "metadata": {},
     "output_type": "execute_result"
    },
    {
     "data": {
      "image/png": "[encoded data removed]",
      "text/plain": [
       "<Figure size 762.375x720 with 1 Axes>"
      ]
     },
     "metadata": {},
     "output_type": "display_data"
    }
   ],
   "source": [
    "#plt.figure(figsize=(30,9))\n",
    "sns.catplot(y=\"V1\", hue=\"V86\", kind=\"count\",height=10,\n",
    "            palette=\"pastel\", edgecolor=\".6\",\n",
    "            data=cr_training)"
   ]
  },
  {
   "cell_type": "markdown",
   "metadata": {
    "colab_type": "text",
    "id": "Qdzo_5sFIPHz"
   },
   "source": [
    "### This category V4 i.e the \"average age\" the %CTR for the age group 60-70   years is the maximum from those group there are actual 6% conversions"
   ]
  },
  {
   "cell_type": "markdown",
   "metadata": {
    "colab_type": "raw",
    "id": "IIRDi5BuIPH3"
   },
   "source": [
    "L1:\n",
    "\n",
    "1 20-30 years\n",
    "2 30-40 years\n",
    "3 40-50 years\n",
    "4 50-60 years\n",
    "5 60-70 years\n",
    "6 70-80 years"
   ]
  },
  {
   "cell_type": "code",
   "execution_count": 11,
   "metadata": {
    "colab": {
     "base_uri": "https://localhost:8080/",
     "height": 143
    },
    "colab_type": "code",
    "id": "Of8Dk1wTIPH6",
    "outputId": "a4fb6182-9c20-40b7-c3bc-0823ba9ada21"
   },
   "outputs": [
    {
     "data": {
      "text/html": [
       "<div>\n",
       "<style scoped>\n",
       "    .dataframe tbody tr th:only-of-type {\n",
       "        vertical-align: middle;\n",
       "    }\n",
       "\n",
       "    .dataframe tbody tr th {\n",
       "        vertical-align: top;\n",
       "    }\n",
       "\n",
       "    .dataframe thead th {\n",
       "        text-align: right;\n",
       "    }\n",
       "</style>\n",
       "<table border=\"1\" class=\"dataframe\">\n",
       "  <thead>\n",
       "    <tr style=\"text-align: right;\">\n",
       "      <th>V4</th>\n",
       "      <th>5</th>\n",
       "      <th>3</th>\n",
       "      <th>2</th>\n",
       "      <th>4</th>\n",
       "      <th>6</th>\n",
       "      <th>1</th>\n",
       "    </tr>\n",
       "    <tr>\n",
       "      <th>V86</th>\n",
       "      <th></th>\n",
       "      <th></th>\n",
       "      <th></th>\n",
       "      <th></th>\n",
       "      <th></th>\n",
       "      <th></th>\n",
       "    </tr>\n",
       "  </thead>\n",
       "  <tbody>\n",
       "    <tr>\n",
       "      <th>0</th>\n",
       "      <td>0.937824</td>\n",
       "      <td>0.939</td>\n",
       "      <td>0.940083</td>\n",
       "      <td>0.940354</td>\n",
       "      <td>0.966667</td>\n",
       "      <td>0.986486</td>\n",
       "    </tr>\n",
       "    <tr>\n",
       "      <th>1</th>\n",
       "      <td>0.062176</td>\n",
       "      <td>0.061</td>\n",
       "      <td>0.059917</td>\n",
       "      <td>0.059646</td>\n",
       "      <td>0.033333</td>\n",
       "      <td>0.013514</td>\n",
       "    </tr>\n",
       "  </tbody>\n",
       "</table>\n",
       "</div>"
      ],
      "text/plain": [
       "V4          5      3         2         4         6         1\n",
       "V86                                                         \n",
       "0    0.937824  0.939  0.940083  0.940354  0.966667  0.986486\n",
       "1    0.062176  0.061  0.059917  0.059646  0.033333  0.013514"
      ]
     },
     "execution_count": 11,
     "metadata": {},
     "output_type": "execute_result"
    }
   ],
   "source": [
    "k = cr_training.groupby(\"V4\")[\"V86\"].value_counts(normalize = True).unstack()\n",
    "k [1] = k[1].fillna(value = 0)\n",
    "k.sort_values(1,ascending= False).T"
   ]
  },
  {
   "cell_type": "code",
   "execution_count": 12,
   "metadata": {
    "colab": {
     "base_uri": "https://localhost:8080/",
     "height": 401
    },
    "colab_type": "code",
    "id": "xZhPngQPIPIH",
    "outputId": "39ebc040-dab8-425a-9256-74817f2537b6"
   },
   "outputs": [
    {
     "data": {
      "text/plain": [
       "<seaborn.axisgrid.FacetGrid at 0x1efca4e9358>"
      ]
     },
     "execution_count": 12,
     "metadata": {},
     "output_type": "execute_result"
    },
    {
     "data": {
      "image/png": "[encoded data removed]",
      "text/plain": [
       "<Figure size 402.375x360 with 1 Axes>"
      ]
     },
     "metadata": {},
     "output_type": "display_data"
    }
   ],
   "source": [
    "# Lets Visualize the above \n",
    "sns.catplot(y = \"V4\",data = cr_training, kind = \"count\",hue = \"V86\",height = 5)"
   ]
  },
  {
   "cell_type": "markdown",
   "metadata": {
    "colab_type": "text",
    "id": "6z3ZLJhrIPIY"
   },
   "source": [
    "### This category V5 i.e the \"Customer main type\" the CTR for \"Driven Growers\" is the maximum from those group 13%  are the actual conversion followed by \"Successful hedonists\" -  8%"
   ]
  },
  {
   "cell_type": "markdown",
   "metadata": {
    "colab_type": "raw",
    "id": "pX0N0z2qIPIc"
   },
   "source": [
    "L2:\n",
    "\n",
    "1 Successful hedonists\n",
    "2 Driven Growers\n",
    "3 Average Family\n",
    "4 Career Loners\n",
    "5 Living well\n",
    "6 Cruising Seniors\n",
    "7 Retired and Religeous\n",
    "8 Family with grown ups\n",
    "9 Conservative families\n",
    "10 Farmers"
   ]
  },
  {
   "cell_type": "code",
   "execution_count": 13,
   "metadata": {
    "colab": {
     "base_uri": "https://localhost:8080/",
     "height": 143
    },
    "colab_type": "code",
    "id": "nHh4b-4LIPIf",
    "outputId": "f957ce02-84b2-4f62-ce57-b61cb3050900"
   },
   "outputs": [
    {
     "data": {
      "text/html": [
       "<div>\n",
       "<style scoped>\n",
       "    .dataframe tbody tr th:only-of-type {\n",
       "        vertical-align: middle;\n",
       "    }\n",
       "\n",
       "    .dataframe tbody tr th {\n",
       "        vertical-align: top;\n",
       "    }\n",
       "\n",
       "    .dataframe thead th {\n",
       "        text-align: right;\n",
       "    }\n",
       "</style>\n",
       "<table border=\"1\" class=\"dataframe\">\n",
       "  <thead>\n",
       "    <tr style=\"text-align: right;\">\n",
       "      <th>V5</th>\n",
       "      <th>2</th>\n",
       "      <th>1</th>\n",
       "      <th>3</th>\n",
       "      <th>9</th>\n",
       "      <th>8</th>\n",
       "      <th>7</th>\n",
       "      <th>5</th>\n",
       "      <th>6</th>\n",
       "      <th>10</th>\n",
       "      <th>4</th>\n",
       "    </tr>\n",
       "    <tr>\n",
       "      <th>V86</th>\n",
       "      <th></th>\n",
       "      <th></th>\n",
       "      <th></th>\n",
       "      <th></th>\n",
       "      <th></th>\n",
       "      <th></th>\n",
       "      <th></th>\n",
       "      <th></th>\n",
       "      <th></th>\n",
       "      <th></th>\n",
       "    </tr>\n",
       "  </thead>\n",
       "  <tbody>\n",
       "    <tr>\n",
       "      <th>0</th>\n",
       "      <td>0.868526</td>\n",
       "      <td>0.913043</td>\n",
       "      <td>0.933409</td>\n",
       "      <td>0.937031</td>\n",
       "      <td>0.943058</td>\n",
       "      <td>0.963636</td>\n",
       "      <td>0.973638</td>\n",
       "      <td>0.980488</td>\n",
       "      <td>0.981884</td>\n",
       "      <td>1.0</td>\n",
       "    </tr>\n",
       "    <tr>\n",
       "      <th>1</th>\n",
       "      <td>0.131474</td>\n",
       "      <td>0.086957</td>\n",
       "      <td>0.066591</td>\n",
       "      <td>0.062969</td>\n",
       "      <td>0.056942</td>\n",
       "      <td>0.036364</td>\n",
       "      <td>0.026362</td>\n",
       "      <td>0.019512</td>\n",
       "      <td>0.018116</td>\n",
       "      <td>0.0</td>\n",
       "    </tr>\n",
       "  </tbody>\n",
       "</table>\n",
       "</div>"
      ],
      "text/plain": [
       "V5         2         1         3         9         8         7         5   \\\n",
       "V86                                                                         \n",
       "0    0.868526  0.913043  0.933409  0.937031  0.943058  0.963636  0.973638   \n",
       "1    0.131474  0.086957  0.066591  0.062969  0.056942  0.036364  0.026362   \n",
       "\n",
       "V5         6         10   4   \n",
       "V86                           \n",
       "0    0.980488  0.981884  1.0  \n",
       "1    0.019512  0.018116  0.0  "
      ]
     },
     "execution_count": 13,
     "metadata": {},
     "output_type": "execute_result"
    }
   ],
   "source": [
    "k = cr_training.groupby(\"V5\")[\"V86\"].value_counts(normalize = True).unstack()\n",
    "k [1] = k[1].fillna(value = 0)\n",
    "k.sort_values(1,ascending= False).T"
   ]
  },
  {
   "cell_type": "code",
   "execution_count": 14,
   "metadata": {
    "colab": {
     "base_uri": "https://localhost:8080/",
     "height": 761
    },
    "colab_type": "code",
    "id": "57jwOztdIPIs",
    "outputId": "81469744-827d-43e0-daf4-b88c0f131331"
   },
   "outputs": [
    {
     "data": {
      "text/plain": [
       "<seaborn.axisgrid.FacetGrid at 0x1efca52d908>"
      ]
     },
     "execution_count": 14,
     "metadata": {},
     "output_type": "execute_result"
    },
    {
     "data": {
      "image/png": "[encoded data removed]",
      "text/plain": [
       "<Figure size 762.375x720 with 1 Axes>"
      ]
     },
     "metadata": {},
     "output_type": "display_data"
    }
   ],
   "source": [
    "# Lets Visualize the above \n",
    "sns.catplot(y = \"V5\",data = cr_training,kind = \"count\",hue = \"V86\",height = 10)"
   ]
  },
  {
   "cell_type": "markdown",
   "metadata": {
    "colab_type": "text",
    "id": "pb18SQ7QIPI5"
   },
   "source": [
    "### This category V6 i.e the \"Roman Catholic\" the CTR for \"63 - 75%\" is the maximum from those group 7.69%  are the actual conversion followed by \"11 - 23%\" -  7.3%"
   ]
  },
  {
   "cell_type": "markdown",
   "metadata": {
    "colab_type": "raw",
    "id": "IYKn5hGSIPI8"
   },
   "source": [
    "L3: Roman Catholic\n",
    "\n",
    "0 0%\n",
    "1 1 - 10%\n",
    "2 11 - 23%\n",
    "3 24 - 36%\n",
    "4 37 - 49%\n",
    "5 50 - 62%\n",
    "6 63 - 75%\n",
    "7 76 - 88%\n",
    "8 89 - 99%\n",
    "9 100%"
   ]
  },
  {
   "cell_type": "code",
   "execution_count": 15,
   "metadata": {
    "colab": {
     "base_uri": "https://localhost:8080/",
     "height": 143
    },
    "colab_type": "code",
    "id": "VioiO7uTIPI-",
    "outputId": "73986813-1a6f-4dd4-b743-d58551b47697"
   },
   "outputs": [
    {
     "data": {
      "text/html": [
       "<div>\n",
       "<style scoped>\n",
       "    .dataframe tbody tr th:only-of-type {\n",
       "        vertical-align: middle;\n",
       "    }\n",
       "\n",
       "    .dataframe tbody tr th {\n",
       "        vertical-align: top;\n",
       "    }\n",
       "\n",
       "    .dataframe thead th {\n",
       "        text-align: right;\n",
       "    }\n",
       "</style>\n",
       "<table border=\"1\" class=\"dataframe\">\n",
       "  <thead>\n",
       "    <tr style=\"text-align: right;\">\n",
       "      <th>V6</th>\n",
       "      <th>0</th>\n",
       "      <th>1</th>\n",
       "      <th>2</th>\n",
       "      <th>3</th>\n",
       "      <th>4</th>\n",
       "      <th>5</th>\n",
       "      <th>6</th>\n",
       "      <th>7</th>\n",
       "      <th>8</th>\n",
       "      <th>9</th>\n",
       "    </tr>\n",
       "    <tr>\n",
       "      <th>V86</th>\n",
       "      <th></th>\n",
       "      <th></th>\n",
       "      <th></th>\n",
       "      <th></th>\n",
       "      <th></th>\n",
       "      <th></th>\n",
       "      <th></th>\n",
       "      <th></th>\n",
       "      <th></th>\n",
       "      <th></th>\n",
       "    </tr>\n",
       "  </thead>\n",
       "  <tbody>\n",
       "    <tr>\n",
       "      <th>0</th>\n",
       "      <td>3051.0</td>\n",
       "      <td>1492.0</td>\n",
       "      <td>679.0</td>\n",
       "      <td>145.0</td>\n",
       "      <td>65.0</td>\n",
       "      <td>17.0</td>\n",
       "      <td>12.0</td>\n",
       "      <td>6.0</td>\n",
       "      <td>3.0</td>\n",
       "      <td>4.0</td>\n",
       "    </tr>\n",
       "    <tr>\n",
       "      <th>1</th>\n",
       "      <td>177.0</td>\n",
       "      <td>107.0</td>\n",
       "      <td>54.0</td>\n",
       "      <td>7.0</td>\n",
       "      <td>1.0</td>\n",
       "      <td>1.0</td>\n",
       "      <td>1.0</td>\n",
       "      <td>0.0</td>\n",
       "      <td>0.0</td>\n",
       "      <td>0.0</td>\n",
       "    </tr>\n",
       "  </tbody>\n",
       "</table>\n",
       "</div>"
      ],
      "text/plain": [
       "V6        0       1      2      3     4     5     6    7    8    9\n",
       "V86                                                               \n",
       "0    3051.0  1492.0  679.0  145.0  65.0  17.0  12.0  6.0  3.0  4.0\n",
       "1     177.0   107.0   54.0    7.0   1.0   1.0   1.0  0.0  0.0  0.0"
      ]
     },
     "execution_count": 15,
     "metadata": {},
     "output_type": "execute_result"
    }
   ],
   "source": [
    "k = cr_training.groupby(\"V6\")[\"V86\"].value_counts().unstack()\n",
    "k [1] = k[1].fillna(value = 0)\n",
    "k.sort_values(1,ascending= False).T"
   ]
  },
  {
   "cell_type": "code",
   "execution_count": 16,
   "metadata": {
    "colab": {
     "base_uri": "https://localhost:8080/",
     "height": 1000
    },
    "colab_type": "code",
    "id": "l5A66hS6IPJI",
    "outputId": "16445d92-e3e6-4ed1-a199-160cc0e28708"
   },
   "outputs": [
    {
     "data": {
      "text/plain": [
       "<seaborn.axisgrid.FacetGrid at 0x1efc9f73400>"
      ]
     },
     "execution_count": 16,
     "metadata": {},
     "output_type": "execute_result"
    },
    {
     "data": {
      "image/png": "[encoded data removed]",
      "text/plain": [
       "<Figure size 1122.38x1080 with 1 Axes>"
      ]
     },
     "metadata": {},
     "output_type": "display_data"
    }
   ],
   "source": [
    "# Lets Visualize the above \n",
    "sns.catplot(y = \"V6\",data = cr_training, kind = \"count\",hue = \"V86\",height = 15)"
   ]
  },
  {
   "cell_type": "markdown",
   "metadata": {
    "colab_type": "text",
    "id": "RZpk0u3FIPJS"
   },
   "source": [
    "### This category V44 i.e the \"Contribution private third party insurance\" the CTR for \"f 100 – 199\" is the maximum from those group 18.18%  are the actual conversion followed by \"f 50 – 99\" -  8.9%"
   ]
  },
  {
   "cell_type": "code",
   "execution_count": 17,
   "metadata": {
    "colab": {
     "base_uri": "https://localhost:8080/",
     "height": 143
    },
    "colab_type": "code",
    "id": "ZEQA5UGHIPJW",
    "outputId": "4424f64a-57f2-49ff-b302-09899cf5750f"
   },
   "outputs": [
    {
     "data": {
      "text/html": [
       "<div>\n",
       "<style scoped>\n",
       "    .dataframe tbody tr th:only-of-type {\n",
       "        vertical-align: middle;\n",
       "    }\n",
       "\n",
       "    .dataframe tbody tr th {\n",
       "        vertical-align: top;\n",
       "    }\n",
       "\n",
       "    .dataframe thead th {\n",
       "        text-align: right;\n",
       "    }\n",
       "</style>\n",
       "<table border=\"1\" class=\"dataframe\">\n",
       "  <thead>\n",
       "    <tr style=\"text-align: right;\">\n",
       "      <th>V44</th>\n",
       "      <th>3</th>\n",
       "      <th>2</th>\n",
       "      <th>0</th>\n",
       "      <th>1</th>\n",
       "    </tr>\n",
       "    <tr>\n",
       "      <th>V86</th>\n",
       "      <th></th>\n",
       "      <th></th>\n",
       "      <th></th>\n",
       "      <th></th>\n",
       "    </tr>\n",
       "  </thead>\n",
       "  <tbody>\n",
       "    <tr>\n",
       "      <th>0</th>\n",
       "      <td>0.818182</td>\n",
       "      <td>0.910244</td>\n",
       "      <td>0.957783</td>\n",
       "      <td>0.960199</td>\n",
       "    </tr>\n",
       "    <tr>\n",
       "      <th>1</th>\n",
       "      <td>0.181818</td>\n",
       "      <td>0.089756</td>\n",
       "      <td>0.042217</td>\n",
       "      <td>0.039801</td>\n",
       "    </tr>\n",
       "  </tbody>\n",
       "</table>\n",
       "</div>"
      ],
      "text/plain": [
       "V44         3         2         0         1\n",
       "V86                                        \n",
       "0    0.818182  0.910244  0.957783  0.960199\n",
       "1    0.181818  0.089756  0.042217  0.039801"
      ]
     },
     "execution_count": 17,
     "metadata": {},
     "output_type": "execute_result"
    }
   ],
   "source": [
    "k = cr_training.groupby(\"V44\")[\"V86\"].value_counts(normalize = True).unstack()\n",
    "k [1] = k[1].fillna(value = 0)\n",
    "k.sort_values(1,ascending= False).T"
   ]
  },
  {
   "cell_type": "code",
   "execution_count": 18,
   "metadata": {
    "colab": {
     "base_uri": "https://localhost:8080/",
     "height": 401
    },
    "colab_type": "code",
    "id": "hdcoQVJtIPJg",
    "outputId": "4e582bbe-309b-45f6-bfe7-f9db9e68730d"
   },
   "outputs": [
    {
     "data": {
      "text/plain": [
       "<seaborn.axisgrid.FacetGrid at 0x1efc76fff28>"
      ]
     },
     "execution_count": 18,
     "metadata": {},
     "output_type": "execute_result"
    },
    {
     "data": {
      "image/png": "[encoded data removed]",
      "text/plain": [
       "<Figure size 402.375x360 with 1 Axes>"
      ]
     },
     "metadata": {},
     "output_type": "display_data"
    }
   ],
   "source": [
    "sns.catplot(y = \"V44\", data = cr_training, kind = \"count\", height = 5, hue = \"V86\")"
   ]
  },
  {
   "cell_type": "code",
   "execution_count": 19,
   "metadata": {
    "colab": {},
    "colab_type": "code",
    "id": "8IFyXiuvIPJq"
   },
   "outputs": [],
   "source": [
    "# Adding a columns named data to later on differentiate between training and testing data\n",
    "cr_training['data'] = 'training'\n",
    "cr_testing['data'] = 'testing'"
   ]
  },
  {
   "cell_type": "code",
   "execution_count": null,
   "metadata": {
    "colab": {},
    "colab_type": "code",
    "id": "OTnzXgoCTpyr"
   },
   "outputs": [],
   "source": []
  },
  {
   "cell_type": "code",
   "execution_count": 20,
   "metadata": {
    "colab": {
     "base_uri": "https://localhost:8080/",
     "height": 403
    },
    "colab_type": "code",
    "id": "EDJi8j4CIPKB",
    "outputId": "096256f5-5274-418c-dd48-4a4ac4d6a3fc"
   },
   "outputs": [
    {
     "data": {
      "text/html": [
       "<div>\n",
       "<style scoped>\n",
       "    .dataframe tbody tr th:only-of-type {\n",
       "        vertical-align: middle;\n",
       "    }\n",
       "\n",
       "    .dataframe tbody tr th {\n",
       "        vertical-align: top;\n",
       "    }\n",
       "\n",
       "    .dataframe thead th {\n",
       "        text-align: right;\n",
       "    }\n",
       "</style>\n",
       "<table border=\"1\" class=\"dataframe\">\n",
       "  <thead>\n",
       "    <tr style=\"text-align: right;\">\n",
       "      <th></th>\n",
       "      <th>V1</th>\n",
       "      <th>V10</th>\n",
       "      <th>V11</th>\n",
       "      <th>V12</th>\n",
       "      <th>V13</th>\n",
       "      <th>V14</th>\n",
       "      <th>V15</th>\n",
       "      <th>V16</th>\n",
       "      <th>V17</th>\n",
       "      <th>V18</th>\n",
       "      <th>...</th>\n",
       "      <th>V8</th>\n",
       "      <th>V80</th>\n",
       "      <th>V81</th>\n",
       "      <th>V82</th>\n",
       "      <th>V83</th>\n",
       "      <th>V84</th>\n",
       "      <th>V85</th>\n",
       "      <th>V86</th>\n",
       "      <th>V9</th>\n",
       "      <th>data</th>\n",
       "    </tr>\n",
       "  </thead>\n",
       "  <tbody>\n",
       "    <tr>\n",
       "      <th>0</th>\n",
       "      <td>33</td>\n",
       "      <td>7</td>\n",
       "      <td>0</td>\n",
       "      <td>2</td>\n",
       "      <td>1</td>\n",
       "      <td>2</td>\n",
       "      <td>6</td>\n",
       "      <td>1</td>\n",
       "      <td>2</td>\n",
       "      <td>7</td>\n",
       "      <td>...</td>\n",
       "      <td>1</td>\n",
       "      <td>1</td>\n",
       "      <td>0</td>\n",
       "      <td>0</td>\n",
       "      <td>0</td>\n",
       "      <td>0</td>\n",
       "      <td>0</td>\n",
       "      <td>0.0</td>\n",
       "      <td>3</td>\n",
       "      <td>training</td>\n",
       "    </tr>\n",
       "    <tr>\n",
       "      <th>1</th>\n",
       "      <td>37</td>\n",
       "      <td>6</td>\n",
       "      <td>2</td>\n",
       "      <td>2</td>\n",
       "      <td>0</td>\n",
       "      <td>4</td>\n",
       "      <td>5</td>\n",
       "      <td>0</td>\n",
       "      <td>5</td>\n",
       "      <td>4</td>\n",
       "      <td>...</td>\n",
       "      <td>1</td>\n",
       "      <td>1</td>\n",
       "      <td>0</td>\n",
       "      <td>0</td>\n",
       "      <td>0</td>\n",
       "      <td>0</td>\n",
       "      <td>0</td>\n",
       "      <td>0.0</td>\n",
       "      <td>4</td>\n",
       "      <td>training</td>\n",
       "    </tr>\n",
       "    <tr>\n",
       "      <th>2</th>\n",
       "      <td>37</td>\n",
       "      <td>3</td>\n",
       "      <td>2</td>\n",
       "      <td>4</td>\n",
       "      <td>4</td>\n",
       "      <td>4</td>\n",
       "      <td>2</td>\n",
       "      <td>0</td>\n",
       "      <td>5</td>\n",
       "      <td>4</td>\n",
       "      <td>...</td>\n",
       "      <td>2</td>\n",
       "      <td>1</td>\n",
       "      <td>0</td>\n",
       "      <td>0</td>\n",
       "      <td>0</td>\n",
       "      <td>0</td>\n",
       "      <td>0</td>\n",
       "      <td>0.0</td>\n",
       "      <td>4</td>\n",
       "      <td>training</td>\n",
       "    </tr>\n",
       "    <tr>\n",
       "      <th>3</th>\n",
       "      <td>9</td>\n",
       "      <td>5</td>\n",
       "      <td>2</td>\n",
       "      <td>2</td>\n",
       "      <td>2</td>\n",
       "      <td>3</td>\n",
       "      <td>4</td>\n",
       "      <td>3</td>\n",
       "      <td>4</td>\n",
       "      <td>2</td>\n",
       "      <td>...</td>\n",
       "      <td>2</td>\n",
       "      <td>1</td>\n",
       "      <td>0</td>\n",
       "      <td>0</td>\n",
       "      <td>0</td>\n",
       "      <td>0</td>\n",
       "      <td>0</td>\n",
       "      <td>0.0</td>\n",
       "      <td>4</td>\n",
       "      <td>training</td>\n",
       "    </tr>\n",
       "    <tr>\n",
       "      <th>4</th>\n",
       "      <td>40</td>\n",
       "      <td>7</td>\n",
       "      <td>1</td>\n",
       "      <td>2</td>\n",
       "      <td>2</td>\n",
       "      <td>4</td>\n",
       "      <td>4</td>\n",
       "      <td>5</td>\n",
       "      <td>4</td>\n",
       "      <td>0</td>\n",
       "      <td>...</td>\n",
       "      <td>1</td>\n",
       "      <td>1</td>\n",
       "      <td>0</td>\n",
       "      <td>0</td>\n",
       "      <td>0</td>\n",
       "      <td>0</td>\n",
       "      <td>0</td>\n",
       "      <td>0.0</td>\n",
       "      <td>4</td>\n",
       "      <td>training</td>\n",
       "    </tr>\n",
       "  </tbody>\n",
       "</table>\n",
       "<p>5 rows × 87 columns</p>\n",
       "</div>"
      ],
      "text/plain": [
       "   V1  V10  V11  V12  V13  V14  V15  V16  V17  V18    ...     V8  V80  V81  \\\n",
       "0  33    7    0    2    1    2    6    1    2    7    ...      1    1    0   \n",
       "1  37    6    2    2    0    4    5    0    5    4    ...      1    1    0   \n",
       "2  37    3    2    4    4    4    2    0    5    4    ...      2    1    0   \n",
       "3   9    5    2    2    2    3    4    3    4    2    ...      2    1    0   \n",
       "4  40    7    1    2    2    4    4    5    4    0    ...      1    1    0   \n",
       "\n",
       "   V82  V83  V84  V85  V86  V9      data  \n",
       "0    0    0    0    0  0.0   3  training  \n",
       "1    0    0    0    0  0.0   4  training  \n",
       "2    0    0    0    0  0.0   4  training  \n",
       "3    0    0    0    0  0.0   4  training  \n",
       "4    0    0    0    0  0.0   4  training  \n",
       "\n",
       "[5 rows x 87 columns]"
      ]
     },
     "execution_count": 20,
     "metadata": {},
     "output_type": "execute_result"
    }
   ],
   "source": [
    "# in order to make the shape of testing data same as that of training adding a column.\n",
    "cr_testing['V86'] = np.nan\n",
    "\n",
    "#Concatenating the training and testing data\n",
    "crall = pd.concat([cr_training,cr_testing],axis='index')\n",
    "\n",
    "crall.head()"
   ]
  },
  {
   "cell_type": "code",
   "execution_count": 21,
   "metadata": {
    "colab": {
     "base_uri": "https://localhost:8080/",
     "height": 72
    },
    "colab_type": "code",
    "id": "-mab43B1IPKH",
    "outputId": "85bbacbc-151f-4b34-c2fc-ee706e424f24"
   },
   "outputs": [
    {
     "data": {
      "text/plain": [
       "0.0    0.940227\n",
       "1.0    0.059773\n",
       "Name: V86, dtype: float64"
      ]
     },
     "execution_count": 21,
     "metadata": {},
     "output_type": "execute_result"
    }
   ],
   "source": [
    "crall['V86'].value_counts(normalize =True)"
   ]
  },
  {
   "cell_type": "code",
   "execution_count": 22,
   "metadata": {
    "colab": {},
    "colab_type": "code",
    "id": "uTWMuJk2IPKO"
   },
   "outputs": [],
   "source": [
    "# This are all the categorical columns \n",
    "cat_cols = ['V1','V4','V5','V6','V44'] "
   ]
  },
  {
   "cell_type": "code",
   "execution_count": 23,
   "metadata": {
    "colab": {
     "base_uri": "https://localhost:8080/",
     "height": 109
    },
    "colab_type": "code",
    "id": "0Na2b9JHIPKU",
    "outputId": "44e13375-1887-4c98-efbb-7358f11943bd"
   },
   "outputs": [
    {
     "name": "stdout",
     "output_type": "stream",
     "text": [
      "V1\n",
      "V4\n",
      "V5\n",
      "V6\n",
      "V44\n"
     ]
    }
   ],
   "source": [
    "# Creating dummies(one hot enciding) out of categrical columns\n",
    "for col in cat_cols:\n",
    "    freqs = crall[col].value_counts()\n",
    "    k = freqs.index[freqs>10][:-1]\n",
    "    for cat in k:\n",
    "        name = str(col) + \"_\" + str(cat)\n",
    "        crall[name] = (crall[col] == cat).astype(int)\n",
    "    del crall[col]\n",
    "    print(col)"
   ]
  },
  {
   "cell_type": "code",
   "execution_count": 24,
   "metadata": {
    "colab": {},
    "colab_type": "code",
    "id": "LOlWGK_xIPKb"
   },
   "outputs": [],
   "source": [
    "# Since the preprocessing is done on the dataframe splitting the data back in training and testing \n",
    "cartrain = crall.loc[crall[\"data\"]==\"training\",:] \n",
    "\n",
    "cartest = crall.loc[crall[\"data\"]==\"testing\",:]"
   ]
  },
  {
   "cell_type": "code",
   "execution_count": 25,
   "metadata": {
    "colab": {},
    "colab_type": "code",
    "id": "FQsuusXUTxX9"
   },
   "outputs": [],
   "source": [
    "# cartrain_independent = cartrain.drop([\"V86\",'data'],axis = 1)\n",
    "# cartrain_dependent = cartrain[\"V86\"]"
   ]
  },
  {
   "cell_type": "code",
   "execution_count": 26,
   "metadata": {
    "colab": {
     "base_uri": "https://localhost:8080/",
     "height": 256
    },
    "colab_type": "code",
    "id": "Qx-i4DL3IPKi",
    "outputId": "7d10a20b-53dd-49c1-89cb-2d278bad3e0c"
   },
   "outputs": [
    {
     "data": {
      "text/html": [
       "<div>\n",
       "<style scoped>\n",
       "    .dataframe tbody tr th:only-of-type {\n",
       "        vertical-align: middle;\n",
       "    }\n",
       "\n",
       "    .dataframe tbody tr th {\n",
       "        vertical-align: top;\n",
       "    }\n",
       "\n",
       "    .dataframe thead th {\n",
       "        text-align: right;\n",
       "    }\n",
       "</style>\n",
       "<table border=\"1\" class=\"dataframe\">\n",
       "  <thead>\n",
       "    <tr style=\"text-align: right;\">\n",
       "      <th></th>\n",
       "      <th>V10</th>\n",
       "      <th>V11</th>\n",
       "      <th>V12</th>\n",
       "      <th>V13</th>\n",
       "      <th>V14</th>\n",
       "      <th>V15</th>\n",
       "      <th>V16</th>\n",
       "      <th>V17</th>\n",
       "      <th>V18</th>\n",
       "      <th>V19</th>\n",
       "      <th>...</th>\n",
       "      <th>V6_0</th>\n",
       "      <th>V6_1</th>\n",
       "      <th>V6_2</th>\n",
       "      <th>V6_3</th>\n",
       "      <th>V6_4</th>\n",
       "      <th>V6_5</th>\n",
       "      <th>V6_6</th>\n",
       "      <th>V44_0</th>\n",
       "      <th>V44_2</th>\n",
       "      <th>V44_1</th>\n",
       "    </tr>\n",
       "  </thead>\n",
       "  <tbody>\n",
       "    <tr>\n",
       "      <th>0</th>\n",
       "      <td>5</td>\n",
       "      <td>0</td>\n",
       "      <td>4</td>\n",
       "      <td>1</td>\n",
       "      <td>1</td>\n",
       "      <td>8</td>\n",
       "      <td>2</td>\n",
       "      <td>2</td>\n",
       "      <td>6</td>\n",
       "      <td>0</td>\n",
       "      <td>...</td>\n",
       "      <td>1</td>\n",
       "      <td>0</td>\n",
       "      <td>0</td>\n",
       "      <td>0</td>\n",
       "      <td>0</td>\n",
       "      <td>0</td>\n",
       "      <td>0</td>\n",
       "      <td>0</td>\n",
       "      <td>0</td>\n",
       "      <td>1</td>\n",
       "    </tr>\n",
       "    <tr>\n",
       "      <th>1</th>\n",
       "      <td>5</td>\n",
       "      <td>2</td>\n",
       "      <td>2</td>\n",
       "      <td>1</td>\n",
       "      <td>4</td>\n",
       "      <td>5</td>\n",
       "      <td>5</td>\n",
       "      <td>4</td>\n",
       "      <td>0</td>\n",
       "      <td>5</td>\n",
       "      <td>...</td>\n",
       "      <td>1</td>\n",
       "      <td>0</td>\n",
       "      <td>0</td>\n",
       "      <td>0</td>\n",
       "      <td>0</td>\n",
       "      <td>0</td>\n",
       "      <td>0</td>\n",
       "      <td>0</td>\n",
       "      <td>1</td>\n",
       "      <td>0</td>\n",
       "    </tr>\n",
       "    <tr>\n",
       "      <th>2</th>\n",
       "      <td>5</td>\n",
       "      <td>2</td>\n",
       "      <td>3</td>\n",
       "      <td>2</td>\n",
       "      <td>3</td>\n",
       "      <td>6</td>\n",
       "      <td>2</td>\n",
       "      <td>4</td>\n",
       "      <td>4</td>\n",
       "      <td>2</td>\n",
       "      <td>...</td>\n",
       "      <td>0</td>\n",
       "      <td>1</td>\n",
       "      <td>0</td>\n",
       "      <td>0</td>\n",
       "      <td>0</td>\n",
       "      <td>0</td>\n",
       "      <td>0</td>\n",
       "      <td>0</td>\n",
       "      <td>1</td>\n",
       "      <td>0</td>\n",
       "    </tr>\n",
       "    <tr>\n",
       "      <th>3</th>\n",
       "      <td>5</td>\n",
       "      <td>4</td>\n",
       "      <td>1</td>\n",
       "      <td>2</td>\n",
       "      <td>4</td>\n",
       "      <td>4</td>\n",
       "      <td>2</td>\n",
       "      <td>4</td>\n",
       "      <td>4</td>\n",
       "      <td>2</td>\n",
       "      <td>...</td>\n",
       "      <td>0</td>\n",
       "      <td>0</td>\n",
       "      <td>1</td>\n",
       "      <td>0</td>\n",
       "      <td>0</td>\n",
       "      <td>0</td>\n",
       "      <td>0</td>\n",
       "      <td>0</td>\n",
       "      <td>1</td>\n",
       "      <td>0</td>\n",
       "    </tr>\n",
       "    <tr>\n",
       "      <th>4</th>\n",
       "      <td>9</td>\n",
       "      <td>0</td>\n",
       "      <td>0</td>\n",
       "      <td>0</td>\n",
       "      <td>6</td>\n",
       "      <td>3</td>\n",
       "      <td>0</td>\n",
       "      <td>0</td>\n",
       "      <td>9</td>\n",
       "      <td>0</td>\n",
       "      <td>...</td>\n",
       "      <td>1</td>\n",
       "      <td>0</td>\n",
       "      <td>0</td>\n",
       "      <td>0</td>\n",
       "      <td>0</td>\n",
       "      <td>0</td>\n",
       "      <td>0</td>\n",
       "      <td>0</td>\n",
       "      <td>1</td>\n",
       "      <td>0</td>\n",
       "    </tr>\n",
       "  </tbody>\n",
       "</table>\n",
       "<p>5 rows × 143 columns</p>\n",
       "</div>"
      ],
      "text/plain": [
       "   V10  V11  V12  V13  V14  V15  V16  V17  V18  V19  ...    V6_0  V6_1  V6_2  \\\n",
       "0    5    0    4    1    1    8    2    2    6    0  ...       1     0     0   \n",
       "1    5    2    2    1    4    5    5    4    0    5  ...       1     0     0   \n",
       "2    5    2    3    2    3    6    2    4    4    2  ...       0     1     0   \n",
       "3    5    4    1    2    4    4    2    4    4    2  ...       0     0     1   \n",
       "4    9    0    0    0    6    3    0    0    9    0  ...       1     0     0   \n",
       "\n",
       "   V6_3  V6_4  V6_5  V6_6  V44_0  V44_2  V44_1  \n",
       "0     0     0     0     0      0      0      1  \n",
       "1     0     0     0     0      0      1      0  \n",
       "2     0     0     0     0      0      1      0  \n",
       "3     0     0     0     0      0      1      0  \n",
       "4     0     0     0     0      0      1      0  \n",
       "\n",
       "[5 rows x 143 columns]"
      ]
     },
     "execution_count": 26,
     "metadata": {},
     "output_type": "execute_result"
    }
   ],
   "source": [
    "cartest.head()"
   ]
  },
  {
   "cell_type": "code",
   "execution_count": 27,
   "metadata": {
    "colab": {},
    "colab_type": "code",
    "id": "ahBGbLVeIPKl"
   },
   "outputs": [],
   "source": [
    "# Checking out for correlation "
   ]
  },
  {
   "cell_type": "code",
   "execution_count": 28,
   "metadata": {
    "colab": {
     "base_uri": "https://localhost:8080/",
     "height": 35
    },
    "colab_type": "code",
    "id": "08QIsk-IIPKt",
    "outputId": "5dd3da48-d253-46dc-c263-77ec02cbb57f"
   },
   "outputs": [
    {
     "data": {
      "text/plain": [
       "(5822, 143)"
      ]
     },
     "execution_count": 28,
     "metadata": {},
     "output_type": "execute_result"
    }
   ],
   "source": [
    "cartrain.shape"
   ]
  },
  {
   "cell_type": "code",
   "execution_count": 29,
   "metadata": {
    "colab": {},
    "colab_type": "code",
    "id": "-TgHgUMLIPKx"
   },
   "outputs": [],
   "source": [
    "# Performing train-test split"
   ]
  },
  {
   "cell_type": "code",
   "execution_count": 30,
   "metadata": {
    "colab": {},
    "colab_type": "code",
    "id": "Tmw8PDM3IPK1"
   },
   "outputs": [],
   "source": [
    "from sklearn.model_selection import train_test_split"
   ]
  },
  {
   "cell_type": "code",
   "execution_count": 31,
   "metadata": {
    "colab": {},
    "colab_type": "code",
    "id": "Nt6EUKKWIPK9"
   },
   "outputs": [],
   "source": [
    "cartrain_train , cartrain_test = train_test_split(cartrain,test_size = 0.2, random_state = 42,\n",
    "                                                  stratify = cartrain[\"V86\"])"
   ]
  },
  {
   "cell_type": "code",
   "execution_count": 32,
   "metadata": {
    "colab": {
     "base_uri": "https://localhost:8080/",
     "height": 72
    },
    "colab_type": "code",
    "id": "0xHn0AlVIPLC",
    "outputId": "f455a231-5a8a-45ae-f88a-71754e3527db"
   },
   "outputs": [
    {
     "data": {
      "text/plain": [
       "0.0    0.940305\n",
       "1.0    0.059695\n",
       "Name: V86, dtype: float64"
      ]
     },
     "execution_count": 32,
     "metadata": {},
     "output_type": "execute_result"
    }
   ],
   "source": [
    "cartrain_train.V86.value_counts(normalize=True)"
   ]
  },
  {
   "cell_type": "code",
   "execution_count": 33,
   "metadata": {
    "colab": {
     "base_uri": "https://localhost:8080/",
     "height": 72
    },
    "colab_type": "code",
    "id": "VB9ZGq86IPLG",
    "outputId": "1e873ec6-bc40-4b48-855a-72cab8e1c5f9"
   },
   "outputs": [
    {
     "data": {
      "text/plain": [
       "0.0    0.939914\n",
       "1.0    0.060086\n",
       "Name: V86, dtype: float64"
      ]
     },
     "execution_count": 33,
     "metadata": {},
     "output_type": "execute_result"
    }
   ],
   "source": [
    "cartrain_test.V86.value_counts(normalize=True)"
   ]
  },
  {
   "cell_type": "code",
   "execution_count": 34,
   "metadata": {
    "colab": {},
    "colab_type": "code",
    "id": "j2qHyqZ0IPLN"
   },
   "outputs": [
    {
     "name": "stderr",
     "output_type": "stream",
     "text": [
      "D:\\Python\\lib\\site-packages\\sklearn\\ensemble\\weight_boosting.py:29: DeprecationWarning: numpy.core.umath_tests is an internal NumPy module and should not be imported. It will be removed in a future NumPy release.\n",
      "  from numpy.core.umath_tests import inner1d\n"
     ]
    }
   ],
   "source": [
    "from sklearn.model_selection import RandomizedSearchCV\n",
    "from sklearn.ensemble import GradientBoostingClassifier\n",
    "from xgboost.sklearn import XGBClassifier"
   ]
  },
  {
   "cell_type": "code",
   "execution_count": 35,
   "metadata": {
    "colab": {},
    "colab_type": "code",
    "id": "NDQS_6Q_IPLR"
   },
   "outputs": [],
   "source": [
    "from sklearn.linear_model import LogisticRegression"
   ]
  },
  {
   "cell_type": "code",
   "execution_count": 36,
   "metadata": {
    "colab": {},
    "colab_type": "code",
    "id": "c8E1cyJlIPLU"
   },
   "outputs": [],
   "source": [
    "lm_model = LogisticRegression()"
   ]
  },
  {
   "cell_type": "code",
   "execution_count": 37,
   "metadata": {
    "colab": {},
    "colab_type": "code",
    "id": "TTm-aeyjIPLX"
   },
   "outputs": [],
   "source": [
    "del cartrain_train[\"data\"]\n",
    "del cartrain_test[\"data\"]"
   ]
  },
  {
   "cell_type": "code",
   "execution_count": 38,
   "metadata": {
    "colab": {},
    "colab_type": "code",
    "id": "4rCO7kn8IPLc"
   },
   "outputs": [],
   "source": [
    "cartrain_train_independent = cartrain_train.drop(\"V86\",axis = 1)\n",
    "cartrain_train_dependent = cartrain_train[\"V86\"]\n",
    "cartrain_test_independent = cartrain_test.drop(\"V86\",axis = 1)\n",
    "cartrain_test_dependent = cartrain_test[\"V86\"]"
   ]
  },
  {
   "cell_type": "code",
   "execution_count": 39,
   "metadata": {
    "colab": {
     "base_uri": "https://localhost:8080/",
     "height": 35
    },
    "colab_type": "code",
    "id": "Sj9ZjSlgIPLe",
    "outputId": "aebae639-2ae3-4181-e455-031e697af762"
   },
   "outputs": [
    {
     "data": {
      "text/plain": [
       "(4657, 141)"
      ]
     },
     "execution_count": 39,
     "metadata": {},
     "output_type": "execute_result"
    }
   ],
   "source": [
    "cartrain_train_independent.shape"
   ]
  },
  {
   "cell_type": "code",
   "execution_count": 40,
   "metadata": {
    "colab": {
     "base_uri": "https://localhost:8080/",
     "height": 35
    },
    "colab_type": "code",
    "id": "e_Sr4cQ5IPLj",
    "outputId": "7a36c583-82c3-47c7-ebf2-38429adc014f"
   },
   "outputs": [
    {
     "data": {
      "text/plain": [
       "(4657,)"
      ]
     },
     "execution_count": 40,
     "metadata": {},
     "output_type": "execute_result"
    }
   ],
   "source": [
    "cartrain_train_dependent.shape"
   ]
  },
  {
   "cell_type": "code",
   "execution_count": 37,
   "metadata": {
    "colab": {
     "base_uri": "https://localhost:8080/",
     "height": 166
    },
    "colab_type": "code",
    "id": "BV4ZrdiBIPLm",
    "outputId": "a784d54e-e921-4c78-e7c3-8db69a96b2a4"
   },
   "outputs": [
    {
     "name": "stderr",
     "output_type": "stream",
     "text": [
      "/usr/local/lib/python3.6/dist-packages/sklearn/linear_model/logistic.py:432: FutureWarning: Default solver will be changed to 'lbfgs' in 0.22. Specify a solver to silence this warning.\n",
      "  FutureWarning)\n"
     ]
    },
    {
     "data": {
      "text/plain": [
       "LogisticRegression(C=1.0, class_weight=None, dual=False, fit_intercept=True,\n",
       "                   intercept_scaling=1, l1_ratio=None, max_iter=100,\n",
       "                   multi_class='warn', n_jobs=None, penalty='l2',\n",
       "                   random_state=None, solver='warn', tol=0.0001, verbose=0,\n",
       "                   warm_start=False)"
      ]
     },
     "execution_count": 37,
     "metadata": {
      "tags": []
     },
     "output_type": "execute_result"
    }
   ],
   "source": [
    "lm_model.fit(cartrain_train_independent,cartrain_train_dependent)"
   ]
  },
  {
   "cell_type": "code",
   "execution_count": 38,
   "metadata": {
    "colab": {
     "base_uri": "https://localhost:8080/",
     "height": 146
    },
    "colab_type": "code",
    "id": "M36kmW5AIPLr",
    "outputId": "d238b89c-86a9-40f2-f720-85f7ed59ca00"
   },
   "outputs": [
    {
     "data": {
      "text/plain": [
       "array([[0.94444858, 0.05555142],\n",
       "       [0.80534926, 0.19465074],\n",
       "       [0.9526945 , 0.0473055 ],\n",
       "       ...,\n",
       "       [0.95456566, 0.04543434],\n",
       "       [0.95474787, 0.04525213],\n",
       "       [0.96651429, 0.03348571]])"
      ]
     },
     "execution_count": 38,
     "metadata": {
      "tags": []
     },
     "output_type": "execute_result"
    }
   ],
   "source": [
    "prediction_logistic = lm_model.predict_proba(cartrain_test_independent)\n",
    "prediction_logistic"
   ]
  },
  {
   "cell_type": "code",
   "execution_count": 39,
   "metadata": {
    "colab": {
     "base_uri": "https://localhost:8080/",
     "height": 54
    },
    "colab_type": "code",
    "id": "gVDfA7GOIPLu",
    "outputId": "0d1a171c-723d-4a1e-913a-314e49ed7a0f"
   },
   "outputs": [
    {
     "data": {
      "text/plain": [
       "array([0.05555142, 0.19465074, 0.0473055 , ..., 0.04543434, 0.04525213,\n",
       "       0.03348571])"
      ]
     },
     "execution_count": 39,
     "metadata": {
      "tags": []
     },
     "output_type": "execute_result"
    }
   ],
   "source": [
    "prediction_logistic[:,1]"
   ]
  },
  {
   "cell_type": "code",
   "execution_count": 40,
   "metadata": {
    "colab": {
     "base_uri": "https://localhost:8080/",
     "height": 201
    },
    "colab_type": "code",
    "id": "8OzU5_SGIPLx",
    "outputId": "68871bf7-8372-47e8-ce2b-318eee7abaa1"
   },
   "outputs": [
    {
     "data": {
      "text/plain": [
       "array([0.  , 0.01, 0.02, 0.03, 0.04, 0.05, 0.06, 0.07, 0.08, 0.09, 0.1 ,\n",
       "       0.11, 0.12, 0.13, 0.14, 0.15, 0.16, 0.17, 0.18, 0.19, 0.2 , 0.21,\n",
       "       0.22, 0.23, 0.24, 0.25, 0.26, 0.27, 0.28, 0.29, 0.3 , 0.31, 0.32,\n",
       "       0.33, 0.34, 0.35, 0.36, 0.37, 0.38, 0.39, 0.4 , 0.41, 0.42, 0.43,\n",
       "       0.44, 0.45, 0.46, 0.47, 0.48, 0.49, 0.5 , 0.51, 0.52, 0.53, 0.54,\n",
       "       0.55, 0.56, 0.57, 0.58, 0.59, 0.6 , 0.61, 0.62, 0.63, 0.64, 0.65,\n",
       "       0.66, 0.67, 0.68, 0.69, 0.7 , 0.71, 0.72, 0.73, 0.74, 0.75, 0.76,\n",
       "       0.77, 0.78, 0.79, 0.8 , 0.81, 0.82, 0.83, 0.84, 0.85, 0.86, 0.87,\n",
       "       0.88, 0.89, 0.9 , 0.91, 0.92, 0.93, 0.94, 0.95, 0.96, 0.97, 0.98,\n",
       "       0.99])"
      ]
     },
     "execution_count": 40,
     "metadata": {
      "tags": []
     },
     "output_type": "execute_result"
    }
   ],
   "source": [
    "cutoffs = np.linspace(0.0,0.99,100)\n",
    "cutoffs"
   ]
  },
  {
   "cell_type": "code",
   "execution_count": 0,
   "metadata": {
    "colab": {},
    "colab_type": "code",
    "id": "RO41tKP6IPL1"
   },
   "outputs": [],
   "source": [
    "prediction_logistic = lm_model.predict_proba(cartrain_test_independent)[:,1]\n",
    "real = cartrain_test_dependent"
   ]
  },
  {
   "cell_type": "code",
   "execution_count": 42,
   "metadata": {
    "colab": {
     "base_uri": "https://localhost:8080/",
     "height": 35
    },
    "colab_type": "code",
    "id": "Ygp-0fODIPL8",
    "outputId": "6544503e-6d2c-46b4-e098-8602acc0337b"
   },
   "outputs": [
    {
     "data": {
      "text/plain": [
       "array([0, 1, 0, ..., 0, 0, 0])"
      ]
     },
     "execution_count": 42,
     "metadata": {
      "tags": []
     },
     "output_type": "execute_result"
    }
   ],
   "source": [
    "(prediction_logistic > 0.08).astype(int)"
   ]
  },
  {
   "cell_type": "code",
   "execution_count": 0,
   "metadata": {
    "colab": {},
    "colab_type": "code",
    "id": "vTgiQWjHIPMC"
   },
   "outputs": [],
   "source": [
    "KS_all = []\n",
    "for cutoff in cutoffs:\n",
    "    predicted = (prediction_logistic>cutoff).astype(int)\n",
    "    \n",
    "    TP = ((predicted==1) & (real==1)).sum()\n",
    "    TN = ((predicted==0) & (real==0)).sum()\n",
    "    FP = ((predicted==1) & (real==0)).sum()\n",
    "    FN = ((predicted==0) & (real==1)).sum()\n",
    "    \n",
    "    P = TP + FN\n",
    "    N = TN + FP\n",
    "    \n",
    "    KS = (TP/P)-(FP/N)\n",
    "    KS_all.append(KS)"
   ]
  },
  {
   "cell_type": "code",
   "execution_count": 0,
   "metadata": {
    "colab": {},
    "colab_type": "code",
    "id": "Y0SYXUGTIPMM"
   },
   "outputs": [],
   "source": [
    "#list(zip(cutoffs,KS_all))"
   ]
  },
  {
   "cell_type": "code",
   "execution_count": 0,
   "metadata": {
    "colab": {},
    "colab_type": "code",
    "id": "Pcm0Z7s6IPMS"
   },
   "outputs": [],
   "source": [
    "mycutoff = cutoffs[KS_all == max(KS_all)][0]"
   ]
  },
  {
   "cell_type": "code",
   "execution_count": 46,
   "metadata": {
    "colab": {
     "base_uri": "https://localhost:8080/",
     "height": 35
    },
    "colab_type": "code",
    "id": "6K2MkD-dIPMc",
    "outputId": "af876559-77d2-4271-f9a4-9ede2f88f441"
   },
   "outputs": [
    {
     "data": {
      "text/plain": [
       "0.08"
      ]
     },
     "execution_count": 46,
     "metadata": {
      "tags": []
     },
     "output_type": "execute_result"
    }
   ],
   "source": [
    "mycutoff"
   ]
  },
  {
   "cell_type": "code",
   "execution_count": 0,
   "metadata": {
    "colab": {},
    "colab_type": "code",
    "id": "qZ4AVQUVIPMh"
   },
   "outputs": [],
   "source": [
    "lm_hardclasses = (prediction_logistic>mycutoff).astype(int)"
   ]
  },
  {
   "cell_type": "code",
   "execution_count": 48,
   "metadata": {
    "colab": {
     "base_uri": "https://localhost:8080/",
     "height": 35
    },
    "colab_type": "code",
    "id": "eqUa1hQFIPMl",
    "outputId": "bd681262-d81e-4506-972f-26001b38fe82"
   },
   "outputs": [
    {
     "data": {
      "text/plain": [
       "253"
      ]
     },
     "execution_count": 48,
     "metadata": {
      "tags": []
     },
     "output_type": "execute_result"
    }
   ],
   "source": [
    "lm_hardclasses.sum()"
   ]
  },
  {
   "cell_type": "markdown",
   "metadata": {
    "colab_type": "text",
    "id": "fXdlvRUKIPMn"
   },
   "source": [
    "# Lets Build a confusion matrix"
   ]
  },
  {
   "cell_type": "code",
   "execution_count": 49,
   "metadata": {
    "colab": {
     "base_uri": "https://localhost:8080/",
     "height": 143
    },
    "colab_type": "code",
    "id": "rhX-XVGUIPMo",
    "outputId": "921d6f5a-04e4-422c-c0b2-71c5f105eea5"
   },
   "outputs": [
    {
     "data": {
      "text/html": [
       "<div>\n",
       "<style scoped>\n",
       "    .dataframe tbody tr th:only-of-type {\n",
       "        vertical-align: middle;\n",
       "    }\n",
       "\n",
       "    .dataframe tbody tr th {\n",
       "        vertical-align: top;\n",
       "    }\n",
       "\n",
       "    .dataframe thead th {\n",
       "        text-align: right;\n",
       "    }\n",
       "</style>\n",
       "<table border=\"1\" class=\"dataframe\">\n",
       "  <thead>\n",
       "    <tr style=\"text-align: right;\">\n",
       "      <th>col_0</th>\n",
       "      <th>0</th>\n",
       "      <th>1</th>\n",
       "    </tr>\n",
       "    <tr>\n",
       "      <th>V86</th>\n",
       "      <th></th>\n",
       "      <th></th>\n",
       "    </tr>\n",
       "  </thead>\n",
       "  <tbody>\n",
       "    <tr>\n",
       "      <th>0.0</th>\n",
       "      <td>881</td>\n",
       "      <td>214</td>\n",
       "    </tr>\n",
       "    <tr>\n",
       "      <th>1.0</th>\n",
       "      <td>31</td>\n",
       "      <td>39</td>\n",
       "    </tr>\n",
       "  </tbody>\n",
       "</table>\n",
       "</div>"
      ],
      "text/plain": [
       "col_0    0    1\n",
       "V86            \n",
       "0.0    881  214\n",
       "1.0     31   39"
      ]
     },
     "execution_count": 49,
     "metadata": {
      "tags": []
     },
     "output_type": "execute_result"
    }
   ],
   "source": [
    "pd.crosstab(real,lm_hardclasses)"
   ]
  },
  {
   "cell_type": "code",
   "execution_count": 50,
   "metadata": {
    "colab": {
     "base_uri": "https://localhost:8080/",
     "height": 143
    },
    "colab_type": "code",
    "id": "2D8eATdHIPMs",
    "outputId": "4f798a6a-137d-46da-b8a8-da95a0aa3aa8"
   },
   "outputs": [
    {
     "data": {
      "text/html": [
       "<div>\n",
       "<style scoped>\n",
       "    .dataframe tbody tr th:only-of-type {\n",
       "        vertical-align: middle;\n",
       "    }\n",
       "\n",
       "    .dataframe tbody tr th {\n",
       "        vertical-align: top;\n",
       "    }\n",
       "\n",
       "    .dataframe thead th {\n",
       "        text-align: right;\n",
       "    }\n",
       "</style>\n",
       "<table border=\"1\" class=\"dataframe\">\n",
       "  <thead>\n",
       "    <tr style=\"text-align: right;\">\n",
       "      <th>Predicted</th>\n",
       "      <th>0</th>\n",
       "      <th>1</th>\n",
       "    </tr>\n",
       "    <tr>\n",
       "      <th>Real</th>\n",
       "      <th></th>\n",
       "      <th></th>\n",
       "    </tr>\n",
       "  </thead>\n",
       "  <tbody>\n",
       "    <tr>\n",
       "      <th>0.0</th>\n",
       "      <td>881</td>\n",
       "      <td>214</td>\n",
       "    </tr>\n",
       "    <tr>\n",
       "      <th>1.0</th>\n",
       "      <td>31</td>\n",
       "      <td>39</td>\n",
       "    </tr>\n",
       "  </tbody>\n",
       "</table>\n",
       "</div>"
      ],
      "text/plain": [
       "Predicted    0    1\n",
       "Real               \n",
       "0.0        881  214\n",
       "1.0         31   39"
      ]
     },
     "execution_count": 50,
     "metadata": {
      "tags": []
     },
     "output_type": "execute_result"
    }
   ],
   "source": [
    "df = pd.DataFrame(list(zip(real,lm_hardclasses)),columns=[\"Real\",\"Predicted\"])\n",
    "\n",
    "pd.crosstab(df[\"Real\"], df[\"Predicted\"])"
   ]
  },
  {
   "cell_type": "code",
   "execution_count": 51,
   "metadata": {
    "colab": {
     "base_uri": "https://localhost:8080/",
     "height": 35
    },
    "colab_type": "code",
    "id": "BeeFlsW9IPMv",
    "outputId": "fac84808-13ef-400d-fa55-433e72d4f105"
   },
   "outputs": [
    {
     "data": {
      "text/plain": [
       "0.6808545335942596"
      ]
     },
     "execution_count": 51,
     "metadata": {
      "tags": []
     },
     "output_type": "execute_result"
    }
   ],
   "source": [
    "from sklearn.metrics import roc_auc_score\n",
    "\n",
    "score = roc_auc_score(real , lm_hardclasses)\n",
    "\n",
    "score"
   ]
  },
  {
   "cell_type": "markdown",
   "metadata": {
    "colab_type": "text",
    "id": "1vBa9CHOIPMy"
   },
   "source": [
    "# Using Random Forest"
   ]
  },
  {
   "cell_type": "code",
   "execution_count": 0,
   "metadata": {
    "colab": {},
    "colab_type": "code",
    "id": "QyOX-UApIPM0"
   },
   "outputs": [],
   "source": [
    "from sklearn.ensemble import RandomForestClassifier"
   ]
  },
  {
   "cell_type": "code",
   "execution_count": 0,
   "metadata": {
    "colab": {},
    "colab_type": "code",
    "id": "FIae8ljSIPM2"
   },
   "outputs": [],
   "source": [
    "rf_model = RandomForestClassifier()"
   ]
  },
  {
   "cell_type": "code",
   "execution_count": 54,
   "metadata": {
    "colab": {
     "base_uri": "https://localhost:8080/",
     "height": 202
    },
    "colab_type": "code",
    "id": "WpXdG3NOIPM5",
    "outputId": "6688d70f-0af2-4819-aa57-54565303ad63"
   },
   "outputs": [
    {
     "name": "stderr",
     "output_type": "stream",
     "text": [
      "/usr/local/lib/python3.6/dist-packages/sklearn/ensemble/forest.py:245: FutureWarning: The default value of n_estimators will change from 10 in version 0.20 to 100 in 0.22.\n",
      "  \"10 in version 0.20 to 100 in 0.22.\", FutureWarning)\n"
     ]
    },
    {
     "data": {
      "text/plain": [
       "RandomForestClassifier(bootstrap=True, class_weight=None, criterion='gini',\n",
       "                       max_depth=None, max_features='auto', max_leaf_nodes=None,\n",
       "                       min_impurity_decrease=0.0, min_impurity_split=None,\n",
       "                       min_samples_leaf=1, min_samples_split=2,\n",
       "                       min_weight_fraction_leaf=0.0, n_estimators=10,\n",
       "                       n_jobs=None, oob_score=False, random_state=None,\n",
       "                       verbose=0, warm_start=False)"
      ]
     },
     "execution_count": 54,
     "metadata": {
      "tags": []
     },
     "output_type": "execute_result"
    }
   ],
   "source": [
    "rf_model.fit(cartrain_train_independent,cartrain_train_dependent)"
   ]
  },
  {
   "cell_type": "code",
   "execution_count": 55,
   "metadata": {
    "colab": {
     "base_uri": "https://localhost:8080/",
     "height": 35
    },
    "colab_type": "code",
    "id": "Y5m_cUj1IPM8",
    "outputId": "5a57b1e7-83ed-4c58-da34-b43c10845073"
   },
   "outputs": [
    {
     "data": {
      "text/plain": [
       "array([0.1, 0.9, 0. , ..., 0.2, 0. , 0.2])"
      ]
     },
     "execution_count": 55,
     "metadata": {
      "tags": []
     },
     "output_type": "execute_result"
    }
   ],
   "source": [
    "rf_predicted = rf_model.predict_proba(cartrain_test_independent)[:,1]\n",
    "rf_predicted"
   ]
  },
  {
   "cell_type": "code",
   "execution_count": 0,
   "metadata": {
    "colab": {},
    "colab_type": "code",
    "id": "MJFq9MJCIPNA"
   },
   "outputs": [],
   "source": [
    "KS_all = []\n",
    "for cutoff in cutoffs:\n",
    "    predicted = (rf_predicted>cutoff).astype(int)\n",
    "    \n",
    "    TP = ((predicted==1) & (real==1)).sum()\n",
    "    TN = ((predicted==0) & (real==0)).sum()\n",
    "    FP = ((predicted==1) & (real==0)).sum()\n",
    "    FN = ((predicted==0) & (real==1)).sum()\n",
    "    \n",
    "    P = TP + FN\n",
    "    N = TN + FP\n",
    "    \n",
    "    KS = (TP/P)-(FP/N)\n",
    "    KS_all.append(KS)"
   ]
  },
  {
   "cell_type": "code",
   "execution_count": 0,
   "metadata": {
    "colab": {},
    "colab_type": "code",
    "id": "pbyu6jvjIPNE"
   },
   "outputs": [],
   "source": [
    "mycutoff = cutoffs[KS_all == max(KS_all)][0]"
   ]
  },
  {
   "cell_type": "code",
   "execution_count": 58,
   "metadata": {
    "colab": {
     "base_uri": "https://localhost:8080/",
     "height": 35
    },
    "colab_type": "code",
    "id": "hUFZzZtJIPNM",
    "outputId": "b9ec56bc-dd3b-4771-8453-b17b09ba35b3"
   },
   "outputs": [
    {
     "data": {
      "text/plain": [
       "0.06"
      ]
     },
     "execution_count": 58,
     "metadata": {
      "tags": []
     },
     "output_type": "execute_result"
    }
   ],
   "source": [
    "mycutoff"
   ]
  },
  {
   "cell_type": "code",
   "execution_count": 0,
   "metadata": {
    "colab": {},
    "colab_type": "code",
    "id": "cFgA6kadIPNP"
   },
   "outputs": [],
   "source": [
    "rf_hardclasses = (rf_predicted > mycutoff).astype(int)"
   ]
  },
  {
   "cell_type": "code",
   "execution_count": 60,
   "metadata": {
    "colab": {
     "base_uri": "https://localhost:8080/",
     "height": 143
    },
    "colab_type": "code",
    "id": "bAAIlkTXIPNR",
    "outputId": "fb730c2b-6fd3-4a7d-c4e3-287eff6c929a"
   },
   "outputs": [
    {
     "data": {
      "text/html": [
       "<div>\n",
       "<style scoped>\n",
       "    .dataframe tbody tr th:only-of-type {\n",
       "        vertical-align: middle;\n",
       "    }\n",
       "\n",
       "    .dataframe tbody tr th {\n",
       "        vertical-align: top;\n",
       "    }\n",
       "\n",
       "    .dataframe thead th {\n",
       "        text-align: right;\n",
       "    }\n",
       "</style>\n",
       "<table border=\"1\" class=\"dataframe\">\n",
       "  <thead>\n",
       "    <tr style=\"text-align: right;\">\n",
       "      <th>Predicted</th>\n",
       "      <th>0</th>\n",
       "      <th>1</th>\n",
       "    </tr>\n",
       "    <tr>\n",
       "      <th>Real</th>\n",
       "      <th></th>\n",
       "      <th></th>\n",
       "    </tr>\n",
       "  </thead>\n",
       "  <tbody>\n",
       "    <tr>\n",
       "      <th>0.0</th>\n",
       "      <td>749</td>\n",
       "      <td>346</td>\n",
       "    </tr>\n",
       "    <tr>\n",
       "      <th>1.0</th>\n",
       "      <td>31</td>\n",
       "      <td>39</td>\n",
       "    </tr>\n",
       "  </tbody>\n",
       "</table>\n",
       "</div>"
      ],
      "text/plain": [
       "Predicted    0    1\n",
       "Real               \n",
       "0.0        749  346\n",
       "1.0         31   39"
      ]
     },
     "execution_count": 60,
     "metadata": {
      "tags": []
     },
     "output_type": "execute_result"
    }
   ],
   "source": [
    "df = pd.DataFrame(list(zip(real,rf_hardclasses)),columns=[\"Real\",\"Predicted\"])\n",
    "\n",
    "pd.crosstab(df[\"Real\"], df[\"Predicted\"])"
   ]
  },
  {
   "cell_type": "code",
   "execution_count": 61,
   "metadata": {
    "colab": {
     "base_uri": "https://localhost:8080/",
     "height": 35
    },
    "colab_type": "code",
    "id": "SINAIZyeIPNU",
    "outputId": "9bba4391-681d-4ec7-fd9a-8b0a6f048ea3"
   },
   "outputs": [
    {
     "data": {
      "text/plain": [
       "0.6205805609915199"
      ]
     },
     "execution_count": 61,
     "metadata": {
      "tags": []
     },
     "output_type": "execute_result"
    }
   ],
   "source": [
    "roc_auc_score(real,rf_hardclasses)"
   ]
  },
  {
   "cell_type": "code",
   "execution_count": 0,
   "metadata": {
    "colab": {},
    "colab_type": "code",
    "id": "pQEpKohTIPNX"
   },
   "outputs": [],
   "source": [
    "rf_train_data = rf_model.predict_proba(cartrain_train_independent)[:,1]"
   ]
  },
  {
   "cell_type": "code",
   "execution_count": 0,
   "metadata": {
    "colab": {},
    "colab_type": "code",
    "id": "bTTSLGesIPNb"
   },
   "outputs": [],
   "source": [
    "pred = (rf_train_data > mycutoff ).astype(int)"
   ]
  },
  {
   "cell_type": "code",
   "execution_count": 0,
   "metadata": {
    "colab": {},
    "colab_type": "code",
    "id": "Dc9UcsHBIPNd"
   },
   "outputs": [],
   "source": []
  },
  {
   "cell_type": "markdown",
   "metadata": {
    "colab_type": "text",
    "id": "Kg8u3XKWIPNh"
   },
   "source": [
    "# Using XGBOOST "
   ]
  },
  {
   "cell_type": "code",
   "execution_count": 0,
   "metadata": {
    "colab": {},
    "colab_type": "code",
    "id": "nRdHdKX6IPNi"
   },
   "outputs": [],
   "source": [
    "# finding the best n_estimator\n",
    "xgb_params = {\n",
    "                \"n_estimators\": [100,500,700,900,1200,1500]\n",
    "}"
   ]
  },
  {
   "cell_type": "code",
   "execution_count": 0,
   "metadata": {
    "colab": {},
    "colab_type": "code",
    "id": "HyR38M_0IPNl"
   },
   "outputs": [],
   "source": [
    "xgb1= XGBClassifier(learning_rate=0.1,subsample=0.8, colsample_bytree=0.8, colsample_bylevel=0.8)"
   ]
  },
  {
   "cell_type": "code",
   "execution_count": 0,
   "metadata": {
    "colab": {},
    "colab_type": "code",
    "id": "urgp2UrcIPNs"
   },
   "outputs": [],
   "source": [
    "from sklearn.model_selection import GridSearchCV # since there are not much parameters to tune therefore using grid search cv"
   ]
  },
  {
   "cell_type": "code",
   "execution_count": 0,
   "metadata": {
    "colab": {},
    "colab_type": "code",
    "id": "7xomNEArIPN-"
   },
   "outputs": [],
   "source": [
    "grid_search = GridSearchCV(xgb1,cv=10,\n",
    "                           param_grid=xgb_params,scoring='roc_auc',\n",
    "                           verbose=2,\n",
    "                           n_jobs=-1\n",
    "                          )"
   ]
  },
  {
   "cell_type": "code",
   "execution_count": 68,
   "metadata": {
    "colab": {
     "base_uri": "https://localhost:8080/",
     "height": 366
    },
    "colab_type": "code",
    "id": "nzvsTWKwIPOO",
    "outputId": "cde48faf-1d0f-4a51-9f76-dcd629c272b3"
   },
   "outputs": [
    {
     "name": "stdout",
     "output_type": "stream",
     "text": [
      "Fitting 10 folds for each of 6 candidates, totalling 60 fits\n"
     ]
    },
    {
     "name": "stderr",
     "output_type": "stream",
     "text": [
      "[Parallel(n_jobs=-1)]: Using backend LokyBackend with 2 concurrent workers.\n",
      "[Parallel(n_jobs=-1)]: Done  37 tasks      | elapsed:  2.8min\n",
      "[Parallel(n_jobs=-1)]: Done  60 out of  60 | elapsed:  6.7min finished\n"
     ]
    },
    {
     "data": {
      "text/plain": [
       "GridSearchCV(cv=10, error_score='raise-deprecating',\n",
       "             estimator=XGBClassifier(base_score=0.5, booster='gbtree',\n",
       "                                     colsample_bylevel=0.8, colsample_bynode=1,\n",
       "                                     colsample_bytree=0.8, gamma=0,\n",
       "                                     learning_rate=0.1, max_delta_step=0,\n",
       "                                     max_depth=3, min_child_weight=1,\n",
       "                                     missing=None, n_estimators=100, n_jobs=1,\n",
       "                                     nthread=None, objective='binary:logistic',\n",
       "                                     random_state=0, reg_alpha=0, reg_lambda=1,\n",
       "                                     scale_pos_weight=1, seed=None, silent=None,\n",
       "                                     subsample=0.8, verbosity=1),\n",
       "             iid='warn', n_jobs=-1,\n",
       "             param_grid={'n_estimators': [100, 500, 700, 900, 1200, 1500]},\n",
       "             pre_dispatch='2*n_jobs', refit=True, return_train_score=False,\n",
       "             scoring='roc_auc', verbose=2)"
      ]
     },
     "execution_count": 68,
     "metadata": {
      "tags": []
     },
     "output_type": "execute_result"
    }
   ],
   "source": [
    "grid_search.fit(cartrain_train_independent,cartrain_train_dependent)"
   ]
  },
  {
   "cell_type": "code",
   "execution_count": 0,
   "metadata": {
    "colab": {},
    "colab_type": "code",
    "id": "EpEpBFDfIPOS"
   },
   "outputs": [],
   "source": [
    "def report(results, n_top=3):\n",
    "    for i in range(1,n_top+1):\n",
    "        candidates = np.flatnonzero(results['rank_test_score']==1)\n",
    "        for candidate in candidates:\n",
    "            print(\"Model with rank: {0}\".format(i))\n",
    "            print(\"Mean validation score: {0:.3f} (std: {1:.3f})\".format(\n",
    "            results[\"mean_test_score\"][candidate],\n",
    "            results[\"std_test_score\"][candidate]))\n",
    "            print(\"Parameters: {0}\".format(results['params'][candidate]))\n",
    "        print(\"\")"
   ]
  },
  {
   "cell_type": "code",
   "execution_count": 70,
   "metadata": {
    "colab": {
     "base_uri": "https://localhost:8080/",
     "height": 237
    },
    "colab_type": "code",
    "id": "eG6sjhvfIPOU",
    "outputId": "574fc5f5-6c3b-4cad-9a50-5061b10c34e3"
   },
   "outputs": [
    {
     "name": "stdout",
     "output_type": "stream",
     "text": [
      "Model with rank: 1\n",
      "Mean validation score: 0.755 (std: 0.030)\n",
      "Parameters: {'n_estimators': 100}\n",
      "\n",
      "Model with rank: 2\n",
      "Mean validation score: 0.755 (std: 0.030)\n",
      "Parameters: {'n_estimators': 100}\n",
      "\n",
      "Model with rank: 3\n",
      "Mean validation score: 0.755 (std: 0.030)\n",
      "Parameters: {'n_estimators': 100}\n",
      "\n"
     ]
    }
   ],
   "source": [
    "report(grid_search.cv_results_,3)"
   ]
  },
  {
   "cell_type": "code",
   "execution_count": 0,
   "metadata": {
    "colab": {},
    "colab_type": "code",
    "id": "FqpqFPNxIPOZ"
   },
   "outputs": [],
   "source": [
    "xgb_params = {\n",
    "    \"gamma\":[0,2,5,8,10], \n",
    "    \"min_child_weight\":[0.5,1,2,5,10],\n",
    "    \"max_depth\":[2,3,4,5,6,7,8]\n",
    "}"
   ]
  },
  {
   "cell_type": "code",
   "execution_count": 0,
   "metadata": {
    "colab": {},
    "colab_type": "code",
    "id": "0EsaFBdZIPOe"
   },
   "outputs": [],
   "source": [
    "xgb2 = XGBClassifier(learning_rate=0.1,subsample=0.8, colsample_bytree=0.8, colsample_bylevel=0.8,n_estimators=100)"
   ]
  },
  {
   "cell_type": "code",
   "execution_count": 0,
   "metadata": {
    "colab": {},
    "colab_type": "code",
    "id": "2J4NRSGhIPOk"
   },
   "outputs": [],
   "source": [
    "random_search_ =RandomizedSearchCV(xgb2,param_distributions=xgb_params,n_iter=20,cv=10,scoring='roc_auc',n_jobs=-1,verbose=2)"
   ]
  },
  {
   "cell_type": "code",
   "execution_count": 74,
   "metadata": {
    "colab": {
     "base_uri": "https://localhost:8080/",
     "height": 476
    },
    "colab_type": "code",
    "id": "jAascBwNIPOo",
    "outputId": "67358d21-bb4f-4144-9276-0a4c0176fafc"
   },
   "outputs": [
    {
     "name": "stdout",
     "output_type": "stream",
     "text": [
      "Fitting 10 folds for each of 20 candidates, totalling 200 fits\n"
     ]
    },
    {
     "name": "stderr",
     "output_type": "stream",
     "text": [
      "[Parallel(n_jobs=-1)]: Using backend LokyBackend with 2 concurrent workers.\n",
      "[Parallel(n_jobs=-1)]: Done  37 tasks      | elapsed:   37.7s\n",
      "[Parallel(n_jobs=-1)]: Done 158 tasks      | elapsed:  3.4min\n",
      "[Parallel(n_jobs=-1)]: Done 200 out of 200 | elapsed:  4.6min finished\n"
     ]
    },
    {
     "data": {
      "text/plain": [
       "RandomizedSearchCV(cv=10, error_score='raise-deprecating',\n",
       "                   estimator=XGBClassifier(base_score=0.5, booster='gbtree',\n",
       "                                           colsample_bylevel=0.8,\n",
       "                                           colsample_bynode=1,\n",
       "                                           colsample_bytree=0.8, gamma=0,\n",
       "                                           learning_rate=0.1, max_delta_step=0,\n",
       "                                           max_depth=3, min_child_weight=1,\n",
       "                                           missing=None, n_estimators=100,\n",
       "                                           n_jobs=1, nthread=None,\n",
       "                                           objective='binary:logistic',\n",
       "                                           random_state=0, reg_alpha=0,\n",
       "                                           reg_lambda=1, scale_pos_weight=1,\n",
       "                                           seed=None, silent=None,\n",
       "                                           subsample=0.8, verbosity=1),\n",
       "                   iid='warn', n_iter=20, n_jobs=-1,\n",
       "                   param_distributions={'gamma': [0, 2, 5, 8, 10],\n",
       "                                        'max_depth': [2, 3, 4, 5, 6, 7, 8],\n",
       "                                        'min_child_weight': [0.5, 1, 2, 5, 10]},\n",
       "                   pre_dispatch='2*n_jobs', random_state=None, refit=True,\n",
       "                   return_train_score=False, scoring='roc_auc', verbose=2)"
      ]
     },
     "execution_count": 74,
     "metadata": {
      "tags": []
     },
     "output_type": "execute_result"
    }
   ],
   "source": [
    "random_search_.fit(cartrain_train_independent,cartrain_train_dependent)"
   ]
  },
  {
   "cell_type": "code",
   "execution_count": 75,
   "metadata": {
    "colab": {
     "base_uri": "https://localhost:8080/",
     "height": 237
    },
    "colab_type": "code",
    "id": "Qxq2Yv4iIPOr",
    "outputId": "3a9e0a16-bd5e-4d3c-a476-d213ce3b1096"
   },
   "outputs": [
    {
     "name": "stdout",
     "output_type": "stream",
     "text": [
      "Model with rank: 1\n",
      "Mean validation score: 0.752 (std: 0.034)\n",
      "Parameters: {'min_child_weight': 0.5, 'max_depth': 3, 'gamma': 0}\n",
      "\n",
      "Model with rank: 2\n",
      "Mean validation score: 0.752 (std: 0.034)\n",
      "Parameters: {'min_child_weight': 0.5, 'max_depth': 3, 'gamma': 0}\n",
      "\n",
      "Model with rank: 3\n",
      "Mean validation score: 0.752 (std: 0.034)\n",
      "Parameters: {'min_child_weight': 0.5, 'max_depth': 3, 'gamma': 0}\n",
      "\n"
     ]
    }
   ],
   "source": [
    "report(random_search_.cv_results_)"
   ]
  },
  {
   "cell_type": "code",
   "execution_count": 0,
   "metadata": {
    "colab": {},
    "colab_type": "code",
    "id": "4Jmp_l6kIPOv"
   },
   "outputs": [],
   "source": [
    "xgb_params = {\n",
    "    \"gamma\":[5,6,7,8],\n",
    "    \"max_delta_step\":[1,3,6,10],\n",
    "    \"scale_pos_weight\":[3,7,11,15]\n",
    "}"
   ]
  },
  {
   "cell_type": "code",
   "execution_count": 0,
   "metadata": {
    "colab": {},
    "colab_type": "code",
    "id": "LaKBT4OEIPOz"
   },
   "outputs": [],
   "source": [
    "xgb3 = XGBClassifier(learning_rate=0.1,subsample=0.8, colsample_bytree=0.8, colsample_bylevel=0.8,n_estimators=100,\n",
    "                    min_child_weight=2,max_depth=3)"
   ]
  },
  {
   "cell_type": "code",
   "execution_count": 0,
   "metadata": {
    "colab": {},
    "colab_type": "code",
    "id": "aGnOX3ZWIPO2"
   },
   "outputs": [],
   "source": [
    "Random__search=RandomizedSearchCV(xgb3,param_distributions=xgb_params,scoring=\"roc_auc\",n_jobs=-1,verbose=10,cv=10,n_iter=20)"
   ]
  },
  {
   "cell_type": "code",
   "execution_count": 79,
   "metadata": {
    "colab": {
     "base_uri": "https://localhost:8080/",
     "height": 770
    },
    "colab_type": "code",
    "id": "Xzbg6d6EIPO8",
    "outputId": "b090b337-bc00-484b-fb49-83d38b722614"
   },
   "outputs": [
    {
     "name": "stdout",
     "output_type": "stream",
     "text": [
      "Fitting 10 folds for each of 20 candidates, totalling 200 fits\n"
     ]
    },
    {
     "name": "stderr",
     "output_type": "stream",
     "text": [
      "[Parallel(n_jobs=-1)]: Using backend LokyBackend with 2 concurrent workers.\n",
      "[Parallel(n_jobs=-1)]: Done   1 tasks      | elapsed:    1.7s\n",
      "[Parallel(n_jobs=-1)]: Done   4 tasks      | elapsed:    3.5s\n",
      "[Parallel(n_jobs=-1)]: Done   9 tasks      | elapsed:    8.6s\n",
      "[Parallel(n_jobs=-1)]: Done  14 tasks      | elapsed:   12.1s\n",
      "[Parallel(n_jobs=-1)]: Done  21 tasks      | elapsed:   18.9s\n",
      "[Parallel(n_jobs=-1)]: Done  28 tasks      | elapsed:   24.3s\n",
      "[Parallel(n_jobs=-1)]: Done  37 tasks      | elapsed:   32.7s\n",
      "[Parallel(n_jobs=-1)]: Done  46 tasks      | elapsed:   39.8s\n",
      "[Parallel(n_jobs=-1)]: Done  57 tasks      | elapsed:   49.9s\n",
      "[Parallel(n_jobs=-1)]: Done  68 tasks      | elapsed:   58.8s\n",
      "[Parallel(n_jobs=-1)]: Done  81 tasks      | elapsed:  1.2min\n",
      "[Parallel(n_jobs=-1)]: Done  94 tasks      | elapsed:  1.4min\n",
      "[Parallel(n_jobs=-1)]: Done 109 tasks      | elapsed:  1.6min\n",
      "[Parallel(n_jobs=-1)]: Done 124 tasks      | elapsed:  1.8min\n",
      "[Parallel(n_jobs=-1)]: Done 141 tasks      | elapsed:  2.0min\n",
      "[Parallel(n_jobs=-1)]: Done 158 tasks      | elapsed:  2.3min\n",
      "[Parallel(n_jobs=-1)]: Done 177 tasks      | elapsed:  2.5min\n",
      "[Parallel(n_jobs=-1)]: Done 196 tasks      | elapsed:  2.8min\n",
      "[Parallel(n_jobs=-1)]: Done 200 out of 200 | elapsed:  2.9min finished\n"
     ]
    },
    {
     "data": {
      "text/plain": [
       "RandomizedSearchCV(cv=10, error_score='raise-deprecating',\n",
       "                   estimator=XGBClassifier(base_score=0.5, booster='gbtree',\n",
       "                                           colsample_bylevel=0.8,\n",
       "                                           colsample_bynode=1,\n",
       "                                           colsample_bytree=0.8, gamma=0,\n",
       "                                           learning_rate=0.1, max_delta_step=0,\n",
       "                                           max_depth=3, min_child_weight=2,\n",
       "                                           missing=None, n_estimators=100,\n",
       "                                           n_jobs=1, nthread=None,\n",
       "                                           objective='binary:logistic',\n",
       "                                           random_state=0, reg_alpha=0,\n",
       "                                           reg_lambda=1, scale_pos_weight=1,\n",
       "                                           seed=None, silent=None,\n",
       "                                           subsample=0.8, verbosity=1),\n",
       "                   iid='warn', n_iter=20, n_jobs=-1,\n",
       "                   param_distributions={'gamma': [5, 6, 7, 8],\n",
       "                                        'max_delta_step': [1, 3, 6, 10],\n",
       "                                        'scale_pos_weight': [3, 7, 11, 15]},\n",
       "                   pre_dispatch='2*n_jobs', random_state=None, refit=True,\n",
       "                   return_train_score=False, scoring='roc_auc', verbose=10)"
      ]
     },
     "execution_count": 79,
     "metadata": {
      "tags": []
     },
     "output_type": "execute_result"
    }
   ],
   "source": [
    "Random__search.fit(cartrain_train_independent,cartrain_train_dependent)"
   ]
  },
  {
   "cell_type": "code",
   "execution_count": 80,
   "metadata": {
    "colab": {
     "base_uri": "https://localhost:8080/",
     "height": 237
    },
    "colab_type": "code",
    "id": "kiv15ADzIPPB",
    "outputId": "300db3d5-0d99-414d-8183-5b730a61b182"
   },
   "outputs": [
    {
     "name": "stdout",
     "output_type": "stream",
     "text": [
      "Model with rank: 1\n",
      "Mean validation score: 0.756 (std: 0.031)\n",
      "Parameters: {'scale_pos_weight': 7, 'max_delta_step': 1, 'gamma': 7}\n",
      "\n",
      "Model with rank: 2\n",
      "Mean validation score: 0.756 (std: 0.031)\n",
      "Parameters: {'scale_pos_weight': 7, 'max_delta_step': 1, 'gamma': 7}\n",
      "\n",
      "Model with rank: 3\n",
      "Mean validation score: 0.756 (std: 0.031)\n",
      "Parameters: {'scale_pos_weight': 7, 'max_delta_step': 1, 'gamma': 7}\n",
      "\n"
     ]
    }
   ],
   "source": [
    "report(Random__search.cv_results_)"
   ]
  },
  {
   "cell_type": "code",
   "execution_count": 0,
   "metadata": {
    "colab": {},
    "colab_type": "code",
    "id": "qFZEFjOzIPPF"
   },
   "outputs": [],
   "source": [
    "xgb_params = {\n",
    "    \"subsample\": [i/10 for i in range(5 , 11)], \n",
    "    \"colsample_bytree\": [i/10 for i in range(5 , 11)],\n",
    "    \"colsample_bylevel\" :[i/10 for i in range(5 , 11)]\n",
    "}"
   ]
  },
  {
   "cell_type": "code",
   "execution_count": 0,
   "metadata": {
    "colab": {},
    "colab_type": "code",
    "id": "LSrQ7eFvIPPJ"
   },
   "outputs": [],
   "source": [
    "xgb5 = XGBClassifier(learning_rate=0.1,n_estimators=100,\n",
    "                    min_child_weight=2,max_depth=3,scale_pos_weight=3,max_delta_step=1,gamma=7)"
   ]
  },
  {
   "cell_type": "code",
   "execution_count": 0,
   "metadata": {
    "colab": {},
    "colab_type": "code",
    "id": "-OF5pf77IPPM"
   },
   "outputs": [],
   "source": [
    "random___search = RandomizedSearchCV(xgb5,param_distributions=xgb_params,verbose=10,scoring = \"roc_auc\",cv = 10 , n_iter=20)"
   ]
  },
  {
   "cell_type": "code",
   "execution_count": 84,
   "metadata": {
    "colab": {
     "base_uri": "https://localhost:8080/",
     "height": 1000
    },
    "colab_type": "code",
    "id": "fiRVYL34IPPP",
    "outputId": "0ea9d825-d7b4-429c-ad93-c78687557c0f"
   },
   "outputs": [
    {
     "name": "stdout",
     "output_type": "stream",
     "text": [
      "Fitting 10 folds for each of 20 candidates, totalling 200 fits\n",
      "[CV] subsample=0.6, colsample_bytree=0.8, colsample_bylevel=1.0 ......\n"
     ]
    },
    {
     "name": "stderr",
     "output_type": "stream",
     "text": [
      "[Parallel(n_jobs=1)]: Using backend SequentialBackend with 1 concurrent workers.\n"
     ]
    },
    {
     "name": "stdout",
     "output_type": "stream",
     "text": [
      "[CV]  subsample=0.6, colsample_bytree=0.8, colsample_bylevel=1.0, score=0.791, total=   1.6s\n",
      "[CV] subsample=0.6, colsample_bytree=0.8, colsample_bylevel=1.0 ......\n"
     ]
    },
    {
     "name": "stderr",
     "output_type": "stream",
     "text": [
      "[Parallel(n_jobs=1)]: Done   1 out of   1 | elapsed:    1.6s remaining:    0.0s\n"
     ]
    },
    {
     "name": "stdout",
     "output_type": "stream",
     "text": [
      "[CV]  subsample=0.6, colsample_bytree=0.8, colsample_bylevel=1.0, score=0.715, total=   1.6s\n",
      "[CV] subsample=0.6, colsample_bytree=0.8, colsample_bylevel=1.0 ......\n"
     ]
    },
    {
     "name": "stderr",
     "output_type": "stream",
     "text": [
      "[Parallel(n_jobs=1)]: Done   2 out of   2 | elapsed:    3.2s remaining:    0.0s\n"
     ]
    },
    {
     "name": "stdout",
     "output_type": "stream",
     "text": [
      "[CV]  subsample=0.6, colsample_bytree=0.8, colsample_bylevel=1.0, score=0.756, total=   1.6s\n",
      "[CV] subsample=0.6, colsample_bytree=0.8, colsample_bylevel=1.0 ......\n"
     ]
    },
    {
     "name": "stderr",
     "output_type": "stream",
     "text": [
      "[Parallel(n_jobs=1)]: Done   3 out of   3 | elapsed:    4.7s remaining:    0.0s\n"
     ]
    },
    {
     "name": "stdout",
     "output_type": "stream",
     "text": [
      "[CV]  subsample=0.6, colsample_bytree=0.8, colsample_bylevel=1.0, score=0.694, total=   1.6s\n",
      "[CV] subsample=0.6, colsample_bytree=0.8, colsample_bylevel=1.0 ......\n"
     ]
    },
    {
     "name": "stderr",
     "output_type": "stream",
     "text": [
      "[Parallel(n_jobs=1)]: Done   4 out of   4 | elapsed:    6.3s remaining:    0.0s\n"
     ]
    },
    {
     "name": "stdout",
     "output_type": "stream",
     "text": [
      "[CV]  subsample=0.6, colsample_bytree=0.8, colsample_bylevel=1.0, score=0.763, total=   1.6s\n",
      "[CV] subsample=0.6, colsample_bytree=0.8, colsample_bylevel=1.0 ......\n"
     ]
    },
    {
     "name": "stderr",
     "output_type": "stream",
     "text": [
      "[Parallel(n_jobs=1)]: Done   5 out of   5 | elapsed:    7.9s remaining:    0.0s\n"
     ]
    },
    {
     "name": "stdout",
     "output_type": "stream",
     "text": [
      "[CV]  subsample=0.6, colsample_bytree=0.8, colsample_bylevel=1.0, score=0.814, total=   1.6s\n",
      "[CV] subsample=0.6, colsample_bytree=0.8, colsample_bylevel=1.0 ......\n"
     ]
    },
    {
     "name": "stderr",
     "output_type": "stream",
     "text": [
      "[Parallel(n_jobs=1)]: Done   6 out of   6 | elapsed:    9.5s remaining:    0.0s\n"
     ]
    },
    {
     "name": "stdout",
     "output_type": "stream",
     "text": [
      "[CV]  subsample=0.6, colsample_bytree=0.8, colsample_bylevel=1.0, score=0.724, total=   1.6s\n",
      "[CV] subsample=0.6, colsample_bytree=0.8, colsample_bylevel=1.0 ......\n"
     ]
    },
    {
     "name": "stderr",
     "output_type": "stream",
     "text": [
      "[Parallel(n_jobs=1)]: Done   7 out of   7 | elapsed:   11.1s remaining:    0.0s\n"
     ]
    },
    {
     "name": "stdout",
     "output_type": "stream",
     "text": [
      "[CV]  subsample=0.6, colsample_bytree=0.8, colsample_bylevel=1.0, score=0.769, total=   1.6s\n",
      "[CV] subsample=0.6, colsample_bytree=0.8, colsample_bylevel=1.0 ......\n"
     ]
    },
    {
     "name": "stderr",
     "output_type": "stream",
     "text": [
      "[Parallel(n_jobs=1)]: Done   8 out of   8 | elapsed:   12.6s remaining:    0.0s\n"
     ]
    },
    {
     "name": "stdout",
     "output_type": "stream",
     "text": [
      "[CV]  subsample=0.6, colsample_bytree=0.8, colsample_bylevel=1.0, score=0.757, total=   1.6s\n",
      "[CV] subsample=0.6, colsample_bytree=0.8, colsample_bylevel=1.0 ......\n"
     ]
    },
    {
     "name": "stderr",
     "output_type": "stream",
     "text": [
      "[Parallel(n_jobs=1)]: Done   9 out of   9 | elapsed:   14.2s remaining:    0.0s\n"
     ]
    },
    {
     "name": "stdout",
     "output_type": "stream",
     "text": [
      "[CV]  subsample=0.6, colsample_bytree=0.8, colsample_bylevel=1.0, score=0.719, total=   1.6s\n",
      "[CV] subsample=0.9, colsample_bytree=1.0, colsample_bylevel=0.6 ......\n",
      "[CV]  subsample=0.9, colsample_bytree=1.0, colsample_bylevel=0.6, score=0.812, total=   1.0s\n",
      "[CV] subsample=0.9, colsample_bytree=1.0, colsample_bylevel=0.6 ......\n",
      "[CV]  subsample=0.9, colsample_bytree=1.0, colsample_bylevel=0.6, score=0.731, total=   1.0s\n",
      "[CV] subsample=0.9, colsample_bytree=1.0, colsample_bylevel=0.6 ......\n",
      "[CV]  subsample=0.9, colsample_bytree=1.0, colsample_bylevel=0.6, score=0.759, total=   1.0s\n",
      "[CV] subsample=0.9, colsample_bytree=1.0, colsample_bylevel=0.6 ......\n",
      "[CV]  subsample=0.9, colsample_bytree=1.0, colsample_bylevel=0.6, score=0.686, total=   1.0s\n",
      "[CV] subsample=0.9, colsample_bytree=1.0, colsample_bylevel=0.6 ......\n",
      "[CV]  subsample=0.9, colsample_bytree=1.0, colsample_bylevel=0.6, score=0.759, total=   1.0s\n",
      "[CV] subsample=0.9, colsample_bytree=1.0, colsample_bylevel=0.6 ......\n",
      "[CV]  subsample=0.9, colsample_bytree=1.0, colsample_bylevel=0.6, score=0.798, total=   1.0s\n",
      "[CV] subsample=0.9, colsample_bytree=1.0, colsample_bylevel=0.6 ......\n",
      "[CV]  subsample=0.9, colsample_bytree=1.0, colsample_bylevel=0.6, score=0.754, total=   1.0s\n",
      "[CV] subsample=0.9, colsample_bytree=1.0, colsample_bylevel=0.6 ......\n",
      "[CV]  subsample=0.9, colsample_bytree=1.0, colsample_bylevel=0.6, score=0.737, total=   1.0s\n",
      "[CV] subsample=0.9, colsample_bytree=1.0, colsample_bylevel=0.6 ......\n",
      "[CV]  subsample=0.9, colsample_bytree=1.0, colsample_bylevel=0.6, score=0.762, total=   1.1s\n",
      "[CV] subsample=0.9, colsample_bytree=1.0, colsample_bylevel=0.6 ......\n",
      "[CV]  subsample=0.9, colsample_bytree=1.0, colsample_bylevel=0.6, score=0.733, total=   1.0s\n",
      "[CV] subsample=0.8, colsample_bytree=1.0, colsample_bylevel=0.7 ......\n",
      "[CV]  subsample=0.8, colsample_bytree=1.0, colsample_bylevel=0.7, score=0.802, total=   1.2s\n",
      "[CV] subsample=0.8, colsample_bytree=1.0, colsample_bylevel=0.7 ......\n",
      "[CV]  subsample=0.8, colsample_bytree=1.0, colsample_bylevel=0.7, score=0.743, total=   1.2s\n",
      "[CV] subsample=0.8, colsample_bytree=1.0, colsample_bylevel=0.7 ......\n",
      "[CV]  subsample=0.8, colsample_bytree=1.0, colsample_bylevel=0.7, score=0.760, total=   1.2s\n",
      "[CV] subsample=0.8, colsample_bytree=1.0, colsample_bylevel=0.7 ......\n",
      "[CV]  subsample=0.8, colsample_bytree=1.0, colsample_bylevel=0.7, score=0.680, total=   1.2s\n",
      "[CV] subsample=0.8, colsample_bytree=1.0, colsample_bylevel=0.7 ......\n",
      "[CV]  subsample=0.8, colsample_bytree=1.0, colsample_bylevel=0.7, score=0.750, total=   1.2s\n",
      "[CV] subsample=0.8, colsample_bytree=1.0, colsample_bylevel=0.7 ......\n",
      "[CV]  subsample=0.8, colsample_bytree=1.0, colsample_bylevel=0.7, score=0.811, total=   1.2s\n",
      "[CV] subsample=0.8, colsample_bytree=1.0, colsample_bylevel=0.7 ......\n",
      "[CV]  subsample=0.8, colsample_bytree=1.0, colsample_bylevel=0.7, score=0.741, total=   1.2s\n",
      "[CV] subsample=0.8, colsample_bytree=1.0, colsample_bylevel=0.7 ......\n",
      "[CV]  subsample=0.8, colsample_bytree=1.0, colsample_bylevel=0.7, score=0.733, total=   1.2s\n",
      "[CV] subsample=0.8, colsample_bytree=1.0, colsample_bylevel=0.7 ......\n",
      "[CV]  subsample=0.8, colsample_bytree=1.0, colsample_bylevel=0.7, score=0.754, total=   1.3s\n",
      "[CV] subsample=0.8, colsample_bytree=1.0, colsample_bylevel=0.7 ......\n",
      "[CV]  subsample=0.8, colsample_bytree=1.0, colsample_bylevel=0.7, score=0.717, total=   1.2s\n",
      "[CV] subsample=0.6, colsample_bytree=0.6, colsample_bylevel=0.8 ......\n",
      "[CV]  subsample=0.6, colsample_bytree=0.6, colsample_bylevel=0.8, score=0.804, total=   1.1s\n",
      "[CV] subsample=0.6, colsample_bytree=0.6, colsample_bylevel=0.8 ......\n",
      "[CV]  subsample=0.6, colsample_bytree=0.6, colsample_bylevel=0.8, score=0.717, total=   1.1s\n",
      "[CV] subsample=0.6, colsample_bytree=0.6, colsample_bylevel=0.8 ......\n",
      "[CV]  subsample=0.6, colsample_bytree=0.6, colsample_bylevel=0.8, score=0.756, total=   1.1s\n",
      "[CV] subsample=0.6, colsample_bytree=0.6, colsample_bylevel=0.8 ......\n",
      "[CV]  subsample=0.6, colsample_bytree=0.6, colsample_bylevel=0.8, score=0.701, total=   1.1s\n",
      "[CV] subsample=0.6, colsample_bytree=0.6, colsample_bylevel=0.8 ......\n",
      "[CV]  subsample=0.6, colsample_bytree=0.6, colsample_bylevel=0.8, score=0.747, total=   1.1s\n",
      "[CV] subsample=0.6, colsample_bytree=0.6, colsample_bylevel=0.8 ......\n",
      "[CV]  subsample=0.6, colsample_bytree=0.6, colsample_bylevel=0.8, score=0.819, total=   1.1s\n",
      "[CV] subsample=0.6, colsample_bytree=0.6, colsample_bylevel=0.8 ......\n",
      "[CV]  subsample=0.6, colsample_bytree=0.6, colsample_bylevel=0.8, score=0.718, total=   1.1s\n",
      "[CV] subsample=0.6, colsample_bytree=0.6, colsample_bylevel=0.8 ......\n",
      "[CV]  subsample=0.6, colsample_bytree=0.6, colsample_bylevel=0.8, score=0.773, total=   1.1s\n",
      "[CV] subsample=0.6, colsample_bytree=0.6, colsample_bylevel=0.8 ......\n",
      "[CV]  subsample=0.6, colsample_bytree=0.6, colsample_bylevel=0.8, score=0.746, total=   1.1s\n",
      "[CV] subsample=0.6, colsample_bytree=0.6, colsample_bylevel=0.8 ......\n",
      "[CV]  subsample=0.6, colsample_bytree=0.6, colsample_bylevel=0.8, score=0.743, total=   1.1s\n",
      "[CV] subsample=0.5, colsample_bytree=0.9, colsample_bylevel=0.6 ......\n",
      "[CV]  subsample=0.5, colsample_bytree=0.9, colsample_bylevel=0.6, score=0.805, total=   1.2s\n",
      "[CV] subsample=0.5, colsample_bytree=0.9, colsample_bylevel=0.6 ......\n",
      "[CV]  subsample=0.5, colsample_bytree=0.9, colsample_bylevel=0.6, score=0.699, total=   1.2s\n",
      "[CV] subsample=0.5, colsample_bytree=0.9, colsample_bylevel=0.6 ......\n",
      "[CV]  subsample=0.5, colsample_bytree=0.9, colsample_bylevel=0.6, score=0.738, total=   1.2s\n",
      "[CV] subsample=0.5, colsample_bytree=0.9, colsample_bylevel=0.6 ......\n",
      "[CV]  subsample=0.5, colsample_bytree=0.9, colsample_bylevel=0.6, score=0.709, total=   1.2s\n",
      "[CV] subsample=0.5, colsample_bytree=0.9, colsample_bylevel=0.6 ......\n",
      "[CV]  subsample=0.5, colsample_bytree=0.9, colsample_bylevel=0.6, score=0.752, total=   1.3s\n",
      "[CV] subsample=0.5, colsample_bytree=0.9, colsample_bylevel=0.6 ......\n",
      "[CV]  subsample=0.5, colsample_bytree=0.9, colsample_bylevel=0.6, score=0.802, total=   1.2s\n",
      "[CV] subsample=0.5, colsample_bytree=0.9, colsample_bylevel=0.6 ......\n",
      "[CV]  subsample=0.5, colsample_bytree=0.9, colsample_bylevel=0.6, score=0.731, total=   1.2s\n",
      "[CV] subsample=0.5, colsample_bytree=0.9, colsample_bylevel=0.6 ......\n",
      "[CV]  subsample=0.5, colsample_bytree=0.9, colsample_bylevel=0.6, score=0.780, total=   1.2s\n",
      "[CV] subsample=0.5, colsample_bytree=0.9, colsample_bylevel=0.6 ......\n",
      "[CV]  subsample=0.5, colsample_bytree=0.9, colsample_bylevel=0.6, score=0.763, total=   1.2s\n",
      "[CV] subsample=0.5, colsample_bytree=0.9, colsample_bylevel=0.6 ......\n",
      "[CV]  subsample=0.5, colsample_bytree=0.9, colsample_bylevel=0.6, score=0.737, total=   1.2s\n",
      "[CV] subsample=0.7, colsample_bytree=0.8, colsample_bylevel=1.0 ......\n",
      "[CV]  subsample=0.7, colsample_bytree=0.8, colsample_bylevel=1.0, score=0.789, total=   1.5s\n",
      "[CV] subsample=0.7, colsample_bytree=0.8, colsample_bylevel=1.0 ......\n",
      "[CV]  subsample=0.7, colsample_bytree=0.8, colsample_bylevel=1.0, score=0.707, total=   1.5s\n",
      "[CV] subsample=0.7, colsample_bytree=0.8, colsample_bylevel=1.0 ......\n",
      "[CV]  subsample=0.7, colsample_bytree=0.8, colsample_bylevel=1.0, score=0.721, total=   1.5s\n",
      "[CV] subsample=0.7, colsample_bytree=0.8, colsample_bylevel=1.0 ......\n",
      "[CV]  subsample=0.7, colsample_bytree=0.8, colsample_bylevel=1.0, score=0.692, total=   1.5s\n",
      "[CV] subsample=0.7, colsample_bytree=0.8, colsample_bylevel=1.0 ......\n",
      "[CV]  subsample=0.7, colsample_bytree=0.8, colsample_bylevel=1.0, score=0.766, total=   1.5s\n",
      "[CV] subsample=0.7, colsample_bytree=0.8, colsample_bylevel=1.0 ......\n",
      "[CV]  subsample=0.7, colsample_bytree=0.8, colsample_bylevel=1.0, score=0.814, total=   1.5s\n",
      "[CV] subsample=0.7, colsample_bytree=0.8, colsample_bylevel=1.0 ......\n",
      "[CV]  subsample=0.7, colsample_bytree=0.8, colsample_bylevel=1.0, score=0.713, total=   1.5s\n",
      "[CV] subsample=0.7, colsample_bytree=0.8, colsample_bylevel=1.0 ......\n",
      "[CV]  subsample=0.7, colsample_bytree=0.8, colsample_bylevel=1.0, score=0.757, total=   1.5s\n",
      "[CV] subsample=0.7, colsample_bytree=0.8, colsample_bylevel=1.0 ......\n",
      "[CV]  subsample=0.7, colsample_bytree=0.8, colsample_bylevel=1.0, score=0.760, total=   1.5s\n",
      "[CV] subsample=0.7, colsample_bytree=0.8, colsample_bylevel=1.0 ......\n",
      "[CV]  subsample=0.7, colsample_bytree=0.8, colsample_bylevel=1.0, score=0.725, total=   1.5s\n",
      "[CV] subsample=0.9, colsample_bytree=0.5, colsample_bylevel=0.6 ......\n",
      "[CV]  subsample=0.9, colsample_bytree=0.5, colsample_bylevel=0.6, score=0.809, total=   0.7s\n",
      "[CV] subsample=0.9, colsample_bytree=0.5, colsample_bylevel=0.6 ......\n",
      "[CV]  subsample=0.9, colsample_bytree=0.5, colsample_bylevel=0.6, score=0.742, total=   0.7s\n",
      "[CV] subsample=0.9, colsample_bytree=0.5, colsample_bylevel=0.6 ......\n",
      "[CV]  subsample=0.9, colsample_bytree=0.5, colsample_bylevel=0.6, score=0.743, total=   0.7s\n",
      "[CV] subsample=0.9, colsample_bytree=0.5, colsample_bylevel=0.6 ......\n",
      "[CV]  subsample=0.9, colsample_bytree=0.5, colsample_bylevel=0.6, score=0.697, total=   0.7s\n",
      "[CV] subsample=0.9, colsample_bytree=0.5, colsample_bylevel=0.6 ......\n",
      "[CV]  subsample=0.9, colsample_bytree=0.5, colsample_bylevel=0.6, score=0.757, total=   0.7s\n",
      "[CV] subsample=0.9, colsample_bytree=0.5, colsample_bylevel=0.6 ......\n",
      "[CV]  subsample=0.9, colsample_bytree=0.5, colsample_bylevel=0.6, score=0.795, total=   0.7s\n",
      "[CV] subsample=0.9, colsample_bytree=0.5, colsample_bylevel=0.6 ......\n",
      "[CV]  subsample=0.9, colsample_bytree=0.5, colsample_bylevel=0.6, score=0.755, total=   0.7s\n",
      "[CV] subsample=0.9, colsample_bytree=0.5, colsample_bylevel=0.6 ......\n",
      "[CV]  subsample=0.9, colsample_bytree=0.5, colsample_bylevel=0.6, score=0.758, total=   0.7s\n",
      "[CV] subsample=0.9, colsample_bytree=0.5, colsample_bylevel=0.6 ......\n",
      "[CV]  subsample=0.9, colsample_bytree=0.5, colsample_bylevel=0.6, score=0.750, total=   0.7s\n",
      "[CV] subsample=0.9, colsample_bytree=0.5, colsample_bylevel=0.6 ......\n",
      "[CV]  subsample=0.9, colsample_bytree=0.5, colsample_bylevel=0.6, score=0.747, total=   0.7s\n",
      "[CV] subsample=0.5, colsample_bytree=0.7, colsample_bylevel=0.8 ......\n",
      "[CV]  subsample=0.5, colsample_bytree=0.7, colsample_bylevel=0.8, score=0.787, total=   1.3s\n",
      "[CV] subsample=0.5, colsample_bytree=0.7, colsample_bylevel=0.8 ......\n",
      "[CV]  subsample=0.5, colsample_bytree=0.7, colsample_bylevel=0.8, score=0.721, total=   1.3s\n",
      "[CV] subsample=0.5, colsample_bytree=0.7, colsample_bylevel=0.8 ......\n",
      "[CV]  subsample=0.5, colsample_bytree=0.7, colsample_bylevel=0.8, score=0.723, total=   1.3s\n",
      "[CV] subsample=0.5, colsample_bytree=0.7, colsample_bylevel=0.8 ......\n",
      "[CV]  subsample=0.5, colsample_bytree=0.7, colsample_bylevel=0.8, score=0.714, total=   1.3s\n",
      "[CV] subsample=0.5, colsample_bytree=0.7, colsample_bylevel=0.8 ......\n",
      "[CV]  subsample=0.5, colsample_bytree=0.7, colsample_bylevel=0.8, score=0.742, total=   1.3s\n",
      "[CV] subsample=0.5, colsample_bytree=0.7, colsample_bylevel=0.8 ......\n",
      "[CV]  subsample=0.5, colsample_bytree=0.7, colsample_bylevel=0.8, score=0.830, total=   1.2s\n",
      "[CV] subsample=0.5, colsample_bytree=0.7, colsample_bylevel=0.8 ......\n",
      "[CV]  subsample=0.5, colsample_bytree=0.7, colsample_bylevel=0.8, score=0.727, total=   1.2s\n",
      "[CV] subsample=0.5, colsample_bytree=0.7, colsample_bylevel=0.8 ......\n",
      "[CV]  subsample=0.5, colsample_bytree=0.7, colsample_bylevel=0.8, score=0.748, total=   1.2s\n",
      "[CV] subsample=0.5, colsample_bytree=0.7, colsample_bylevel=0.8 ......\n",
      "[CV]  subsample=0.5, colsample_bytree=0.7, colsample_bylevel=0.8, score=0.752, total=   1.2s\n",
      "[CV] subsample=0.5, colsample_bytree=0.7, colsample_bylevel=0.8 ......\n",
      "[CV]  subsample=0.5, colsample_bytree=0.7, colsample_bylevel=0.8, score=0.729, total=   1.3s\n",
      "[CV] subsample=0.5, colsample_bytree=0.6, colsample_bylevel=0.6 ......\n",
      "[CV]  subsample=0.5, colsample_bytree=0.6, colsample_bylevel=0.6, score=0.795, total=   1.0s\n",
      "[CV] subsample=0.5, colsample_bytree=0.6, colsample_bylevel=0.6 ......\n",
      "[CV]  subsample=0.5, colsample_bytree=0.6, colsample_bylevel=0.6, score=0.724, total=   1.0s\n",
      "[CV] subsample=0.5, colsample_bytree=0.6, colsample_bylevel=0.6 ......\n",
      "[CV]  subsample=0.5, colsample_bytree=0.6, colsample_bylevel=0.6, score=0.723, total=   1.0s\n",
      "[CV] subsample=0.5, colsample_bytree=0.6, colsample_bylevel=0.6 ......\n",
      "[CV]  subsample=0.5, colsample_bytree=0.6, colsample_bylevel=0.6, score=0.707, total=   1.0s\n",
      "[CV] subsample=0.5, colsample_bytree=0.6, colsample_bylevel=0.6 ......\n",
      "[CV]  subsample=0.5, colsample_bytree=0.6, colsample_bylevel=0.6, score=0.723, total=   1.0s\n",
      "[CV] subsample=0.5, colsample_bytree=0.6, colsample_bylevel=0.6 ......\n",
      "[CV]  subsample=0.5, colsample_bytree=0.6, colsample_bylevel=0.6, score=0.832, total=   1.0s\n",
      "[CV] subsample=0.5, colsample_bytree=0.6, colsample_bylevel=0.6 ......\n",
      "[CV]  subsample=0.5, colsample_bytree=0.6, colsample_bylevel=0.6, score=0.741, total=   1.0s\n",
      "[CV] subsample=0.5, colsample_bytree=0.6, colsample_bylevel=0.6 ......\n",
      "[CV]  subsample=0.5, colsample_bytree=0.6, colsample_bylevel=0.6, score=0.767, total=   1.0s\n",
      "[CV] subsample=0.5, colsample_bytree=0.6, colsample_bylevel=0.6 ......\n",
      "[CV]  subsample=0.5, colsample_bytree=0.6, colsample_bylevel=0.6, score=0.754, total=   1.0s\n",
      "[CV] subsample=0.5, colsample_bytree=0.6, colsample_bylevel=0.6 ......\n",
      "[CV]  subsample=0.5, colsample_bytree=0.6, colsample_bylevel=0.6, score=0.709, total=   1.0s\n",
      "[CV] subsample=0.8, colsample_bytree=0.6, colsample_bylevel=0.5 ......\n",
      "[CV]  subsample=0.8, colsample_bytree=0.6, colsample_bylevel=0.5, score=0.811, total=   0.8s\n",
      "[CV] subsample=0.8, colsample_bytree=0.6, colsample_bylevel=0.5 ......\n",
      "[CV]  subsample=0.8, colsample_bytree=0.6, colsample_bylevel=0.5, score=0.714, total=   0.8s\n",
      "[CV] subsample=0.8, colsample_bytree=0.6, colsample_bylevel=0.5 ......\n",
      "[CV]  subsample=0.8, colsample_bytree=0.6, colsample_bylevel=0.5, score=0.745, total=   0.8s\n",
      "[CV] subsample=0.8, colsample_bytree=0.6, colsample_bylevel=0.5 ......\n",
      "[CV]  subsample=0.8, colsample_bytree=0.6, colsample_bylevel=0.5, score=0.695, total=   0.8s\n",
      "[CV] subsample=0.8, colsample_bytree=0.6, colsample_bylevel=0.5 ......\n",
      "[CV]  subsample=0.8, colsample_bytree=0.6, colsample_bylevel=0.5, score=0.776, total=   0.8s\n",
      "[CV] subsample=0.8, colsample_bytree=0.6, colsample_bylevel=0.5 ......\n",
      "[CV]  subsample=0.8, colsample_bytree=0.6, colsample_bylevel=0.5, score=0.826, total=   0.8s\n",
      "[CV] subsample=0.8, colsample_bytree=0.6, colsample_bylevel=0.5 ......\n",
      "[CV]  subsample=0.8, colsample_bytree=0.6, colsample_bylevel=0.5, score=0.711, total=   0.8s\n",
      "[CV] subsample=0.8, colsample_bytree=0.6, colsample_bylevel=0.5 ......\n",
      "[CV]  subsample=0.8, colsample_bytree=0.6, colsample_bylevel=0.5, score=0.759, total=   0.8s\n",
      "[CV] subsample=0.8, colsample_bytree=0.6, colsample_bylevel=0.5 ......\n",
      "[CV]  subsample=0.8, colsample_bytree=0.6, colsample_bylevel=0.5, score=0.763, total=   0.8s\n",
      "[CV] subsample=0.8, colsample_bytree=0.6, colsample_bylevel=0.5 ......\n",
      "[CV]  subsample=0.8, colsample_bytree=0.6, colsample_bylevel=0.5, score=0.729, total=   0.8s\n",
      "[CV] subsample=0.9, colsample_bytree=0.8, colsample_bylevel=0.7 ......\n",
      "[CV]  subsample=0.9, colsample_bytree=0.8, colsample_bylevel=0.7, score=0.815, total=   1.0s\n",
      "[CV] subsample=0.9, colsample_bytree=0.8, colsample_bylevel=0.7 ......\n",
      "[CV]  subsample=0.9, colsample_bytree=0.8, colsample_bylevel=0.7, score=0.740, total=   1.0s\n",
      "[CV] subsample=0.9, colsample_bytree=0.8, colsample_bylevel=0.7 ......\n",
      "[CV]  subsample=0.9, colsample_bytree=0.8, colsample_bylevel=0.7, score=0.747, total=   1.0s\n",
      "[CV] subsample=0.9, colsample_bytree=0.8, colsample_bylevel=0.7 ......\n",
      "[CV]  subsample=0.9, colsample_bytree=0.8, colsample_bylevel=0.7, score=0.689, total=   1.0s\n",
      "[CV] subsample=0.9, colsample_bytree=0.8, colsample_bylevel=0.7 ......\n",
      "[CV]  subsample=0.9, colsample_bytree=0.8, colsample_bylevel=0.7, score=0.739, total=   1.0s\n",
      "[CV] subsample=0.9, colsample_bytree=0.8, colsample_bylevel=0.7 ......\n",
      "[CV]  subsample=0.9, colsample_bytree=0.8, colsample_bylevel=0.7, score=0.803, total=   1.0s\n",
      "[CV] subsample=0.9, colsample_bytree=0.8, colsample_bylevel=0.7 ......\n",
      "[CV]  subsample=0.9, colsample_bytree=0.8, colsample_bylevel=0.7, score=0.755, total=   1.0s\n",
      "[CV] subsample=0.9, colsample_bytree=0.8, colsample_bylevel=0.7 ......\n",
      "[CV]  subsample=0.9, colsample_bytree=0.8, colsample_bylevel=0.7, score=0.727, total=   1.0s\n",
      "[CV] subsample=0.9, colsample_bytree=0.8, colsample_bylevel=0.7 ......\n",
      "[CV]  subsample=0.9, colsample_bytree=0.8, colsample_bylevel=0.7, score=0.764, total=   1.0s\n",
      "[CV] subsample=0.9, colsample_bytree=0.8, colsample_bylevel=0.7 ......\n",
      "[CV]  subsample=0.9, colsample_bytree=0.8, colsample_bylevel=0.7, score=0.744, total=   1.0s\n",
      "[CV] subsample=1.0, colsample_bytree=0.7, colsample_bylevel=0.5 ......\n",
      "[CV]  subsample=1.0, colsample_bytree=0.7, colsample_bylevel=0.5, score=0.816, total=   0.7s\n",
      "[CV] subsample=1.0, colsample_bytree=0.7, colsample_bylevel=0.5 ......\n",
      "[CV]  subsample=1.0, colsample_bytree=0.7, colsample_bylevel=0.5, score=0.752, total=   0.7s\n",
      "[CV] subsample=1.0, colsample_bytree=0.7, colsample_bylevel=0.5 ......\n",
      "[CV]  subsample=1.0, colsample_bytree=0.7, colsample_bylevel=0.5, score=0.739, total=   0.7s\n",
      "[CV] subsample=1.0, colsample_bytree=0.7, colsample_bylevel=0.5 ......\n",
      "[CV]  subsample=1.0, colsample_bytree=0.7, colsample_bylevel=0.5, score=0.698, total=   0.7s\n",
      "[CV] subsample=1.0, colsample_bytree=0.7, colsample_bylevel=0.5 ......\n",
      "[CV]  subsample=1.0, colsample_bytree=0.7, colsample_bylevel=0.5, score=0.770, total=   0.7s\n",
      "[CV] subsample=1.0, colsample_bytree=0.7, colsample_bylevel=0.5 ......\n",
      "[CV]  subsample=1.0, colsample_bytree=0.7, colsample_bylevel=0.5, score=0.814, total=   0.7s\n",
      "[CV] subsample=1.0, colsample_bytree=0.7, colsample_bylevel=0.5 ......\n",
      "[CV]  subsample=1.0, colsample_bytree=0.7, colsample_bylevel=0.5, score=0.721, total=   0.7s\n",
      "[CV] subsample=1.0, colsample_bytree=0.7, colsample_bylevel=0.5 ......\n",
      "[CV]  subsample=1.0, colsample_bytree=0.7, colsample_bylevel=0.5, score=0.725, total=   0.7s\n",
      "[CV] subsample=1.0, colsample_bytree=0.7, colsample_bylevel=0.5 ......\n",
      "[CV]  subsample=1.0, colsample_bytree=0.7, colsample_bylevel=0.5, score=0.732, total=   0.7s\n",
      "[CV] subsample=1.0, colsample_bytree=0.7, colsample_bylevel=0.5 ......\n",
      "[CV]  subsample=1.0, colsample_bytree=0.7, colsample_bylevel=0.5, score=0.735, total=   0.7s\n",
      "[CV] subsample=0.6, colsample_bytree=0.5, colsample_bylevel=0.8 ......\n",
      "[CV]  subsample=0.6, colsample_bytree=0.5, colsample_bylevel=0.8, score=0.808, total=   1.0s\n",
      "[CV] subsample=0.6, colsample_bytree=0.5, colsample_bylevel=0.8 ......\n",
      "[CV]  subsample=0.6, colsample_bytree=0.5, colsample_bylevel=0.8, score=0.721, total=   1.0s\n",
      "[CV] subsample=0.6, colsample_bytree=0.5, colsample_bylevel=0.8 ......\n",
      "[CV]  subsample=0.6, colsample_bytree=0.5, colsample_bylevel=0.8, score=0.726, total=   1.0s\n",
      "[CV] subsample=0.6, colsample_bytree=0.5, colsample_bylevel=0.8 ......\n",
      "[CV]  subsample=0.6, colsample_bytree=0.5, colsample_bylevel=0.8, score=0.715, total=   1.0s\n",
      "[CV] subsample=0.6, colsample_bytree=0.5, colsample_bylevel=0.8 ......\n",
      "[CV]  subsample=0.6, colsample_bytree=0.5, colsample_bylevel=0.8, score=0.772, total=   1.0s\n",
      "[CV] subsample=0.6, colsample_bytree=0.5, colsample_bylevel=0.8 ......\n",
      "[CV]  subsample=0.6, colsample_bytree=0.5, colsample_bylevel=0.8, score=0.828, total=   1.0s\n",
      "[CV] subsample=0.6, colsample_bytree=0.5, colsample_bylevel=0.8 ......\n",
      "[CV]  subsample=0.6, colsample_bytree=0.5, colsample_bylevel=0.8, score=0.726, total=   1.0s\n",
      "[CV] subsample=0.6, colsample_bytree=0.5, colsample_bylevel=0.8 ......\n",
      "[CV]  subsample=0.6, colsample_bytree=0.5, colsample_bylevel=0.8, score=0.763, total=   1.0s\n",
      "[CV] subsample=0.6, colsample_bytree=0.5, colsample_bylevel=0.8 ......\n",
      "[CV]  subsample=0.6, colsample_bytree=0.5, colsample_bylevel=0.8, score=0.762, total=   1.0s\n",
      "[CV] subsample=0.6, colsample_bytree=0.5, colsample_bylevel=0.8 ......\n",
      "[CV]  subsample=0.6, colsample_bytree=0.5, colsample_bylevel=0.8, score=0.734, total=   1.0s\n",
      "[CV] subsample=0.9, colsample_bytree=0.5, colsample_bylevel=0.7 ......\n",
      "[CV]  subsample=0.9, colsample_bytree=0.5, colsample_bylevel=0.7, score=0.807, total=   0.8s\n",
      "[CV] subsample=0.9, colsample_bytree=0.5, colsample_bylevel=0.7 ......\n",
      "[CV]  subsample=0.9, colsample_bytree=0.5, colsample_bylevel=0.7, score=0.745, total=   0.8s\n",
      "[CV] subsample=0.9, colsample_bytree=0.5, colsample_bylevel=0.7 ......\n",
      "[CV]  subsample=0.9, colsample_bytree=0.5, colsample_bylevel=0.7, score=0.751, total=   0.8s\n",
      "[CV] subsample=0.9, colsample_bytree=0.5, colsample_bylevel=0.7 ......\n",
      "[CV]  subsample=0.9, colsample_bytree=0.5, colsample_bylevel=0.7, score=0.692, total=   0.8s\n",
      "[CV] subsample=0.9, colsample_bytree=0.5, colsample_bylevel=0.7 ......\n",
      "[CV]  subsample=0.9, colsample_bytree=0.5, colsample_bylevel=0.7, score=0.759, total=   0.8s\n",
      "[CV] subsample=0.9, colsample_bytree=0.5, colsample_bylevel=0.7 ......\n",
      "[CV]  subsample=0.9, colsample_bytree=0.5, colsample_bylevel=0.7, score=0.787, total=   0.8s\n",
      "[CV] subsample=0.9, colsample_bytree=0.5, colsample_bylevel=0.7 ......\n",
      "[CV]  subsample=0.9, colsample_bytree=0.5, colsample_bylevel=0.7, score=0.751, total=   0.8s\n",
      "[CV] subsample=0.9, colsample_bytree=0.5, colsample_bylevel=0.7 ......\n",
      "[CV]  subsample=0.9, colsample_bytree=0.5, colsample_bylevel=0.7, score=0.747, total=   0.8s\n",
      "[CV] subsample=0.9, colsample_bytree=0.5, colsample_bylevel=0.7 ......\n",
      "[CV]  subsample=0.9, colsample_bytree=0.5, colsample_bylevel=0.7, score=0.747, total=   0.8s\n",
      "[CV] subsample=0.9, colsample_bytree=0.5, colsample_bylevel=0.7 ......\n",
      "[CV]  subsample=0.9, colsample_bytree=0.5, colsample_bylevel=0.7, score=0.738, total=   0.8s\n",
      "[CV] subsample=0.7, colsample_bytree=0.6, colsample_bylevel=1.0 ......\n",
      "[CV]  subsample=0.7, colsample_bytree=0.6, colsample_bylevel=1.0, score=0.810, total=   1.2s\n",
      "[CV] subsample=0.7, colsample_bytree=0.6, colsample_bylevel=1.0 ......\n",
      "[CV]  subsample=0.7, colsample_bytree=0.6, colsample_bylevel=1.0, score=0.728, total=   1.2s\n",
      "[CV] subsample=0.7, colsample_bytree=0.6, colsample_bylevel=1.0 ......\n",
      "[CV]  subsample=0.7, colsample_bytree=0.6, colsample_bylevel=1.0, score=0.730, total=   1.2s\n",
      "[CV] subsample=0.7, colsample_bytree=0.6, colsample_bylevel=1.0 ......\n",
      "[CV]  subsample=0.7, colsample_bytree=0.6, colsample_bylevel=1.0, score=0.686, total=   1.2s\n",
      "[CV] subsample=0.7, colsample_bytree=0.6, colsample_bylevel=1.0 ......\n",
      "[CV]  subsample=0.7, colsample_bytree=0.6, colsample_bylevel=1.0, score=0.734, total=   1.2s\n",
      "[CV] subsample=0.7, colsample_bytree=0.6, colsample_bylevel=1.0 ......\n",
      "[CV]  subsample=0.7, colsample_bytree=0.6, colsample_bylevel=1.0, score=0.820, total=   1.2s\n",
      "[CV] subsample=0.7, colsample_bytree=0.6, colsample_bylevel=1.0 ......\n",
      "[CV]  subsample=0.7, colsample_bytree=0.6, colsample_bylevel=1.0, score=0.736, total=   1.2s\n",
      "[CV] subsample=0.7, colsample_bytree=0.6, colsample_bylevel=1.0 ......\n",
      "[CV]  subsample=0.7, colsample_bytree=0.6, colsample_bylevel=1.0, score=0.775, total=   1.2s\n",
      "[CV] subsample=0.7, colsample_bytree=0.6, colsample_bylevel=1.0 ......\n",
      "[CV]  subsample=0.7, colsample_bytree=0.6, colsample_bylevel=1.0, score=0.745, total=   1.2s\n",
      "[CV] subsample=0.7, colsample_bytree=0.6, colsample_bylevel=1.0 ......\n",
      "[CV]  subsample=0.7, colsample_bytree=0.6, colsample_bylevel=1.0, score=0.743, total=   1.2s\n",
      "[CV] subsample=0.5, colsample_bytree=0.8, colsample_bylevel=0.7 ......\n",
      "[CV]  subsample=0.5, colsample_bytree=0.8, colsample_bylevel=0.7, score=0.795, total=   1.3s\n",
      "[CV] subsample=0.5, colsample_bytree=0.8, colsample_bylevel=0.7 ......\n",
      "[CV]  subsample=0.5, colsample_bytree=0.8, colsample_bylevel=0.7, score=0.718, total=   1.3s\n",
      "[CV] subsample=0.5, colsample_bytree=0.8, colsample_bylevel=0.7 ......\n",
      "[CV]  subsample=0.5, colsample_bytree=0.8, colsample_bylevel=0.7, score=0.744, total=   1.3s\n",
      "[CV] subsample=0.5, colsample_bytree=0.8, colsample_bylevel=0.7 ......\n",
      "[CV]  subsample=0.5, colsample_bytree=0.8, colsample_bylevel=0.7, score=0.702, total=   1.3s\n",
      "[CV] subsample=0.5, colsample_bytree=0.8, colsample_bylevel=0.7 ......\n",
      "[CV]  subsample=0.5, colsample_bytree=0.8, colsample_bylevel=0.7, score=0.755, total=   1.3s\n",
      "[CV] subsample=0.5, colsample_bytree=0.8, colsample_bylevel=0.7 ......\n",
      "[CV]  subsample=0.5, colsample_bytree=0.8, colsample_bylevel=0.7, score=0.830, total=   1.3s\n",
      "[CV] subsample=0.5, colsample_bytree=0.8, colsample_bylevel=0.7 ......\n",
      "[CV]  subsample=0.5, colsample_bytree=0.8, colsample_bylevel=0.7, score=0.742, total=   1.3s\n",
      "[CV] subsample=0.5, colsample_bytree=0.8, colsample_bylevel=0.7 ......\n",
      "[CV]  subsample=0.5, colsample_bytree=0.8, colsample_bylevel=0.7, score=0.778, total=   1.3s\n",
      "[CV] subsample=0.5, colsample_bytree=0.8, colsample_bylevel=0.7 ......\n",
      "[CV]  subsample=0.5, colsample_bytree=0.8, colsample_bylevel=0.7, score=0.748, total=   1.2s\n",
      "[CV] subsample=0.5, colsample_bytree=0.8, colsample_bylevel=0.7 ......\n",
      "[CV]  subsample=0.5, colsample_bytree=0.8, colsample_bylevel=0.7, score=0.728, total=   1.3s\n",
      "[CV] subsample=0.8, colsample_bytree=0.6, colsample_bylevel=1.0 ......\n",
      "[CV]  subsample=0.8, colsample_bytree=0.6, colsample_bylevel=1.0, score=0.798, total=   1.1s\n",
      "[CV] subsample=0.8, colsample_bytree=0.6, colsample_bylevel=1.0 ......\n",
      "[CV]  subsample=0.8, colsample_bytree=0.6, colsample_bylevel=1.0, score=0.739, total=   1.1s\n",
      "[CV] subsample=0.8, colsample_bytree=0.6, colsample_bylevel=1.0 ......\n",
      "[CV]  subsample=0.8, colsample_bytree=0.6, colsample_bylevel=1.0, score=0.749, total=   1.1s\n",
      "[CV] subsample=0.8, colsample_bytree=0.6, colsample_bylevel=1.0 ......\n",
      "[CV]  subsample=0.8, colsample_bytree=0.6, colsample_bylevel=1.0, score=0.693, total=   1.1s\n",
      "[CV] subsample=0.8, colsample_bytree=0.6, colsample_bylevel=1.0 ......\n",
      "[CV]  subsample=0.8, colsample_bytree=0.6, colsample_bylevel=1.0, score=0.760, total=   1.1s\n",
      "[CV] subsample=0.8, colsample_bytree=0.6, colsample_bylevel=1.0 ......\n",
      "[CV]  subsample=0.8, colsample_bytree=0.6, colsample_bylevel=1.0, score=0.824, total=   1.1s\n",
      "[CV] subsample=0.8, colsample_bytree=0.6, colsample_bylevel=1.0 ......\n",
      "[CV]  subsample=0.8, colsample_bytree=0.6, colsample_bylevel=1.0, score=0.739, total=   1.1s\n",
      "[CV] subsample=0.8, colsample_bytree=0.6, colsample_bylevel=1.0 ......\n",
      "[CV]  subsample=0.8, colsample_bytree=0.6, colsample_bylevel=1.0, score=0.737, total=   1.1s\n",
      "[CV] subsample=0.8, colsample_bytree=0.6, colsample_bylevel=1.0 ......\n",
      "[CV]  subsample=0.8, colsample_bytree=0.6, colsample_bylevel=1.0, score=0.762, total=   1.1s\n",
      "[CV] subsample=0.8, colsample_bytree=0.6, colsample_bylevel=1.0 ......\n",
      "[CV]  subsample=0.8, colsample_bytree=0.6, colsample_bylevel=1.0, score=0.714, total=   1.1s\n",
      "[CV] subsample=0.8, colsample_bytree=0.7, colsample_bylevel=0.9 ......\n",
      "[CV]  subsample=0.8, colsample_bytree=0.7, colsample_bylevel=0.9, score=0.807, total=   1.2s\n",
      "[CV] subsample=0.8, colsample_bytree=0.7, colsample_bylevel=0.9 ......\n",
      "[CV]  subsample=0.8, colsample_bytree=0.7, colsample_bylevel=0.9, score=0.735, total=   1.2s\n",
      "[CV] subsample=0.8, colsample_bytree=0.7, colsample_bylevel=0.9 ......\n",
      "[CV]  subsample=0.8, colsample_bytree=0.7, colsample_bylevel=0.9, score=0.752, total=   1.2s\n",
      "[CV] subsample=0.8, colsample_bytree=0.7, colsample_bylevel=0.9 ......\n",
      "[CV]  subsample=0.8, colsample_bytree=0.7, colsample_bylevel=0.9, score=0.692, total=   1.1s\n",
      "[CV] subsample=0.8, colsample_bytree=0.7, colsample_bylevel=0.9 ......\n",
      "[CV]  subsample=0.8, colsample_bytree=0.7, colsample_bylevel=0.9, score=0.760, total=   1.2s\n",
      "[CV] subsample=0.8, colsample_bytree=0.7, colsample_bylevel=0.9 ......\n",
      "[CV]  subsample=0.8, colsample_bytree=0.7, colsample_bylevel=0.9, score=0.823, total=   1.1s\n",
      "[CV] subsample=0.8, colsample_bytree=0.7, colsample_bylevel=0.9 ......\n",
      "[CV]  subsample=0.8, colsample_bytree=0.7, colsample_bylevel=0.9, score=0.736, total=   1.1s\n",
      "[CV] subsample=0.8, colsample_bytree=0.7, colsample_bylevel=0.9 ......\n",
      "[CV]  subsample=0.8, colsample_bytree=0.7, colsample_bylevel=0.9, score=0.744, total=   1.2s\n",
      "[CV] subsample=0.8, colsample_bytree=0.7, colsample_bylevel=0.9 ......\n",
      "[CV]  subsample=0.8, colsample_bytree=0.7, colsample_bylevel=0.9, score=0.759, total=   1.1s\n",
      "[CV] subsample=0.8, colsample_bytree=0.7, colsample_bylevel=0.9 ......\n",
      "[CV]  subsample=0.8, colsample_bytree=0.7, colsample_bylevel=0.9, score=0.706, total=   1.1s\n",
      "[CV] subsample=0.6, colsample_bytree=1.0, colsample_bylevel=0.8 ......\n",
      "[CV]  subsample=0.6, colsample_bytree=1.0, colsample_bylevel=0.8, score=0.799, total=   1.6s\n",
      "[CV] subsample=0.6, colsample_bytree=1.0, colsample_bylevel=0.8 ......\n",
      "[CV]  subsample=0.6, colsample_bytree=1.0, colsample_bylevel=0.8, score=0.719, total=   1.6s\n",
      "[CV] subsample=0.6, colsample_bytree=1.0, colsample_bylevel=0.8 ......\n",
      "[CV]  subsample=0.6, colsample_bytree=1.0, colsample_bylevel=0.8, score=0.757, total=   1.6s\n",
      "[CV] subsample=0.6, colsample_bytree=1.0, colsample_bylevel=0.8 ......\n",
      "[CV]  subsample=0.6, colsample_bytree=1.0, colsample_bylevel=0.8, score=0.704, total=   1.6s\n",
      "[CV] subsample=0.6, colsample_bytree=1.0, colsample_bylevel=0.8 ......\n",
      "[CV]  subsample=0.6, colsample_bytree=1.0, colsample_bylevel=0.8, score=0.765, total=   1.6s\n",
      "[CV] subsample=0.6, colsample_bytree=1.0, colsample_bylevel=0.8 ......\n",
      "[CV]  subsample=0.6, colsample_bytree=1.0, colsample_bylevel=0.8, score=0.810, total=   1.6s\n",
      "[CV] subsample=0.6, colsample_bytree=1.0, colsample_bylevel=0.8 ......\n",
      "[CV]  subsample=0.6, colsample_bytree=1.0, colsample_bylevel=0.8, score=0.731, total=   1.6s\n",
      "[CV] subsample=0.6, colsample_bytree=1.0, colsample_bylevel=0.8 ......\n",
      "[CV]  subsample=0.6, colsample_bytree=1.0, colsample_bylevel=0.8, score=0.780, total=   1.6s\n",
      "[CV] subsample=0.6, colsample_bytree=1.0, colsample_bylevel=0.8 ......\n",
      "[CV]  subsample=0.6, colsample_bytree=1.0, colsample_bylevel=0.8, score=0.768, total=   1.6s\n",
      "[CV] subsample=0.6, colsample_bytree=1.0, colsample_bylevel=0.8 ......\n",
      "[CV]  subsample=0.6, colsample_bytree=1.0, colsample_bylevel=0.8, score=0.706, total=   1.6s\n",
      "[CV] subsample=0.7, colsample_bytree=0.6, colsample_bylevel=0.9 ......\n",
      "[CV]  subsample=0.7, colsample_bytree=0.6, colsample_bylevel=0.9, score=0.814, total=   1.1s\n",
      "[CV] subsample=0.7, colsample_bytree=0.6, colsample_bylevel=0.9 ......\n",
      "[CV]  subsample=0.7, colsample_bytree=0.6, colsample_bylevel=0.9, score=0.717, total=   1.1s\n",
      "[CV] subsample=0.7, colsample_bytree=0.6, colsample_bylevel=0.9 ......\n",
      "[CV]  subsample=0.7, colsample_bytree=0.6, colsample_bylevel=0.9, score=0.733, total=   1.1s\n",
      "[CV] subsample=0.7, colsample_bytree=0.6, colsample_bylevel=0.9 ......\n",
      "[CV]  subsample=0.7, colsample_bytree=0.6, colsample_bylevel=0.9, score=0.675, total=   1.1s\n",
      "[CV] subsample=0.7, colsample_bytree=0.6, colsample_bylevel=0.9 ......\n",
      "[CV]  subsample=0.7, colsample_bytree=0.6, colsample_bylevel=0.9, score=0.757, total=   1.1s\n",
      "[CV] subsample=0.7, colsample_bytree=0.6, colsample_bylevel=0.9 ......\n",
      "[CV]  subsample=0.7, colsample_bytree=0.6, colsample_bylevel=0.9, score=0.818, total=   1.1s\n",
      "[CV] subsample=0.7, colsample_bytree=0.6, colsample_bylevel=0.9 ......\n",
      "[CV]  subsample=0.7, colsample_bytree=0.6, colsample_bylevel=0.9, score=0.733, total=   1.1s\n",
      "[CV] subsample=0.7, colsample_bytree=0.6, colsample_bylevel=0.9 ......\n",
      "[CV]  subsample=0.7, colsample_bytree=0.6, colsample_bylevel=0.9, score=0.774, total=   1.1s\n",
      "[CV] subsample=0.7, colsample_bytree=0.6, colsample_bylevel=0.9 ......\n",
      "[CV]  subsample=0.7, colsample_bytree=0.6, colsample_bylevel=0.9, score=0.745, total=   1.1s\n",
      "[CV] subsample=0.7, colsample_bytree=0.6, colsample_bylevel=0.9 ......\n",
      "[CV]  subsample=0.7, colsample_bytree=0.6, colsample_bylevel=0.9, score=0.739, total=   1.1s\n"
     ]
    },
    {
     "name": "stderr",
     "output_type": "stream",
     "text": [
      "[Parallel(n_jobs=1)]: Done 200 out of 200 | elapsed:  3.7min finished\n"
     ]
    },
    {
     "data": {
      "text/plain": [
       "RandomizedSearchCV(cv=10, error_score='raise-deprecating',\n",
       "                   estimator=XGBClassifier(base_score=0.5, booster='gbtree',\n",
       "                                           colsample_bylevel=1,\n",
       "                                           colsample_bynode=1,\n",
       "                                           colsample_bytree=1, gamma=7,\n",
       "                                           learning_rate=0.1, max_delta_step=1,\n",
       "                                           max_depth=3, min_child_weight=2,\n",
       "                                           missing=None, n_estimators=100,\n",
       "                                           n_jobs=1, nthread=None,\n",
       "                                           objective='binary:logistic',\n",
       "                                           random_state=0, reg_alpha=0,\n",
       "                                           reg_lambda=1, scale_pos_weight=3,\n",
       "                                           seed=None, silent=None, subsample=1,\n",
       "                                           verbosity=1),\n",
       "                   iid='warn', n_iter=20, n_jobs=None,\n",
       "                   param_distributions={'colsample_bylevel': [0.5, 0.6, 0.7,\n",
       "                                                              0.8, 0.9, 1.0],\n",
       "                                        'colsample_bytree': [0.5, 0.6, 0.7, 0.8,\n",
       "                                                             0.9, 1.0],\n",
       "                                        'subsample': [0.5, 0.6, 0.7, 0.8, 0.9,\n",
       "                                                      1.0]},\n",
       "                   pre_dispatch='2*n_jobs', random_state=None, refit=True,\n",
       "                   return_train_score=False, scoring='roc_auc', verbose=10)"
      ]
     },
     "execution_count": 84,
     "metadata": {
      "tags": []
     },
     "output_type": "execute_result"
    }
   ],
   "source": [
    "random___search.fit(cartrain_train_independent,cartrain_train_dependent)"
   ]
  },
  {
   "cell_type": "code",
   "execution_count": 85,
   "metadata": {
    "colab": {
     "base_uri": "https://localhost:8080/",
     "height": 237
    },
    "colab_type": "code",
    "id": "e6e8GNCMIPPV",
    "outputId": "ad441d17-0bf9-415e-ed7b-f31cac3db3f8"
   },
   "outputs": [
    {
     "name": "stdout",
     "output_type": "stream",
     "text": [
      "Model with rank: 1\n",
      "Mean validation score: 0.756 (std: 0.037)\n",
      "Parameters: {'subsample': 0.6, 'colsample_bytree': 0.5, 'colsample_bylevel': 0.8}\n",
      "\n",
      "Model with rank: 2\n",
      "Mean validation score: 0.756 (std: 0.037)\n",
      "Parameters: {'subsample': 0.6, 'colsample_bytree': 0.5, 'colsample_bylevel': 0.8}\n",
      "\n",
      "Model with rank: 3\n",
      "Mean validation score: 0.756 (std: 0.037)\n",
      "Parameters: {'subsample': 0.6, 'colsample_bytree': 0.5, 'colsample_bylevel': 0.8}\n",
      "\n"
     ]
    }
   ],
   "source": [
    "report(random___search.cv_results_)"
   ]
  },
  {
   "cell_type": "code",
   "execution_count": 0,
   "metadata": {
    "colab": {},
    "colab_type": "code",
    "id": "teQGcChxIPPc"
   },
   "outputs": [],
   "source": [
    "xgb_params = {\n",
    "    \"reg_alpha\":[i/10 for i in range(0,50)], \n",
    "    \"reg_lambda\":[i/10 for i in range(0,50)]\n",
    "}"
   ]
  },
  {
   "cell_type": "code",
   "execution_count": 0,
   "metadata": {
    "colab": {},
    "colab_type": "code",
    "id": "iBqDB5PiIPPg"
   },
   "outputs": [],
   "source": [
    "xgb6 = XGBClassifier(learning_rate=0.1,n_estimators=100,subsample=0.8,colsample_bytree=0.6,colsample_bylevel=0.6,\n",
    "                    min_child_weight=2,max_depth=3,scale_pos_weight=3,max_delta_step=1,gamma=7)"
   ]
  },
  {
   "cell_type": "code",
   "execution_count": 0,
   "metadata": {
    "colab": {},
    "colab_type": "code",
    "id": "UH1OO4CbIPPk"
   },
   "outputs": [],
   "source": [
    "random___search = RandomizedSearchCV(xgb6,param_distributions=xgb_params,scoring=\"roc_auc\",verbose=20,n_jobs=-1,cv=10,n_iter=20)"
   ]
  },
  {
   "cell_type": "code",
   "execution_count": 89,
   "metadata": {
    "colab": {
     "base_uri": "https://localhost:8080/",
     "height": 1000
    },
    "colab_type": "code",
    "id": "3VRxvaA8IPPo",
    "outputId": "58728f88-7885-442b-c4a5-df3e18725123"
   },
   "outputs": [
    {
     "name": "stdout",
     "output_type": "stream",
     "text": [
      "Fitting 10 folds for each of 20 candidates, totalling 200 fits\n"
     ]
    },
    {
     "name": "stderr",
     "output_type": "stream",
     "text": [
      "[Parallel(n_jobs=-1)]: Using backend LokyBackend with 2 concurrent workers.\n",
      "[Parallel(n_jobs=-1)]: Done   1 tasks      | elapsed:    1.2s\n",
      "[Parallel(n_jobs=-1)]: Done   2 tasks      | elapsed:    1.3s\n",
      "[Parallel(n_jobs=-1)]: Done   3 tasks      | elapsed:    2.5s\n",
      "[Parallel(n_jobs=-1)]: Done   4 tasks      | elapsed:    2.5s\n",
      "[Parallel(n_jobs=-1)]: Done   5 tasks      | elapsed:    3.7s\n",
      "[Parallel(n_jobs=-1)]: Done   6 tasks      | elapsed:    3.7s\n",
      "[Parallel(n_jobs=-1)]: Done   7 tasks      | elapsed:    4.9s\n",
      "[Parallel(n_jobs=-1)]: Done   8 tasks      | elapsed:    5.0s\n",
      "[Parallel(n_jobs=-1)]: Done   9 tasks      | elapsed:    6.2s\n",
      "[Parallel(n_jobs=-1)]: Done  10 tasks      | elapsed:    6.2s\n",
      "[Parallel(n_jobs=-1)]: Done  11 tasks      | elapsed:    7.4s\n",
      "[Parallel(n_jobs=-1)]: Done  12 tasks      | elapsed:    7.4s\n",
      "[Parallel(n_jobs=-1)]: Done  13 tasks      | elapsed:    8.6s\n",
      "[Parallel(n_jobs=-1)]: Done  14 tasks      | elapsed:    8.7s\n",
      "[Parallel(n_jobs=-1)]: Done  15 tasks      | elapsed:    9.9s\n",
      "[Parallel(n_jobs=-1)]: Done  16 tasks      | elapsed:    9.9s\n",
      "[Parallel(n_jobs=-1)]: Done  17 tasks      | elapsed:   11.2s\n",
      "[Parallel(n_jobs=-1)]: Done  18 tasks      | elapsed:   11.2s\n",
      "[Parallel(n_jobs=-1)]: Done  19 tasks      | elapsed:   12.4s\n",
      "[Parallel(n_jobs=-1)]: Done  20 tasks      | elapsed:   12.4s\n",
      "[Parallel(n_jobs=-1)]: Done  21 tasks      | elapsed:   13.6s\n",
      "[Parallel(n_jobs=-1)]: Done  22 tasks      | elapsed:   13.6s\n",
      "[Parallel(n_jobs=-1)]: Done  23 tasks      | elapsed:   14.8s\n",
      "[Parallel(n_jobs=-1)]: Done  24 tasks      | elapsed:   14.9s\n",
      "[Parallel(n_jobs=-1)]: Done  25 tasks      | elapsed:   16.1s\n",
      "[Parallel(n_jobs=-1)]: Done  26 tasks      | elapsed:   16.1s\n",
      "[Parallel(n_jobs=-1)]: Done  27 tasks      | elapsed:   17.3s\n",
      "[Parallel(n_jobs=-1)]: Done  28 tasks      | elapsed:   17.3s\n",
      "[Parallel(n_jobs=-1)]: Done  29 tasks      | elapsed:   18.5s\n",
      "[Parallel(n_jobs=-1)]: Done  30 tasks      | elapsed:   18.6s\n",
      "[Parallel(n_jobs=-1)]: Done  31 tasks      | elapsed:   19.7s\n",
      "[Parallel(n_jobs=-1)]: Done  32 tasks      | elapsed:   19.8s\n",
      "[Parallel(n_jobs=-1)]: Done  33 tasks      | elapsed:   21.0s\n",
      "[Parallel(n_jobs=-1)]: Done  34 tasks      | elapsed:   21.0s\n",
      "[Parallel(n_jobs=-1)]: Done  35 tasks      | elapsed:   22.2s\n",
      "[Parallel(n_jobs=-1)]: Done  36 tasks      | elapsed:   22.3s\n",
      "[Parallel(n_jobs=-1)]: Done  37 tasks      | elapsed:   23.4s\n",
      "[Parallel(n_jobs=-1)]: Done  38 tasks      | elapsed:   23.5s\n",
      "[Parallel(n_jobs=-1)]: Done  39 tasks      | elapsed:   24.7s\n",
      "[Parallel(n_jobs=-1)]: Done  40 tasks      | elapsed:   24.8s\n",
      "[Parallel(n_jobs=-1)]: Done  41 tasks      | elapsed:   25.9s\n",
      "[Parallel(n_jobs=-1)]: Done  42 tasks      | elapsed:   26.0s\n",
      "[Parallel(n_jobs=-1)]: Done  43 tasks      | elapsed:   27.1s\n",
      "[Parallel(n_jobs=-1)]: Done  44 tasks      | elapsed:   27.2s\n",
      "[Parallel(n_jobs=-1)]: Done  45 tasks      | elapsed:   28.4s\n",
      "[Parallel(n_jobs=-1)]: Done  46 tasks      | elapsed:   28.4s\n",
      "[Parallel(n_jobs=-1)]: Done  47 tasks      | elapsed:   29.6s\n",
      "[Parallel(n_jobs=-1)]: Done  48 tasks      | elapsed:   29.7s\n",
      "[Parallel(n_jobs=-1)]: Done  49 tasks      | elapsed:   30.8s\n",
      "[Parallel(n_jobs=-1)]: Done  50 tasks      | elapsed:   30.9s\n",
      "[Parallel(n_jobs=-1)]: Done  51 tasks      | elapsed:   32.1s\n",
      "[Parallel(n_jobs=-1)]: Done  52 tasks      | elapsed:   32.1s\n",
      "[Parallel(n_jobs=-1)]: Done  53 tasks      | elapsed:   33.3s\n",
      "[Parallel(n_jobs=-1)]: Done  54 tasks      | elapsed:   33.3s\n",
      "[Parallel(n_jobs=-1)]: Done  55 tasks      | elapsed:   34.5s\n",
      "[Parallel(n_jobs=-1)]: Done  56 tasks      | elapsed:   34.6s\n",
      "[Parallel(n_jobs=-1)]: Done  57 tasks      | elapsed:   35.7s\n",
      "[Parallel(n_jobs=-1)]: Done  58 tasks      | elapsed:   35.8s\n",
      "[Parallel(n_jobs=-1)]: Done  59 tasks      | elapsed:   37.0s\n",
      "[Parallel(n_jobs=-1)]: Done  60 tasks      | elapsed:   37.0s\n",
      "[Parallel(n_jobs=-1)]: Done  61 tasks      | elapsed:   38.2s\n",
      "[Parallel(n_jobs=-1)]: Done  62 tasks      | elapsed:   38.2s\n",
      "[Parallel(n_jobs=-1)]: Done  63 tasks      | elapsed:   39.5s\n",
      "[Parallel(n_jobs=-1)]: Done  64 tasks      | elapsed:   39.5s\n",
      "[Parallel(n_jobs=-1)]: Done  65 tasks      | elapsed:   40.7s\n",
      "[Parallel(n_jobs=-1)]: Done  66 tasks      | elapsed:   40.7s\n",
      "[Parallel(n_jobs=-1)]: Done  67 tasks      | elapsed:   41.9s\n",
      "[Parallel(n_jobs=-1)]: Done  68 tasks      | elapsed:   42.0s\n",
      "[Parallel(n_jobs=-1)]: Done  69 tasks      | elapsed:   43.1s\n",
      "[Parallel(n_jobs=-1)]: Done  70 tasks      | elapsed:   43.2s\n",
      "[Parallel(n_jobs=-1)]: Done  71 tasks      | elapsed:   44.4s\n",
      "[Parallel(n_jobs=-1)]: Done  72 tasks      | elapsed:   44.4s\n",
      "[Parallel(n_jobs=-1)]: Done  73 tasks      | elapsed:   45.6s\n",
      "[Parallel(n_jobs=-1)]: Done  74 tasks      | elapsed:   45.7s\n",
      "[Parallel(n_jobs=-1)]: Done  75 tasks      | elapsed:   46.8s\n",
      "[Parallel(n_jobs=-1)]: Done  76 tasks      | elapsed:   46.9s\n",
      "[Parallel(n_jobs=-1)]: Done  77 tasks      | elapsed:   48.0s\n",
      "[Parallel(n_jobs=-1)]: Done  78 tasks      | elapsed:   48.1s\n",
      "[Parallel(n_jobs=-1)]: Done  79 tasks      | elapsed:   49.3s\n",
      "[Parallel(n_jobs=-1)]: Done  80 tasks      | elapsed:   49.4s\n",
      "[Parallel(n_jobs=-1)]: Done  81 tasks      | elapsed:   50.5s\n",
      "[Parallel(n_jobs=-1)]: Done  82 tasks      | elapsed:   50.6s\n",
      "[Parallel(n_jobs=-1)]: Done  83 tasks      | elapsed:   51.7s\n",
      "[Parallel(n_jobs=-1)]: Done  84 tasks      | elapsed:   51.9s\n",
      "[Parallel(n_jobs=-1)]: Done  85 tasks      | elapsed:   52.9s\n",
      "[Parallel(n_jobs=-1)]: Done  86 tasks      | elapsed:   53.1s\n",
      "[Parallel(n_jobs=-1)]: Done  87 tasks      | elapsed:   54.2s\n",
      "[Parallel(n_jobs=-1)]: Done  88 tasks      | elapsed:   54.3s\n",
      "[Parallel(n_jobs=-1)]: Done  89 tasks      | elapsed:   55.4s\n",
      "[Parallel(n_jobs=-1)]: Done  90 tasks      | elapsed:   55.6s\n",
      "[Parallel(n_jobs=-1)]: Done  91 tasks      | elapsed:   56.7s\n",
      "[Parallel(n_jobs=-1)]: Done  92 tasks      | elapsed:   56.8s\n",
      "[Parallel(n_jobs=-1)]: Done  93 tasks      | elapsed:   57.9s\n",
      "[Parallel(n_jobs=-1)]: Done  94 tasks      | elapsed:   58.0s\n",
      "[Parallel(n_jobs=-1)]: Done  95 tasks      | elapsed:   59.1s\n",
      "[Parallel(n_jobs=-1)]: Done  96 tasks      | elapsed:   59.3s\n",
      "[Parallel(n_jobs=-1)]: Done  97 tasks      | elapsed:  1.0min\n",
      "[Parallel(n_jobs=-1)]: Done  98 tasks      | elapsed:  1.0min\n",
      "[Parallel(n_jobs=-1)]: Done  99 tasks      | elapsed:  1.0min\n",
      "[Parallel(n_jobs=-1)]: Done 100 tasks      | elapsed:  1.0min\n",
      "[Parallel(n_jobs=-1)]: Done 101 tasks      | elapsed:  1.0min\n",
      "[Parallel(n_jobs=-1)]: Done 102 tasks      | elapsed:  1.0min\n",
      "[Parallel(n_jobs=-1)]: Done 103 tasks      | elapsed:  1.1min\n",
      "[Parallel(n_jobs=-1)]: Done 104 tasks      | elapsed:  1.1min\n",
      "[Parallel(n_jobs=-1)]: Done 105 tasks      | elapsed:  1.1min\n",
      "[Parallel(n_jobs=-1)]: Done 106 tasks      | elapsed:  1.1min\n",
      "[Parallel(n_jobs=-1)]: Done 107 tasks      | elapsed:  1.1min\n",
      "[Parallel(n_jobs=-1)]: Done 108 tasks      | elapsed:  1.1min\n",
      "[Parallel(n_jobs=-1)]: Done 109 tasks      | elapsed:  1.1min\n",
      "[Parallel(n_jobs=-1)]: Done 110 tasks      | elapsed:  1.1min\n",
      "[Parallel(n_jobs=-1)]: Done 111 tasks      | elapsed:  1.1min\n",
      "[Parallel(n_jobs=-1)]: Done 112 tasks      | elapsed:  1.2min\n",
      "[Parallel(n_jobs=-1)]: Done 113 tasks      | elapsed:  1.2min\n",
      "[Parallel(n_jobs=-1)]: Done 114 tasks      | elapsed:  1.2min\n",
      "[Parallel(n_jobs=-1)]: Done 115 tasks      | elapsed:  1.2min\n",
      "[Parallel(n_jobs=-1)]: Done 116 tasks      | elapsed:  1.2min\n",
      "[Parallel(n_jobs=-1)]: Done 117 tasks      | elapsed:  1.2min\n",
      "[Parallel(n_jobs=-1)]: Done 118 tasks      | elapsed:  1.2min\n",
      "[Parallel(n_jobs=-1)]: Done 119 tasks      | elapsed:  1.2min\n",
      "[Parallel(n_jobs=-1)]: Done 120 tasks      | elapsed:  1.2min\n",
      "[Parallel(n_jobs=-1)]: Done 121 tasks      | elapsed:  1.3min\n",
      "[Parallel(n_jobs=-1)]: Done 122 tasks      | elapsed:  1.3min\n",
      "[Parallel(n_jobs=-1)]: Done 123 tasks      | elapsed:  1.3min\n",
      "[Parallel(n_jobs=-1)]: Done 124 tasks      | elapsed:  1.3min\n",
      "[Parallel(n_jobs=-1)]: Done 125 tasks      | elapsed:  1.3min\n",
      "[Parallel(n_jobs=-1)]: Done 126 tasks      | elapsed:  1.3min\n",
      "[Parallel(n_jobs=-1)]: Done 127 tasks      | elapsed:  1.3min\n",
      "[Parallel(n_jobs=-1)]: Done 128 tasks      | elapsed:  1.3min\n",
      "[Parallel(n_jobs=-1)]: Done 129 tasks      | elapsed:  1.3min\n",
      "[Parallel(n_jobs=-1)]: Done 130 tasks      | elapsed:  1.3min\n",
      "[Parallel(n_jobs=-1)]: Done 131 tasks      | elapsed:  1.4min\n",
      "[Parallel(n_jobs=-1)]: Done 132 tasks      | elapsed:  1.4min\n",
      "[Parallel(n_jobs=-1)]: Done 133 tasks      | elapsed:  1.4min\n",
      "[Parallel(n_jobs=-1)]: Done 134 tasks      | elapsed:  1.4min\n",
      "[Parallel(n_jobs=-1)]: Done 135 tasks      | elapsed:  1.4min\n",
      "[Parallel(n_jobs=-1)]: Done 136 tasks      | elapsed:  1.4min\n",
      "[Parallel(n_jobs=-1)]: Done 137 tasks      | elapsed:  1.4min\n",
      "[Parallel(n_jobs=-1)]: Done 138 tasks      | elapsed:  1.4min\n",
      "[Parallel(n_jobs=-1)]: Done 139 tasks      | elapsed:  1.4min\n",
      "[Parallel(n_jobs=-1)]: Done 140 tasks      | elapsed:  1.4min\n",
      "[Parallel(n_jobs=-1)]: Done 141 tasks      | elapsed:  1.5min\n",
      "[Parallel(n_jobs=-1)]: Done 142 tasks      | elapsed:  1.5min\n",
      "[Parallel(n_jobs=-1)]: Done 143 tasks      | elapsed:  1.5min\n",
      "[Parallel(n_jobs=-1)]: Done 144 tasks      | elapsed:  1.5min\n",
      "[Parallel(n_jobs=-1)]: Done 145 tasks      | elapsed:  1.5min\n",
      "[Parallel(n_jobs=-1)]: Done 146 tasks      | elapsed:  1.5min\n",
      "[Parallel(n_jobs=-1)]: Done 147 tasks      | elapsed:  1.5min\n",
      "[Parallel(n_jobs=-1)]: Done 148 tasks      | elapsed:  1.5min\n",
      "[Parallel(n_jobs=-1)]: Done 149 tasks      | elapsed:  1.5min\n",
      "[Parallel(n_jobs=-1)]: Done 150 tasks      | elapsed:  1.5min\n",
      "[Parallel(n_jobs=-1)]: Done 151 tasks      | elapsed:  1.6min\n",
      "[Parallel(n_jobs=-1)]: Done 152 tasks      | elapsed:  1.6min\n",
      "[Parallel(n_jobs=-1)]: Done 153 tasks      | elapsed:  1.6min\n",
      "[Parallel(n_jobs=-1)]: Done 154 tasks      | elapsed:  1.6min\n",
      "[Parallel(n_jobs=-1)]: Done 155 tasks      | elapsed:  1.6min\n",
      "[Parallel(n_jobs=-1)]: Done 156 tasks      | elapsed:  1.6min\n",
      "[Parallel(n_jobs=-1)]: Done 157 tasks      | elapsed:  1.6min\n",
      "[Parallel(n_jobs=-1)]: Done 158 tasks      | elapsed:  1.6min\n",
      "[Parallel(n_jobs=-1)]: Done 159 tasks      | elapsed:  1.6min\n",
      "[Parallel(n_jobs=-1)]: Done 160 tasks      | elapsed:  1.6min\n",
      "[Parallel(n_jobs=-1)]: Done 161 tasks      | elapsed:  1.7min\n",
      "[Parallel(n_jobs=-1)]: Done 162 tasks      | elapsed:  1.7min\n",
      "[Parallel(n_jobs=-1)]: Done 163 tasks      | elapsed:  1.7min\n",
      "[Parallel(n_jobs=-1)]: Done 164 tasks      | elapsed:  1.7min\n",
      "[Parallel(n_jobs=-1)]: Done 165 tasks      | elapsed:  1.7min\n",
      "[Parallel(n_jobs=-1)]: Done 166 tasks      | elapsed:  1.7min\n",
      "[Parallel(n_jobs=-1)]: Done 167 tasks      | elapsed:  1.7min\n",
      "[Parallel(n_jobs=-1)]: Done 168 tasks      | elapsed:  1.7min\n",
      "[Parallel(n_jobs=-1)]: Done 169 tasks      | elapsed:  1.7min\n",
      "[Parallel(n_jobs=-1)]: Done 170 tasks      | elapsed:  1.8min\n",
      "[Parallel(n_jobs=-1)]: Done 171 tasks      | elapsed:  1.8min\n",
      "[Parallel(n_jobs=-1)]: Done 172 tasks      | elapsed:  1.8min\n",
      "[Parallel(n_jobs=-1)]: Done 173 tasks      | elapsed:  1.8min\n",
      "[Parallel(n_jobs=-1)]: Done 174 tasks      | elapsed:  1.8min\n",
      "[Parallel(n_jobs=-1)]: Done 175 tasks      | elapsed:  1.8min\n",
      "[Parallel(n_jobs=-1)]: Done 176 tasks      | elapsed:  1.8min\n",
      "[Parallel(n_jobs=-1)]: Done 177 tasks      | elapsed:  1.8min\n",
      "[Parallel(n_jobs=-1)]: Done 178 tasks      | elapsed:  1.8min\n",
      "[Parallel(n_jobs=-1)]: Done 179 tasks      | elapsed:  1.8min\n",
      "[Parallel(n_jobs=-1)]: Done 180 tasks      | elapsed:  1.9min\n",
      "[Parallel(n_jobs=-1)]: Done 181 tasks      | elapsed:  1.9min\n",
      "[Parallel(n_jobs=-1)]: Done 182 tasks      | elapsed:  1.9min\n",
      "[Parallel(n_jobs=-1)]: Done 183 tasks      | elapsed:  1.9min\n",
      "[Parallel(n_jobs=-1)]: Done 184 tasks      | elapsed:  1.9min\n",
      "[Parallel(n_jobs=-1)]: Done 185 tasks      | elapsed:  1.9min\n",
      "[Parallel(n_jobs=-1)]: Done 186 tasks      | elapsed:  1.9min\n",
      "[Parallel(n_jobs=-1)]: Done 187 tasks      | elapsed:  1.9min\n",
      "[Parallel(n_jobs=-1)]: Done 188 tasks      | elapsed:  1.9min\n",
      "[Parallel(n_jobs=-1)]: Done 189 tasks      | elapsed:  2.0min\n",
      "[Parallel(n_jobs=-1)]: Done 190 tasks      | elapsed:  2.0min\n",
      "[Parallel(n_jobs=-1)]: Done 191 tasks      | elapsed:  2.0min\n",
      "[Parallel(n_jobs=-1)]: Done 192 tasks      | elapsed:  2.0min\n",
      "[Parallel(n_jobs=-1)]: Done 193 tasks      | elapsed:  2.0min\n",
      "[Parallel(n_jobs=-1)]: Done 194 tasks      | elapsed:  2.0min\n",
      "[Parallel(n_jobs=-1)]: Done 195 tasks      | elapsed:  2.0min\n",
      "[Parallel(n_jobs=-1)]: Done 196 tasks      | elapsed:  2.0min\n",
      "[Parallel(n_jobs=-1)]: Done 197 tasks      | elapsed:  2.0min\n",
      "[Parallel(n_jobs=-1)]: Done 200 out of 200 | elapsed:  2.1min finished\n"
     ]
    },
    {
     "data": {
      "text/plain": [
       "RandomizedSearchCV(cv=10, error_score='raise-deprecating',\n",
       "                   estimator=XGBClassifier(base_score=0.5, booster='gbtree',\n",
       "                                           colsample_bylevel=0.6,\n",
       "                                           colsample_bynode=1,\n",
       "                                           colsample_bytree=0.6, gamma=7,\n",
       "                                           learning_rate=0.1, max_delta_step=1,\n",
       "                                           max_depth=3, min_child_weight=2,\n",
       "                                           missing=None, n_estimators=100,\n",
       "                                           n_jobs=1, nthread=None,\n",
       "                                           objective='binary:logistic',\n",
       "                                           random_state=0, reg_al...\n",
       "                                                      0.5, 0.6, 0.7, 0.8, 0.9,\n",
       "                                                      1.0, 1.1, 1.2, 1.3, 1.4,\n",
       "                                                      1.5, 1.6, 1.7, 1.8, 1.9,\n",
       "                                                      2.0, 2.1, 2.2, 2.3, 2.4,\n",
       "                                                      2.5, 2.6, 2.7, 2.8, 2.9, ...],\n",
       "                                        'reg_lambda': [0.0, 0.1, 0.2, 0.3, 0.4,\n",
       "                                                       0.5, 0.6, 0.7, 0.8, 0.9,\n",
       "                                                       1.0, 1.1, 1.2, 1.3, 1.4,\n",
       "                                                       1.5, 1.6, 1.7, 1.8, 1.9,\n",
       "                                                       2.0, 2.1, 2.2, 2.3, 2.4,\n",
       "                                                       2.5, 2.6, 2.7, 2.8, 2.9, ...]},\n",
       "                   pre_dispatch='2*n_jobs', random_state=None, refit=True,\n",
       "                   return_train_score=False, scoring='roc_auc', verbose=20)"
      ]
     },
     "execution_count": 89,
     "metadata": {
      "tags": []
     },
     "output_type": "execute_result"
    }
   ],
   "source": [
    "random___search.fit(cartrain_train_independent,cartrain_train_dependent)"
   ]
  },
  {
   "cell_type": "code",
   "execution_count": 90,
   "metadata": {
    "colab": {
     "base_uri": "https://localhost:8080/",
     "height": 237
    },
    "colab_type": "code",
    "id": "bs8ZmpuOIPPr",
    "outputId": "ab12c86a-13d5-4c37-b521-cf99865c5a94"
   },
   "outputs": [
    {
     "name": "stdout",
     "output_type": "stream",
     "text": [
      "Model with rank: 1\n",
      "Mean validation score: 0.753 (std: 0.036)\n",
      "Parameters: {'reg_lambda': 0.5, 'reg_alpha': 3.2}\n",
      "\n",
      "Model with rank: 2\n",
      "Mean validation score: 0.753 (std: 0.036)\n",
      "Parameters: {'reg_lambda': 0.5, 'reg_alpha': 3.2}\n",
      "\n",
      "Model with rank: 3\n",
      "Mean validation score: 0.753 (std: 0.036)\n",
      "Parameters: {'reg_lambda': 0.5, 'reg_alpha': 3.2}\n",
      "\n"
     ]
    }
   ],
   "source": [
    "report(random___search.cv_results_)"
   ]
  },
  {
   "cell_type": "code",
   "execution_count": 0,
   "metadata": {
    "colab": {},
    "colab_type": "code",
    "id": "EXEGUF7fIPPt"
   },
   "outputs": [],
   "source": [
    "xgb7 = XGBClassifier(learning_rate=0.1,n_estimators=100,subsample=0.8,colsample_bytree=0.6,colsample_bylevel=0.6,\n",
    "                    min_child_weight=2,max_depth=3,scale_pos_weight=3,max_delta_step=1,gamma=7,reg_lambda=0.5,reg_alpha=0.5)"
   ]
  },
  {
   "cell_type": "code",
   "execution_count": 92,
   "metadata": {
    "colab": {
     "base_uri": "https://localhost:8080/",
     "height": 146
    },
    "colab_type": "code",
    "id": "WOZ63ZnhIPPw",
    "outputId": "9398c73f-3389-4444-84ba-98ecf8533c65"
   },
   "outputs": [
    {
     "data": {
      "text/plain": [
       "XGBClassifier(base_score=0.5, booster='gbtree', colsample_bylevel=0.6,\n",
       "              colsample_bynode=1, colsample_bytree=0.6, gamma=7,\n",
       "              learning_rate=0.1, max_delta_step=1, max_depth=3,\n",
       "              min_child_weight=2, missing=None, n_estimators=100, n_jobs=1,\n",
       "              nthread=None, objective='binary:logistic', random_state=0,\n",
       "              reg_alpha=3.2, reg_lambda=0.5, scale_pos_weight=3, seed=None,\n",
       "              silent=None, subsample=0.8, verbosity=1)"
      ]
     },
     "execution_count": 92,
     "metadata": {
      "tags": []
     },
     "output_type": "execute_result"
    }
   ],
   "source": [
    "random___search.best_estimator_"
   ]
  },
  {
   "cell_type": "code",
   "execution_count": 0,
   "metadata": {
    "colab": {},
    "colab_type": "code",
    "id": "peTGNw2QIPPz"
   },
   "outputs": [],
   "source": [
    "xgbr = random___search.best_estimator_"
   ]
  },
  {
   "cell_type": "code",
   "execution_count": 94,
   "metadata": {
    "colab": {
     "base_uri": "https://localhost:8080/",
     "height": 146
    },
    "colab_type": "code",
    "id": "oCi5QPQyIPP2",
    "outputId": "544ec634-d86d-402b-9720-a172d3b59cb1"
   },
   "outputs": [
    {
     "data": {
      "text/plain": [
       "XGBClassifier(base_score=0.5, booster='gbtree', colsample_bylevel=0.6,\n",
       "              colsample_bynode=1, colsample_bytree=0.6, gamma=7,\n",
       "              learning_rate=0.1, max_delta_step=1, max_depth=3,\n",
       "              min_child_weight=2, missing=None, n_estimators=100, n_jobs=1,\n",
       "              nthread=None, objective='binary:logistic', random_state=0,\n",
       "              reg_alpha=3.2, reg_lambda=0.5, scale_pos_weight=3, seed=None,\n",
       "              silent=None, subsample=0.8, verbosity=1)"
      ]
     },
     "execution_count": 94,
     "metadata": {
      "tags": []
     },
     "output_type": "execute_result"
    }
   ],
   "source": [
    "xgbr.fit(cartrain_train_independent,cartrain_train_dependent)"
   ]
  },
  {
   "cell_type": "code",
   "execution_count": 0,
   "metadata": {
    "colab": {},
    "colab_type": "code",
    "id": "0qQZIM8qIPP4"
   },
   "outputs": [],
   "source": [
    "train_score = xgbr.predict_proba(cartrain_train_independent)[:,1]\n",
    "real = cartrain_test_dependent"
   ]
  },
  {
   "cell_type": "code",
   "execution_count": 96,
   "metadata": {
    "colab": {
     "base_uri": "https://localhost:8080/",
     "height": 54
    },
    "colab_type": "code",
    "id": "ZLYoUjGjIPP8",
    "outputId": "4dbaa724-a557-41ee-8fc4-1a4e0fadaf6a"
   },
   "outputs": [
    {
     "data": {
      "text/plain": [
       "array([0.06397086, 0.09597103, 0.09597103, ..., 0.05714943, 0.04212741,\n",
       "       0.16878046], dtype=float32)"
      ]
     },
     "execution_count": 96,
     "metadata": {
      "tags": []
     },
     "output_type": "execute_result"
    }
   ],
   "source": [
    "train_score"
   ]
  },
  {
   "cell_type": "markdown",
   "metadata": {
    "colab_type": "text",
    "id": "22iQU_WZL4sD"
   },
   "source": [
    "# Using better estimate paramater "
   ]
  },
  {
   "cell_type": "code",
   "execution_count": 1,
   "metadata": {
    "colab": {},
    "colab_type": "code",
    "id": "eM8xlRD9IPP-"
   },
   "outputs": [],
   "source": [
    "from sklearn.model_selection import cross_val_score"
   ]
  },
  {
   "cell_type": "code",
   "execution_count": 106,
   "metadata": {
    "colab": {
     "base_uri": "https://localhost:8080/",
     "height": 256
    },
    "colab_type": "code",
    "id": "cIkx4bgSIPQA",
    "outputId": "86894809-3fd4-4a46-f61e-2cac1b50c5e9"
   },
   "outputs": [
    {
     "name": "stderr",
     "output_type": "stream",
     "text": [
      "[Parallel(n_jobs=-1)]: Using backend LokyBackend with 2 concurrent workers.\n",
      "[Parallel(n_jobs=-1)]: Done   1 tasks      | elapsed:    2.8s\n",
      "[Parallel(n_jobs=-1)]: Done   2 tasks      | elapsed:    2.8s\n",
      "[Parallel(n_jobs=-1)]: Done   3 tasks      | elapsed:    4.4s\n",
      "[Parallel(n_jobs=-1)]: Done   4 tasks      | elapsed:    4.4s\n",
      "[Parallel(n_jobs=-1)]: Done   5 tasks      | elapsed:    5.9s\n",
      "[Parallel(n_jobs=-1)]: Done   6 tasks      | elapsed:    5.9s\n",
      "[Parallel(n_jobs=-1)]: Done   7 tasks      | elapsed:    7.5s\n",
      "[Parallel(n_jobs=-1)]: Done   8 out of  10 | elapsed:    7.5s remaining:    1.9s\n",
      "[Parallel(n_jobs=-1)]: Done  10 out of  10 | elapsed:    9.0s remaining:    0.0s\n",
      "[Parallel(n_jobs=-1)]: Done  10 out of  10 | elapsed:    9.0s finished\n"
     ]
    },
    {
     "data": {
      "text/plain": [
       "array([0.78183003, 0.80531804, 0.75675182, 0.75680396, 0.79879864,\n",
       "       0.75016976, 0.77761818, 0.74147297, 0.76287773, 0.83611141])"
      ]
     },
     "execution_count": 106,
     "metadata": {
      "tags": []
     },
     "output_type": "execute_result"
    }
   ],
   "source": [
    "cross_val_score(xgb7,cartrain_independent,cartrain_dependent,scoring=\"roc_auc\",verbose=20,n_jobs=-1,cv=10)"
   ]
  },
  {
   "cell_type": "code",
   "execution_count": 0,
   "metadata": {
    "colab": {},
    "colab_type": "code",
    "id": "epmWhKiVIPQD"
   },
   "outputs": [],
   "source": [
    "scores = [0.78183003, 0.80531804, 0.75675182, 0.75680396, 0.79879864,\n",
    "       0.75016976, 0.77761818, 0.74147297, 0.76287773, 0.83611141]"
   ]
  },
  {
   "cell_type": "code",
   "execution_count": 108,
   "metadata": {
    "colab": {
     "base_uri": "https://localhost:8080/",
     "height": 35
    },
    "colab_type": "code",
    "id": "elAAUGWaIPQG",
    "outputId": "345fb3e7-cee3-42ef-f88d-f931713df5e8"
   },
   "outputs": [
    {
     "data": {
      "text/plain": [
       "0.7767752539999999"
      ]
     },
     "execution_count": 108,
     "metadata": {
      "tags": []
     },
     "output_type": "execute_result"
    }
   ],
   "source": [
    "np.mean(scores)"
   ]
  },
  {
   "cell_type": "code",
   "execution_count": 109,
   "metadata": {
    "colab": {
     "base_uri": "https://localhost:8080/",
     "height": 35
    },
    "colab_type": "code",
    "id": "jF8M3mJbIPQJ",
    "outputId": "ffd41867-2e73-41ce-88db-0c6c0bb9a240"
   },
   "outputs": [
    {
     "data": {
      "text/plain": [
       "0.027917371097889634"
      ]
     },
     "execution_count": 109,
     "metadata": {
      "tags": []
     },
     "output_type": "execute_result"
    }
   ],
   "source": [
    "np.std(scores)"
   ]
  },
  {
   "cell_type": "markdown",
   "metadata": {
    "colab_type": "text",
    "id": "_mC_k4hEIPQW"
   },
   "source": [
    "# For KS Cutoff"
   ]
  },
  {
   "cell_type": "code",
   "execution_count": 0,
   "metadata": {
    "colab": {},
    "colab_type": "code",
    "id": "WbZDGg4fIPQY"
   },
   "outputs": [],
   "source": [
    "train_score = xgbr.predict_proba(cartrain_train_independent)[:,1]\n",
    "real = cartrain_train_dependent\n",
    "KS_all = []\n",
    "\n",
    "for cutoff in cutoffs:\n",
    "    predicted = (train_score>mycutoff).astype(int)\n",
    "    \n",
    "    TP = ((predicted==1) & (real==1)).sum()\n",
    "    TN = ((predicted==0) & (real==0)).sum()\n",
    "    FP = ((predicted==1) & (real==0)).sum()\n",
    "    FN = ((predicted==0) & (real==1)).sum()\n",
    "    \n",
    "    P = TP + FN\n",
    "    N = TN + FP\n",
    "    \n",
    "    KS = (TP/P)-(FP/N)\n",
    "    KS_all.append(KS)"
   ]
  },
  {
   "cell_type": "code",
   "execution_count": 2,
   "metadata": {
    "colab": {
     "base_uri": "https://localhost:8080/",
     "height": 1000
    },
    "colab_type": "code",
    "id": "Z_JHe2lqIPQa",
    "outputId": "f0113491-28ed-4437-c4b8-63f1330be360"
   },
   "outputs": [],
   "source": [
    "#(zip(cutoffs,KS_all))"
   ]
  },
  {
   "cell_type": "code",
   "execution_count": 0,
   "metadata": {
    "colab": {},
    "colab_type": "code",
    "id": "cMne9wSWIPQd"
   },
   "outputs": [],
   "source": [
    "mycutoff = cutoffs[KS_all == max(KS_all)][0]"
   ]
  },
  {
   "cell_type": "code",
   "execution_count": 114,
   "metadata": {
    "colab": {
     "base_uri": "https://localhost:8080/",
     "height": 35
    },
    "colab_type": "code",
    "id": "NYeGBcMzIPQf",
    "outputId": "2eee22dd-dfbc-447a-f0b7-947539e422fb"
   },
   "outputs": [
    {
     "data": {
      "text/plain": [
       "0.0"
      ]
     },
     "execution_count": 114,
     "metadata": {
      "tags": []
     },
     "output_type": "execute_result"
    }
   ],
   "source": [
    "mycutoff"
   ]
  },
  {
   "cell_type": "code",
   "execution_count": 0,
   "metadata": {
    "colab": {},
    "colab_type": "code",
    "id": "5VPZGlAwIPQg"
   },
   "outputs": [],
   "source": [
    "train_classes = (train_score > mycutoff).astype(int)"
   ]
  },
  {
   "cell_type": "code",
   "execution_count": 116,
   "metadata": {
    "colab": {
     "base_uri": "https://localhost:8080/",
     "height": 35
    },
    "colab_type": "code",
    "id": "0kjIsJWrIPQi",
    "outputId": "671813eb-e7a6-4e9b-89cd-f4847a606a9f"
   },
   "outputs": [
    {
     "data": {
      "text/plain": [
       "array([1, 1, 1, ..., 1, 1, 1])"
      ]
     },
     "execution_count": 116,
     "metadata": {
      "tags": []
     },
     "output_type": "execute_result"
    }
   ],
   "source": [
    "train_classes"
   ]
  },
  {
   "cell_type": "code",
   "execution_count": 117,
   "metadata": {
    "colab": {
     "base_uri": "https://localhost:8080/",
     "height": 127
    },
    "colab_type": "code",
    "id": "FoAZ6aD0IPQk",
    "outputId": "0560752f-1f9d-47d6-d53d-d8a0bdfd19b9"
   },
   "outputs": [
    {
     "name": "stdout",
     "output_type": "stream",
     "text": [
      "confusion matrix :\n",
      " \n",
      "  predicted     0     1\n",
      "real                 \n",
      "0.0        1297  3082\n",
      "1.0           2   276\n"
     ]
    }
   ],
   "source": [
    "df_test=pd.DataFrame(list(zip(real,predicted)),columns=[\"real\",\"predicted\"])\n",
    "df_test\n",
    "\n",
    "k=pd.crosstab(df_test['real'],df_test[\"predicted\"])\n",
    "k\n",
    "\n",
    "print('confusion matrix :\\n \\n ',k)\n",
    "TN=k.iloc[0,0]\n",
    "TP=k.iloc[1,1]\n",
    "FP=k.iloc[0,1]\n",
    "FN=k.iloc[1,0]"
   ]
  },
  {
   "cell_type": "code",
   "execution_count": 118,
   "metadata": {
    "colab": {
     "base_uri": "https://localhost:8080/",
     "height": 35
    },
    "colab_type": "code",
    "id": "D4NbsdUWIPQm",
    "outputId": "c333e9e2-da20-4454-faf7-c704fba5192f"
   },
   "outputs": [
    {
     "data": {
      "text/plain": [
       "0.3377710972729225"
      ]
     },
     "execution_count": 118,
     "metadata": {
      "tags": []
     },
     "output_type": "execute_result"
    }
   ],
   "source": [
    "# Accuracy of test\n",
    "(TP+TN)/(P+N)"
   ]
  },
  {
   "cell_type": "code",
   "execution_count": 119,
   "metadata": {
    "colab": {
     "base_uri": "https://localhost:8080/",
     "height": 35
    },
    "colab_type": "code",
    "id": "jSDXGp6PIPQo",
    "outputId": "aedd190d-eddb-4d30-e55e-536f604d5862"
   },
   "outputs": [
    {
     "data": {
      "text/plain": [
       "0.9928057553956835"
      ]
     },
     "execution_count": 119,
     "metadata": {
      "tags": []
     },
     "output_type": "execute_result"
    }
   ],
   "source": [
    "# Sensitivity \n",
    "TP/P"
   ]
  },
  {
   "cell_type": "code",
   "execution_count": 120,
   "metadata": {
    "colab": {
     "base_uri": "https://localhost:8080/",
     "height": 35
    },
    "colab_type": "code",
    "id": "vgvmeEfzIPQq",
    "outputId": "9e3596d9-122f-4c76-f05a-9e507b8a7f45"
   },
   "outputs": [
    {
     "data": {
      "text/plain": [
       "0.2961863439141357"
      ]
     },
     "execution_count": 120,
     "metadata": {
      "tags": []
     },
     "output_type": "execute_result"
    }
   ],
   "source": [
    "#Specificity on test\n",
    "TN/N"
   ]
  },
  {
   "cell_type": "code",
   "execution_count": 0,
   "metadata": {
    "colab": {},
    "colab_type": "code",
    "id": "XZeyc-gKIPQs"
   },
   "outputs": [],
   "source": [
    "from sklearn.metrics import fbeta_score\n",
    "\n",
    "fbeta_score(real, predicted, average='macro', beta=0.5)\n",
    "\n",
    "cartest.head(10)"
   ]
  },
  {
   "cell_type": "code",
   "execution_count": 125,
   "metadata": {
    "colab": {
     "base_uri": "https://localhost:8080/",
     "height": 109
    },
    "colab_type": "code",
    "id": "cyaYO8JcIPQ0",
    "outputId": "f4be4844-f66b-4e6e-d8f6-a80dfdf70325"
   },
   "outputs": [
    {
     "name": "stderr",
     "output_type": "stream",
     "text": [
      "/usr/local/lib/python3.6/dist-packages/pandas/core/frame.py:4117: SettingWithCopyWarning: \n",
      "A value is trying to be set on a copy of a slice from a DataFrame\n",
      "\n",
      "See the caveats in the documentation: http://pandas.pydata.org/pandas-docs/stable/user_guide/indexing.html#returning-a-view-versus-a-copy\n",
      "  errors=errors,\n"
     ]
    }
   ],
   "source": [
    "cartest.drop('V86',axis = 1,inplace=True)"
   ]
  },
  {
   "cell_type": "code",
   "execution_count": 43,
   "metadata": {},
   "outputs": [],
   "source": [
    "cartest_independent = cartest.drop([\"V86\",\"data\"],axis = 1)\n",
    "cartest_dependent = cartest[\"V86\"]"
   ]
  },
  {
   "cell_type": "code",
   "execution_count": 44,
   "metadata": {
    "colab": {
     "base_uri": "https://localhost:8080/",
     "height": 343
    },
    "colab_type": "code",
    "id": "kNIrrnmKIPQ7",
    "outputId": "6abe4de3-8079-4f4a-94dd-c4fb6a61d865"
   },
   "outputs": [
    {
     "ename": "NameError",
     "evalue": "name 'xgbr' is not defined",
     "output_type": "error",
     "traceback": [
      "\u001b[1;31m---------------------------------------------------------------------------\u001b[0m",
      "\u001b[1;31mNameError\u001b[0m                                 Traceback (most recent call last)",
      "\u001b[1;32m<ipython-input-44-18ce9f5299fd>\u001b[0m in \u001b[0;36m<module>\u001b[1;34m()\u001b[0m\n\u001b[1;32m----> 1\u001b[1;33m \u001b[0mtest_score\u001b[0m \u001b[1;33m=\u001b[0m \u001b[0mxgbr\u001b[0m\u001b[1;33m.\u001b[0m\u001b[0mpredict_proba\u001b[0m\u001b[1;33m(\u001b[0m\u001b[0mcartest_independent\u001b[0m\u001b[1;33m)\u001b[0m\u001b[1;33m[\u001b[0m\u001b[1;33m:\u001b[0m\u001b[1;33m,\u001b[0m\u001b[1;36m1\u001b[0m\u001b[1;33m]\u001b[0m\u001b[1;33m\u001b[0m\u001b[0m\n\u001b[0m",
      "\u001b[1;31mNameError\u001b[0m: name 'xgbr' is not defined"
     ]
    }
   ],
   "source": [
    "test_score = xgbr.predict_proba(cartest_independent)[:,1]"
   ]
  },
  {
   "cell_type": "code",
   "execution_count": 0,
   "metadata": {
    "colab": {},
    "colab_type": "code",
    "id": "tolW-F9bIPQ9"
   },
   "outputs": [],
   "source": [
    "test_classes = (test_score > mycutoff).astype(int)\n"
   ]
  },
  {
   "cell_type": "code",
   "execution_count": 127,
   "metadata": {
    "colab": {
     "base_uri": "https://localhost:8080/",
     "height": 172
    },
    "colab_type": "code",
    "id": "QONoCltZIPRA",
    "outputId": "29d6ffdd-8af9-4784-a1dd-4644027bc8b2"
   },
   "outputs": [
    {
     "ename": "NameError",
     "evalue": "ignored",
     "output_type": "error",
     "traceback": [
      "\u001b[0;31m---------------------------------------------------------------------------\u001b[0m",
      "\u001b[0;31mNameError\u001b[0m                                 Traceback (most recent call last)",
      "\u001b[0;32m<ipython-input-127-54246cde2660>\u001b[0m in \u001b[0;36m<module>\u001b[0;34m()\u001b[0m\n\u001b[0;32m----> 1\u001b[0;31m \u001b[0mpd\u001b[0m\u001b[0;34m.\u001b[0m\u001b[0mDataFrame\u001b[0m\u001b[0;34m(\u001b[0m\u001b[0mtest_classes\u001b[0m\u001b[0;34m)\u001b[0m\u001b[0;34m.\u001b[0m\u001b[0mto_csv\u001b[0m\u001b[0;34m(\u001b[0m\u001b[0;34m\"omkar_mayekar_P2_part2\"\u001b[0m\u001b[0;34m,\u001b[0m\u001b[0mindex\u001b[0m\u001b[0;34m=\u001b[0m\u001b[0;32mFalse\u001b[0m\u001b[0;34m)\u001b[0m\u001b[0;34m\u001b[0m\u001b[0;34m\u001b[0m\u001b[0m\n\u001b[0m",
      "\u001b[0;31mNameError\u001b[0m: name 'test_classes' is not defined"
     ]
    }
   ],
   "source": [
    "pd.DataFrame(test_classes).to_csv(\"omkar_mayekar_P2_part2\",index=False)"
   ]
  },
  {
   "cell_type": "code",
   "execution_count": 0,
   "metadata": {
    "colab": {},
    "colab_type": "code",
    "id": "iNkx0Nx5IPRD"
   },
   "outputs": [],
   "source": []
  }
 ],
 "metadata": {
  "colab": {
   "collapsed_sections": [],
   "name": "Project2_Caravan.ipynb",
   "provenance": []
  },
  "kernelspec": {
   "display_name": "Python 3",
   "language": "python",
   "name": "python3"
  },
  "language_info": {
   "codemirror_mode": {
    "name": "ipython",
    "version": 3
   },
   "file_extension": ".py",
   "mimetype": "text/x-python",
   "name": "python",
   "nbconvert_exporter": "python",
   "pygments_lexer": "ipython3",
   "version": "3.6.4"
  }
 },
 "nbformat": 4,
 "nbformat_minor": 1
}
